{
  "nbformat": 4,
  "nbformat_minor": 0,
  "metadata": {
    "kernelspec": {
      "display_name": "Python 3",
      "language": "python",
      "name": "python3"
    },
    "language_info": {
      "codemirror_mode": {
        "name": "ipython",
        "version": 3
      },
      "file_extension": ".py",
      "mimetype": "text/x-python",
      "name": "python",
      "nbconvert_exporter": "python",
      "pygments_lexer": "ipython3",
      "version": "3.6.1"
    },
    "colab": {
      "name": "sales_forecast.ipynb",
      "provenance": [],
      "toc_visible": true
    },
    "accelerator": "GPU"
  },
  "cells": [
    {
      "cell_type": "markdown",
      "metadata": {
        "id": "v8X4bKHTlWc9",
        "colab_type": "text"
      },
      "source": [
        "# Some setup"
      ]
    },
    {
      "cell_type": "code",
      "metadata": {
        "id": "1MgkGq-MlWc_",
        "colab_type": "code",
        "colab": {}
      },
      "source": [
        "import pandas as pd\n",
        "import matplotlib.pyplot as plt\n",
        "import numpy as np\n",
        "from datetime import datetime\n",
        "from datetime import timedelta\n",
        "import ast\n",
        "from mlxtend.frequent_patterns import apriori\n",
        "from mlxtend.frequent_patterns import association_rules\n",
        "from sklearn.preprocessing import MinMaxScaler\n",
        "from sklearn.metrics import mean_squared_error\n",
        "from keras.models import Sequential\n",
        "from keras.layers import LSTM, Dense\n",
        "from keras.callbacks import EarlyStopping\n",
        "from keras.optimizers import Adam\n",
        "\n",
        "%matplotlib inline  \n",
        "from pylab import rcParams\n",
        "rcParams['figure.figsize'] = 15, 8"
      ],
      "execution_count": 1,
      "outputs": []
    },
    {
      "cell_type": "markdown",
      "metadata": {
        "id": "6quhn-87lWdF",
        "colab_type": "text"
      },
      "source": [
        "# Part 1: Read and parse the data"
      ]
    },
    {
      "cell_type": "markdown",
      "metadata": {
        "id": "hkULCg8elWdG",
        "colab_type": "text"
      },
      "source": [
        "#### Read data as a string"
      ]
    },
    {
      "cell_type": "code",
      "metadata": {
        "id": "PQ1bAnshlWdH",
        "colab_type": "code",
        "colab": {
          "base_uri": "https://localhost:8080/",
          "height": 154
        },
        "outputId": "60ebd931-201d-4334-b43a-edafbe3614d0"
      },
      "source": [
        "with open('sample.txt', 'r') as myfile:\n",
        "    data=myfile.read().replace('\\n', '')\n",
        "data[:5000]"
      ],
      "execution_count": 2,
      "outputs": [
        {
          "output_type": "execute_result",
          "data": {
            "application/vnd.google.colaboratory.intrinsic+json": {
              "type": "string"
            },
            "text/plain": [
              "'[{  \"complemento\": {    \"valorTotal\": 24.9  },  \"dets\": [    {      \"nItem\": \"1\",      \"prod\": {        \"indTot\": \"1\",        \"qCom\": 1.0,        \"uCom\": \"UN\",        \"vProd\": 3.5,        \"vUnCom\": 3.5,        \"xProd\": \"AGUA\"      }    },    {      \"nItem\": \"2\",      \"prod\": {        \"indTot\": \"1\",        \"qCom\": 0.312,        \"uCom\": \"KG\",        \"vProd\": 21.4,        \"vUnCom\": 68.6,        \"xProd\": \"BUFFET\"      }    }  ],  \"emit\": {    \"cnpj\": \"01.234.567/0001-89\",    \"enderEmit\": {      \"fone\": \"1-650-933-4902\",      \"xBairro\": \"\",      \"xLgr\": \"650 Castro St. unit 210\",      \"xMun\": \"Mountain View\",      \"xPais\": \"United States\",      \"uf\": \"CA\"    },    \"xFant\": \"TOTVS Labs\"  },  \"ide\": {    \"dhEmi\": {      \"$date\": \"2016-01-05T12:01:54.000Z\"    },    \"natOp\": \"VENDA\"  },  \"infAdic\": {    \"infCpl\": \"Mesa 2\"  },  \"total\": {    \"icmsTot\": {      \"vDesc\": 0.0,      \"vFrete\": 0.0,      \"vOutro\": 0.0,      \"vProd\": 24.9,      \"vSeg\": 0.0,      \"vTotTrib\": 2.53,      \"vbc\": 0.0,      \"vbcst\": 0.0,      \"vcofins\": 0.0,      \"vicms\": 0.0,      \"vicmsDeson\": 0.0,      \"vii\": 0.0,      \"vipi\": 0.0,      \"vnf\": 24.9,      \"vpis\": 0.0,      \"vst\": 0.0    }  },  \"versaoDocumento\": 1.0},{  \"complemento\": {    \"valorTotal\": 92.53  },  \"dets\": [    {      \"nItem\": \"1\",      \"prod\": {        \"indTot\": \"1\",        \"qCom\": 1.218,        \"uCom\": \"KG\",        \"vProd\": 83.55,        \"vUnCom\": 68.6,        \"xProd\": \"BUFFET\"      }    },    {      \"nItem\": \"2\",      \"prod\": {        \"indTot\": \"1\",        \"qCom\": 2.0,        \"uCom\": \"UN\",        \"vProd\": 9.0,        \"vUnCom\": 4.5,        \"xProd\": \"REFRIGERANTE\"      }    }  ],  \"emit\": {    \"cnpj\": \"01.234.567/0001-89\",    \"enderEmit\": {      \"fone\": \"1-650-933-4902\",      \"xBairro\": \"\",      \"xLgr\": \"650 Castro St. unit 210\",      \"xMun\": \"Mountain View\",      \"xPais\": \"United States\",      \"uf\": \"CA\"    },    \"xFant\": \"TOTVS Labs\"  },  \"ide\": {    \"dhEmi\": {      \"$date\": \"2016-01-05T12:03:52.000Z\"    },    \"natOp\": \"VENDA\"  },  \"infAdic\": {    \"infCpl\": \"Mesa 1\"  },  \"total\": {    \"icmsTot\": {      \"vDesc\": 0.0,      \"vFrete\": 0.0,      \"vOutro\": 0.0,      \"vProd\": 92.55,      \"vSeg\": 0.0,      \"vTotTrib\": 7.71,      \"vbc\": 0.0,      \"vbcst\": 0.0,      \"vcofins\": 0.0,      \"vicms\": 0.0,      \"vicmsDeson\": 0.0,      \"vii\": 0.0,      \"vipi\": 0.0,      \"vnf\": 92.55,      \"vpis\": 0.0,      \"vst\": 0.0    }  },  \"versaoDocumento\": 1.0},{  \"complemento\": {    \"valorTotal\": 57.86  },  \"dets\": [    {      \"nItem\": \"1\",      \"prod\": {        \"indTot\": \"1\",        \"qCom\": 1.0,        \"uCom\": \"UN\",        \"vProd\": 4.5,        \"vUnCom\": 4.5,        \"xProd\": \"SUCO\"      }    },    {      \"nItem\": \"2\",      \"prod\": {        \"indTot\": \"1\",        \"qCom\": 0.778,        \"uCom\": \"KG\",        \"vProd\": 53.37,        \"vUnCom\": 68.6,        \"xProd\": \"BUFFET\"      }    }  ],  \"emit\": {    \"cnpj\": \"01.234.567/0001-89\",    \"enderEmit\": {      \"fone\": \"1-650-933-4902\",      \"xBairro\": \"\",      \"xLgr\": \"650 Castro St. unit 210\",      \"xMun\": \"Mountain View\",      \"xPais\": \"United States\",      \"uf\": \"CA\"    },    \"xFant\": \"TOTVS Labs\"  },  \"ide\": {    \"dhEmi\": {      \"$date\": \"2016-01-05T12:16:40.000Z\"    },    \"natOp\": \"VENDA\"  },  \"infAdic\": {    \"infCpl\": \"Mesa 5\"  },  \"total\": {    \"icmsTot\": {      \"vDesc\": 0.0,      \"vFrete\": 0.0,      \"vOutro\": 0.0,      \"vProd\": 57.87,      \"vSeg\": 0.0,      \"vTotTrib\": 2.43,      \"vbc\": 0.0,      \"vbcst\": 0.0,      \"vcofins\": 0.0,      \"vicms\": 0.0,      \"vicmsDeson\": 0.0,      \"vii\": 0.0,      \"vipi\": 0.0,      \"vnf\": 57.87,      \"vpis\": 0.0,      \"vst\": 0.0    }  },  \"versaoDocumento\": 1.0},{  \"complemento\": {    \"valorTotal\": 34.97  },  \"dets\": [    {      \"nItem\": \"1\",      \"prod\": {        \"indTot\": \"1\",        \"qCom\": 0.51,        \"uCom\": \"KG\",        \"vProd\": 34.98,        \"vUnCom\": 68.6,        \"xProd\": \"BUFFET\"      }    }  ],  \"emit\": {    \"cnpj\": \"01.234.567/0001-89\",    \"enderEmit\": {      \"fone\": \"1-650-933-4902\",      \"xBairro\": \"\",      \"xLgr\": \"650 Castro St. unit 210\",      \"xMun\": \"Mountain View\",      \"xPais\": \"United States\",      \"uf\": \"CA\"    },    \"xFant\": \"TOTVS Labs\"  },  \"ide\": {    \"dhEmi\": {      \"$date\": \"2016-01-05T12:17:50.000Z\"    },    \"natOp\": \"VENDA\"  },  \"infAdic\": {    \"infCpl\": \"Mesa 3\"  },  \"total\": {    \"icmsTot\": {      \"vDesc\": 0.0,      \"vFrete\": 0.0,      \"vOutro\": 0.0,      \"vProd\": 34.98,      \"vSeg\": 0.0,      \"vTotTrib\": 1.47,      \"vbc\": 0.0,      \"vbcst\": 0.0,      \"vcofins\": 0.0,      \"vicms\": 0.0,      \"vicmsDeson\": 0.0,      \"vii\": 0.0,      \"vipi\": 0.0,      \"vnf\": 34.98,      \"vpis\": 0.0,      \"vst\": 0.0    }  },  \"versaoDocumento\": 1.0},{  \"complemento\": {    \"valorTotal\": 46.23  },  \"dets\": [    {      \"nItem\": \"1\",      \"prod\": {        \"indTot\": \"1\",        \"qCom\": 0.674,        \"uCom\": \"KG\",        \"vProd\": 46.23,        \"vUnCom\": 68.6,        \"xProd\": \"BUFFET\"      }    }  ],  \"emit\": {    \"cnpj\": \"01.234.567/0001-89\",    \"enderEmit\": {      \"fone\": \"1-650-933-4902\",      \"xBairro\": \"\",      \"xLgr\"'"
            ]
          },
          "metadata": {
            "tags": []
          },
          "execution_count": 2
        }
      ]
    },
    {
      "cell_type": "markdown",
      "metadata": {
        "id": "iY9vfbiYlWdN",
        "colab_type": "text"
      },
      "source": [
        "#### It appears that the string defines a list of dictionaries. Convert to list of dictionaries"
      ]
    },
    {
      "cell_type": "code",
      "metadata": {
        "id": "5VHg7tlElWdO",
        "colab_type": "code",
        "colab": {
          "base_uri": "https://localhost:8080/",
          "height": 748
        },
        "outputId": "a106a41b-88bd-4502-f7bb-05fb10e5f99c"
      },
      "source": [
        "data = ast.literal_eval(data)\n",
        "print('number of dictionaries =', len(data))\n",
        "data[0]"
      ],
      "execution_count": 3,
      "outputs": [
        {
          "output_type": "stream",
          "text": [
            "number of dictionaries = 1635\n"
          ],
          "name": "stdout"
        },
        {
          "output_type": "execute_result",
          "data": {
            "text/plain": [
              "{'complemento': {'valorTotal': 24.9},\n",
              " 'dets': [{'nItem': '1',\n",
              "   'prod': {'indTot': '1',\n",
              "    'qCom': 1.0,\n",
              "    'uCom': 'UN',\n",
              "    'vProd': 3.5,\n",
              "    'vUnCom': 3.5,\n",
              "    'xProd': 'AGUA'}},\n",
              "  {'nItem': '2',\n",
              "   'prod': {'indTot': '1',\n",
              "    'qCom': 0.312,\n",
              "    'uCom': 'KG',\n",
              "    'vProd': 21.4,\n",
              "    'vUnCom': 68.6,\n",
              "    'xProd': 'BUFFET'}}],\n",
              " 'emit': {'cnpj': '01.234.567/0001-89',\n",
              "  'enderEmit': {'fone': '1-650-933-4902',\n",
              "   'uf': 'CA',\n",
              "   'xBairro': '',\n",
              "   'xLgr': '650 Castro St. unit 210',\n",
              "   'xMun': 'Mountain View',\n",
              "   'xPais': 'United States'},\n",
              "  'xFant': 'TOTVS Labs'},\n",
              " 'ide': {'dhEmi': {'$date': '2016-01-05T12:01:54.000Z'}, 'natOp': 'VENDA'},\n",
              " 'infAdic': {'infCpl': 'Mesa 2'},\n",
              " 'total': {'icmsTot': {'vDesc': 0.0,\n",
              "   'vFrete': 0.0,\n",
              "   'vOutro': 0.0,\n",
              "   'vProd': 24.9,\n",
              "   'vSeg': 0.0,\n",
              "   'vTotTrib': 2.53,\n",
              "   'vbc': 0.0,\n",
              "   'vbcst': 0.0,\n",
              "   'vcofins': 0.0,\n",
              "   'vicms': 0.0,\n",
              "   'vicmsDeson': 0.0,\n",
              "   'vii': 0.0,\n",
              "   'vipi': 0.0,\n",
              "   'vnf': 24.9,\n",
              "   'vpis': 0.0,\n",
              "   'vst': 0.0}},\n",
              " 'versaoDocumento': 1.0}"
            ]
          },
          "metadata": {
            "tags": []
          },
          "execution_count": 3
        }
      ]
    },
    {
      "cell_type": "markdown",
      "metadata": {
        "id": "8knJOnBZlWdT",
        "colab_type": "text"
      },
      "source": [
        "#### There are 6 fields in each dictionary: complemento, dets, emit, ide, infAdic and total. Let's write the code to parse each field one-by-one"
      ]
    },
    {
      "cell_type": "markdown",
      "metadata": {
        "id": "r3CLlTKXlWdU",
        "colab_type": "text"
      },
      "source": [
        "## complemento\n",
        "\n",
        "#### Looks like the total of the bill"
      ]
    },
    {
      "cell_type": "code",
      "metadata": {
        "id": "sCy3Mr5blWdV",
        "colab_type": "code",
        "colab": {
          "base_uri": "https://localhost:8080/",
          "height": 51
        },
        "outputId": "7231e83b-df9e-4284-afc4-eef3464b79ff"
      },
      "source": [
        "def parse_complemento(d):\n",
        "    return pd.Series(d['complemento'])\n",
        "parse_complemento(data[0])"
      ],
      "execution_count": 4,
      "outputs": [
        {
          "output_type": "execute_result",
          "data": {
            "text/plain": [
              "valorTotal    24.9\n",
              "dtype: float64"
            ]
          },
          "metadata": {
            "tags": []
          },
          "execution_count": 4
        }
      ]
    },
    {
      "cell_type": "markdown",
      "metadata": {
        "id": "iGGqVVDzlWdZ",
        "colab_type": "text"
      },
      "source": [
        "## dets\n",
        "\n",
        "#### Looks like a list of all the items purchased. First get a unique list of products that people ate/drank"
      ]
    },
    {
      "cell_type": "code",
      "metadata": {
        "id": "0Z1pnUCclWda",
        "colab_type": "code",
        "colab": {
          "base_uri": "https://localhost:8080/",
          "height": 425
        },
        "outputId": "e8fa5768-e3b1-4b79-8747-99260b805291"
      },
      "source": [
        "products = []\n",
        "for d in data:    \n",
        "    dets = d['dets']    \n",
        "    for product in dets:        \n",
        "        product_name = product['prod']['xProd']\n",
        "        if product_name not in products:            \n",
        "            products.append(product_name)            \n",
        "products   "
      ],
      "execution_count": 5,
      "outputs": [
        {
          "output_type": "execute_result",
          "data": {
            "text/plain": [
              "['AGUA',\n",
              " 'BUFFET',\n",
              " 'REFRIGERANTE',\n",
              " 'SUCO',\n",
              " 'CERVEJA',\n",
              " 'CHA',\n",
              " 'DOCINHOS',\n",
              " 'LIMONADA',\n",
              " 'HARUMAKI',\n",
              " 'CAFE EXPRESSO',\n",
              " 'BULE CHA',\n",
              " 'TEMAKI',\n",
              " 'SAKE',\n",
              " 'CERVEJA LATA',\n",
              " 'WHISKY',\n",
              " 'SUSHI ESPECIAL',\n",
              " 'SASHIMI',\n",
              " 'CAIPIROSKA',\n",
              " 'YAKISSOBA',\n",
              " 'SOBREMESA',\n",
              " 'CAIPIRINHA',\n",
              " 'VINHO',\n",
              " 'BACARDI',\n",
              " 'URAMAKI']"
            ]
          },
          "metadata": {
            "tags": []
          },
          "execution_count": 5
        }
      ]
    },
    {
      "cell_type": "markdown",
      "metadata": {
        "id": "PVgeOMJ8lWdf",
        "colab_type": "text"
      },
      "source": [
        "#### The field qCom appears to be the quantity of the product. For each bill let's get a list of the quantity of each available product"
      ]
    },
    {
      "cell_type": "code",
      "metadata": {
        "id": "kXUipu5UlWdg",
        "colab_type": "code",
        "colab": {
          "base_uri": "https://localhost:8080/",
          "height": 442
        },
        "outputId": "ab0dc176-a607-4f37-c446-843aa1695bf7"
      },
      "source": [
        "def parse_dets(d):\n",
        "    s = pd.Series(0, products)\n",
        "    product_quantities = pd.Series({x['prod']['xProd']: x['prod']['qCom'] for x in d['dets']})\n",
        "    s[product_quantities.index] = s[product_quantities.index] + product_quantities    \n",
        "    return s\n",
        "parse_dets(data[0])"
      ],
      "execution_count": 6,
      "outputs": [
        {
          "output_type": "execute_result",
          "data": {
            "text/plain": [
              "AGUA              1.000\n",
              "BUFFET            0.312\n",
              "REFRIGERANTE      0.000\n",
              "SUCO              0.000\n",
              "CERVEJA           0.000\n",
              "CHA               0.000\n",
              "DOCINHOS          0.000\n",
              "LIMONADA          0.000\n",
              "HARUMAKI          0.000\n",
              "CAFE EXPRESSO     0.000\n",
              "BULE CHA          0.000\n",
              "TEMAKI            0.000\n",
              "SAKE              0.000\n",
              "CERVEJA LATA      0.000\n",
              "WHISKY            0.000\n",
              "SUSHI ESPECIAL    0.000\n",
              "SASHIMI           0.000\n",
              "CAIPIROSKA        0.000\n",
              "YAKISSOBA         0.000\n",
              "SOBREMESA         0.000\n",
              "CAIPIRINHA        0.000\n",
              "VINHO             0.000\n",
              "BACARDI           0.000\n",
              "URAMAKI           0.000\n",
              "dtype: float64"
            ]
          },
          "metadata": {
            "tags": []
          },
          "execution_count": 6
        }
      ]
    },
    {
      "cell_type": "markdown",
      "metadata": {
        "id": "zlZIQizilWdl",
        "colab_type": "text"
      },
      "source": [
        "## emit\n",
        "\n",
        "#### Looks like information about the restaurant. Let's see how many unique restaurants are in the dataset"
      ]
    },
    {
      "cell_type": "code",
      "metadata": {
        "id": "kgZzR_odlWdm",
        "colab_type": "code",
        "colab": {
          "base_uri": "https://localhost:8080/",
          "height": 34
        },
        "outputId": "590d098c-39a5-4dd2-fdc5-1102e88323b9"
      },
      "source": [
        "set([x['emit']['enderEmit']['xLgr'] for x in data])"
      ],
      "execution_count": 7,
      "outputs": [
        {
          "output_type": "execute_result",
          "data": {
            "text/plain": [
              "{'650 Castro St. unit 210'}"
            ]
          },
          "metadata": {
            "tags": []
          },
          "execution_count": 7
        }
      ]
    },
    {
      "cell_type": "markdown",
      "metadata": {
        "id": "eO99mpb-lWdr",
        "colab_type": "text"
      },
      "source": [
        "#### Only 1, so we can get rid of this field"
      ]
    },
    {
      "cell_type": "code",
      "metadata": {
        "id": "X1_msO9ElWdr",
        "colab_type": "code",
        "colab": {
          "base_uri": "https://localhost:8080/",
          "height": 595
        },
        "outputId": "6b6e8825-3810-4a65-cb3e-e2774096619f"
      },
      "source": [
        "[x.pop('emit') for x in data]\n",
        "data[0]"
      ],
      "execution_count": 8,
      "outputs": [
        {
          "output_type": "execute_result",
          "data": {
            "text/plain": [
              "{'complemento': {'valorTotal': 24.9},\n",
              " 'dets': [{'nItem': '1',\n",
              "   'prod': {'indTot': '1',\n",
              "    'qCom': 1.0,\n",
              "    'uCom': 'UN',\n",
              "    'vProd': 3.5,\n",
              "    'vUnCom': 3.5,\n",
              "    'xProd': 'AGUA'}},\n",
              "  {'nItem': '2',\n",
              "   'prod': {'indTot': '1',\n",
              "    'qCom': 0.312,\n",
              "    'uCom': 'KG',\n",
              "    'vProd': 21.4,\n",
              "    'vUnCom': 68.6,\n",
              "    'xProd': 'BUFFET'}}],\n",
              " 'ide': {'dhEmi': {'$date': '2016-01-05T12:01:54.000Z'}, 'natOp': 'VENDA'},\n",
              " 'infAdic': {'infCpl': 'Mesa 2'},\n",
              " 'total': {'icmsTot': {'vDesc': 0.0,\n",
              "   'vFrete': 0.0,\n",
              "   'vOutro': 0.0,\n",
              "   'vProd': 24.9,\n",
              "   'vSeg': 0.0,\n",
              "   'vTotTrib': 2.53,\n",
              "   'vbc': 0.0,\n",
              "   'vbcst': 0.0,\n",
              "   'vcofins': 0.0,\n",
              "   'vicms': 0.0,\n",
              "   'vicmsDeson': 0.0,\n",
              "   'vii': 0.0,\n",
              "   'vipi': 0.0,\n",
              "   'vnf': 24.9,\n",
              "   'vpis': 0.0,\n",
              "   'vst': 0.0}},\n",
              " 'versaoDocumento': 1.0}"
            ]
          },
          "metadata": {
            "tags": []
          },
          "execution_count": 8
        }
      ]
    },
    {
      "cell_type": "markdown",
      "metadata": {
        "id": "s4Si-f3TlWdv",
        "colab_type": "text"
      },
      "source": [
        "## ide\n",
        "\n",
        "#### Date and time of transaction. Let's see what dates we have"
      ]
    },
    {
      "cell_type": "code",
      "metadata": {
        "id": "ATUpWMd5lWdw",
        "colab_type": "code",
        "colab": {
          "base_uri": "https://localhost:8080/",
          "height": 306
        },
        "outputId": "e94d7b0f-0738-40c7-fe4c-af9cef4519d2"
      },
      "source": [
        "# what dates do we have?\n",
        "set([x['ide']['dhEmi']['$date'].split('T')[0] for x in data])"
      ],
      "execution_count": 9,
      "outputs": [
        {
          "output_type": "execute_result",
          "data": {
            "text/plain": [
              "{'2016-01-05',\n",
              " '2016-01-06',\n",
              " '2016-01-07',\n",
              " '2016-01-08',\n",
              " '2016-01-09',\n",
              " '2016-01-11',\n",
              " '2016-01-12',\n",
              " '2016-01-13',\n",
              " '2016-01-14',\n",
              " '2016-01-15',\n",
              " '2016-01-16',\n",
              " '2016-01-18',\n",
              " '2016-01-19',\n",
              " '2016-01-20',\n",
              " '2016-01-21',\n",
              " '2016-01-22',\n",
              " '2016-01-23'}"
            ]
          },
          "metadata": {
            "tags": []
          },
          "execution_count": 9
        }
      ]
    },
    {
      "cell_type": "markdown",
      "metadata": {
        "id": "ozgNQWGnlWd1",
        "colab_type": "text"
      },
      "source": [
        "#### 3 weeks worth of data. Let's extract the timestamp and also the day and the week"
      ]
    },
    {
      "cell_type": "code",
      "metadata": {
        "id": "85Ef9x5_lWd3",
        "colab_type": "code",
        "colab": {
          "base_uri": "https://localhost:8080/",
          "height": 85
        },
        "outputId": "36c5d359-326a-46a8-c383-7a5b114aaf83"
      },
      "source": [
        "def parse_ide(d):\n",
        "    time_string = d['ide']['dhEmi']['$date']\n",
        "    date_and_time = time_string.split('T')\n",
        "    datetime_str = date_and_time[0] + ' ' + date_and_time[1].split('.')[0]\n",
        "    date_time = datetime.strptime(datetime_str, '%Y-%m-%d %H:%M:%S')        \n",
        "    date = datetime.strptime(date_and_time[0], '%Y-%m-%d')\n",
        "    week = date.isocalendar()[1]\n",
        "    day = date.weekday()\n",
        "    return pd.Series([date_time, week, day,], ['datetime', 'week', 'day'])\n",
        "parse_ide(data[0])"
      ],
      "execution_count": 10,
      "outputs": [
        {
          "output_type": "execute_result",
          "data": {
            "text/plain": [
              "datetime    2016-01-05 12:01:54\n",
              "week                          1\n",
              "day                           1\n",
              "dtype: object"
            ]
          },
          "metadata": {
            "tags": []
          },
          "execution_count": 10
        }
      ]
    },
    {
      "cell_type": "markdown",
      "metadata": {
        "id": "-1laHPMAlWd9",
        "colab_type": "text"
      },
      "source": [
        "## infAdic\n",
        "\n",
        "#### Get the table number"
      ]
    },
    {
      "cell_type": "code",
      "metadata": {
        "id": "8AhdVVZ7lWd-",
        "colab_type": "code",
        "colab": {
          "base_uri": "https://localhost:8080/",
          "height": 51
        },
        "outputId": "0612196a-8146-4d36-a1c7-0c64bdfc0280"
      },
      "source": [
        "def parse_infadic(d):\n",
        "    return pd.Series(int(d['infAdic']['infCpl'].split()[1]), ['table'])\n",
        "parse_infadic(data[0])"
      ],
      "execution_count": 11,
      "outputs": [
        {
          "output_type": "execute_result",
          "data": {
            "text/plain": [
              "table    2\n",
              "dtype: int64"
            ]
          },
          "metadata": {
            "tags": []
          },
          "execution_count": 11
        }
      ]
    },
    {
      "cell_type": "markdown",
      "metadata": {
        "id": "uJYq2HDVlWeE",
        "colab_type": "text"
      },
      "source": [
        "## total\n",
        "\n",
        "#### Get all fields"
      ]
    },
    {
      "cell_type": "code",
      "metadata": {
        "id": "qNbvjvaClWeE",
        "colab_type": "code",
        "colab": {
          "base_uri": "https://localhost:8080/",
          "height": 306
        },
        "outputId": "d43201b3-884d-446f-c03a-53c2ead55ca5"
      },
      "source": [
        "def parse_total(d):\n",
        "    return pd.Series(d['total']['icmsTot'])\n",
        "parse_total(data[0])"
      ],
      "execution_count": 12,
      "outputs": [
        {
          "output_type": "execute_result",
          "data": {
            "text/plain": [
              "vDesc          0.00\n",
              "vFrete         0.00\n",
              "vOutro         0.00\n",
              "vProd         24.90\n",
              "vSeg           0.00\n",
              "vTotTrib       2.53\n",
              "vbc            0.00\n",
              "vbcst          0.00\n",
              "vcofins        0.00\n",
              "vicms          0.00\n",
              "vicmsDeson     0.00\n",
              "vii            0.00\n",
              "vipi           0.00\n",
              "vnf           24.90\n",
              "vpis           0.00\n",
              "vst            0.00\n",
              "dtype: float64"
            ]
          },
          "metadata": {
            "tags": []
          },
          "execution_count": 12
        }
      ]
    },
    {
      "cell_type": "markdown",
      "metadata": {
        "id": "oiXANX9qlWeI",
        "colab_type": "text"
      },
      "source": [
        "#### Now we can combine all the individual parsers to convert the list of dictionaries to a Pandas DataFrame"
      ]
    },
    {
      "cell_type": "code",
      "metadata": {
        "id": "5TunCJRrlWeK",
        "colab_type": "code",
        "colab": {
          "base_uri": "https://localhost:8080/",
          "height": 428
        },
        "outputId": "09aa26dc-dcc4-41fc-c486-78a881072983"
      },
      "source": [
        "def dict_to_df(d):    \n",
        "    df = pd.concat((parse_complemento(d),\n",
        "              parse_dets(d),\n",
        "              parse_ide(d),\n",
        "              parse_infadic(d),\n",
        "              parse_total(d)))    \n",
        "    return df        \n",
        "df = pd.DataFrame([dict_to_df(x) for x in data])  \n",
        "print('shape =', df.shape)\n",
        "df.head()"
      ],
      "execution_count": 13,
      "outputs": [
        {
          "output_type": "stream",
          "text": [
            "shape = (1635, 45)\n"
          ],
          "name": "stdout"
        },
        {
          "output_type": "execute_result",
          "data": {
            "text/html": [
              "<div>\n",
              "<style scoped>\n",
              "    .dataframe tbody tr th:only-of-type {\n",
              "        vertical-align: middle;\n",
              "    }\n",
              "\n",
              "    .dataframe tbody tr th {\n",
              "        vertical-align: top;\n",
              "    }\n",
              "\n",
              "    .dataframe thead th {\n",
              "        text-align: right;\n",
              "    }\n",
              "</style>\n",
              "<table border=\"1\" class=\"dataframe\">\n",
              "  <thead>\n",
              "    <tr style=\"text-align: right;\">\n",
              "      <th></th>\n",
              "      <th>valorTotal</th>\n",
              "      <th>AGUA</th>\n",
              "      <th>BUFFET</th>\n",
              "      <th>REFRIGERANTE</th>\n",
              "      <th>SUCO</th>\n",
              "      <th>CERVEJA</th>\n",
              "      <th>CHA</th>\n",
              "      <th>DOCINHOS</th>\n",
              "      <th>LIMONADA</th>\n",
              "      <th>HARUMAKI</th>\n",
              "      <th>CAFE EXPRESSO</th>\n",
              "      <th>BULE CHA</th>\n",
              "      <th>TEMAKI</th>\n",
              "      <th>SAKE</th>\n",
              "      <th>CERVEJA LATA</th>\n",
              "      <th>WHISKY</th>\n",
              "      <th>SUSHI ESPECIAL</th>\n",
              "      <th>SASHIMI</th>\n",
              "      <th>CAIPIROSKA</th>\n",
              "      <th>YAKISSOBA</th>\n",
              "      <th>SOBREMESA</th>\n",
              "      <th>CAIPIRINHA</th>\n",
              "      <th>VINHO</th>\n",
              "      <th>BACARDI</th>\n",
              "      <th>URAMAKI</th>\n",
              "      <th>datetime</th>\n",
              "      <th>week</th>\n",
              "      <th>day</th>\n",
              "      <th>table</th>\n",
              "      <th>vDesc</th>\n",
              "      <th>vFrete</th>\n",
              "      <th>vOutro</th>\n",
              "      <th>vProd</th>\n",
              "      <th>vSeg</th>\n",
              "      <th>vTotTrib</th>\n",
              "      <th>vbc</th>\n",
              "      <th>vbcst</th>\n",
              "      <th>vcofins</th>\n",
              "      <th>vicms</th>\n",
              "      <th>vicmsDeson</th>\n",
              "      <th>vii</th>\n",
              "      <th>vipi</th>\n",
              "      <th>vnf</th>\n",
              "      <th>vpis</th>\n",
              "      <th>vst</th>\n",
              "    </tr>\n",
              "  </thead>\n",
              "  <tbody>\n",
              "    <tr>\n",
              "      <th>0</th>\n",
              "      <td>24.90</td>\n",
              "      <td>1.0</td>\n",
              "      <td>0.312</td>\n",
              "      <td>0.0</td>\n",
              "      <td>0.0</td>\n",
              "      <td>0.0</td>\n",
              "      <td>0.0</td>\n",
              "      <td>0.0</td>\n",
              "      <td>0.0</td>\n",
              "      <td>0.0</td>\n",
              "      <td>0.0</td>\n",
              "      <td>0.0</td>\n",
              "      <td>0.0</td>\n",
              "      <td>0.0</td>\n",
              "      <td>0.0</td>\n",
              "      <td>0.0</td>\n",
              "      <td>0.0</td>\n",
              "      <td>0.0</td>\n",
              "      <td>0.0</td>\n",
              "      <td>0.0</td>\n",
              "      <td>0.0</td>\n",
              "      <td>0.0</td>\n",
              "      <td>0.0</td>\n",
              "      <td>0.0</td>\n",
              "      <td>0.0</td>\n",
              "      <td>2016-01-05 12:01:54</td>\n",
              "      <td>1</td>\n",
              "      <td>1</td>\n",
              "      <td>2</td>\n",
              "      <td>0.0</td>\n",
              "      <td>0.0</td>\n",
              "      <td>0.0</td>\n",
              "      <td>24.90</td>\n",
              "      <td>0.0</td>\n",
              "      <td>2.53</td>\n",
              "      <td>0.0</td>\n",
              "      <td>0.0</td>\n",
              "      <td>0.0</td>\n",
              "      <td>0.0</td>\n",
              "      <td>0.0</td>\n",
              "      <td>0.0</td>\n",
              "      <td>0.0</td>\n",
              "      <td>24.90</td>\n",
              "      <td>0.0</td>\n",
              "      <td>0.0</td>\n",
              "    </tr>\n",
              "    <tr>\n",
              "      <th>1</th>\n",
              "      <td>92.53</td>\n",
              "      <td>0.0</td>\n",
              "      <td>1.218</td>\n",
              "      <td>2.0</td>\n",
              "      <td>0.0</td>\n",
              "      <td>0.0</td>\n",
              "      <td>0.0</td>\n",
              "      <td>0.0</td>\n",
              "      <td>0.0</td>\n",
              "      <td>0.0</td>\n",
              "      <td>0.0</td>\n",
              "      <td>0.0</td>\n",
              "      <td>0.0</td>\n",
              "      <td>0.0</td>\n",
              "      <td>0.0</td>\n",
              "      <td>0.0</td>\n",
              "      <td>0.0</td>\n",
              "      <td>0.0</td>\n",
              "      <td>0.0</td>\n",
              "      <td>0.0</td>\n",
              "      <td>0.0</td>\n",
              "      <td>0.0</td>\n",
              "      <td>0.0</td>\n",
              "      <td>0.0</td>\n",
              "      <td>0.0</td>\n",
              "      <td>2016-01-05 12:03:52</td>\n",
              "      <td>1</td>\n",
              "      <td>1</td>\n",
              "      <td>1</td>\n",
              "      <td>0.0</td>\n",
              "      <td>0.0</td>\n",
              "      <td>0.0</td>\n",
              "      <td>92.55</td>\n",
              "      <td>0.0</td>\n",
              "      <td>7.71</td>\n",
              "      <td>0.0</td>\n",
              "      <td>0.0</td>\n",
              "      <td>0.0</td>\n",
              "      <td>0.0</td>\n",
              "      <td>0.0</td>\n",
              "      <td>0.0</td>\n",
              "      <td>0.0</td>\n",
              "      <td>92.55</td>\n",
              "      <td>0.0</td>\n",
              "      <td>0.0</td>\n",
              "    </tr>\n",
              "    <tr>\n",
              "      <th>2</th>\n",
              "      <td>57.86</td>\n",
              "      <td>0.0</td>\n",
              "      <td>0.778</td>\n",
              "      <td>0.0</td>\n",
              "      <td>1.0</td>\n",
              "      <td>0.0</td>\n",
              "      <td>0.0</td>\n",
              "      <td>0.0</td>\n",
              "      <td>0.0</td>\n",
              "      <td>0.0</td>\n",
              "      <td>0.0</td>\n",
              "      <td>0.0</td>\n",
              "      <td>0.0</td>\n",
              "      <td>0.0</td>\n",
              "      <td>0.0</td>\n",
              "      <td>0.0</td>\n",
              "      <td>0.0</td>\n",
              "      <td>0.0</td>\n",
              "      <td>0.0</td>\n",
              "      <td>0.0</td>\n",
              "      <td>0.0</td>\n",
              "      <td>0.0</td>\n",
              "      <td>0.0</td>\n",
              "      <td>0.0</td>\n",
              "      <td>0.0</td>\n",
              "      <td>2016-01-05 12:16:40</td>\n",
              "      <td>1</td>\n",
              "      <td>1</td>\n",
              "      <td>5</td>\n",
              "      <td>0.0</td>\n",
              "      <td>0.0</td>\n",
              "      <td>0.0</td>\n",
              "      <td>57.87</td>\n",
              "      <td>0.0</td>\n",
              "      <td>2.43</td>\n",
              "      <td>0.0</td>\n",
              "      <td>0.0</td>\n",
              "      <td>0.0</td>\n",
              "      <td>0.0</td>\n",
              "      <td>0.0</td>\n",
              "      <td>0.0</td>\n",
              "      <td>0.0</td>\n",
              "      <td>57.87</td>\n",
              "      <td>0.0</td>\n",
              "      <td>0.0</td>\n",
              "    </tr>\n",
              "    <tr>\n",
              "      <th>3</th>\n",
              "      <td>34.97</td>\n",
              "      <td>0.0</td>\n",
              "      <td>0.510</td>\n",
              "      <td>0.0</td>\n",
              "      <td>0.0</td>\n",
              "      <td>0.0</td>\n",
              "      <td>0.0</td>\n",
              "      <td>0.0</td>\n",
              "      <td>0.0</td>\n",
              "      <td>0.0</td>\n",
              "      <td>0.0</td>\n",
              "      <td>0.0</td>\n",
              "      <td>0.0</td>\n",
              "      <td>0.0</td>\n",
              "      <td>0.0</td>\n",
              "      <td>0.0</td>\n",
              "      <td>0.0</td>\n",
              "      <td>0.0</td>\n",
              "      <td>0.0</td>\n",
              "      <td>0.0</td>\n",
              "      <td>0.0</td>\n",
              "      <td>0.0</td>\n",
              "      <td>0.0</td>\n",
              "      <td>0.0</td>\n",
              "      <td>0.0</td>\n",
              "      <td>2016-01-05 12:17:50</td>\n",
              "      <td>1</td>\n",
              "      <td>1</td>\n",
              "      <td>3</td>\n",
              "      <td>0.0</td>\n",
              "      <td>0.0</td>\n",
              "      <td>0.0</td>\n",
              "      <td>34.98</td>\n",
              "      <td>0.0</td>\n",
              "      <td>1.47</td>\n",
              "      <td>0.0</td>\n",
              "      <td>0.0</td>\n",
              "      <td>0.0</td>\n",
              "      <td>0.0</td>\n",
              "      <td>0.0</td>\n",
              "      <td>0.0</td>\n",
              "      <td>0.0</td>\n",
              "      <td>34.98</td>\n",
              "      <td>0.0</td>\n",
              "      <td>0.0</td>\n",
              "    </tr>\n",
              "    <tr>\n",
              "      <th>4</th>\n",
              "      <td>46.23</td>\n",
              "      <td>0.0</td>\n",
              "      <td>0.674</td>\n",
              "      <td>0.0</td>\n",
              "      <td>0.0</td>\n",
              "      <td>0.0</td>\n",
              "      <td>0.0</td>\n",
              "      <td>0.0</td>\n",
              "      <td>0.0</td>\n",
              "      <td>0.0</td>\n",
              "      <td>0.0</td>\n",
              "      <td>0.0</td>\n",
              "      <td>0.0</td>\n",
              "      <td>0.0</td>\n",
              "      <td>0.0</td>\n",
              "      <td>0.0</td>\n",
              "      <td>0.0</td>\n",
              "      <td>0.0</td>\n",
              "      <td>0.0</td>\n",
              "      <td>0.0</td>\n",
              "      <td>0.0</td>\n",
              "      <td>0.0</td>\n",
              "      <td>0.0</td>\n",
              "      <td>0.0</td>\n",
              "      <td>0.0</td>\n",
              "      <td>2016-01-05 12:18:35</td>\n",
              "      <td>1</td>\n",
              "      <td>1</td>\n",
              "      <td>4</td>\n",
              "      <td>0.0</td>\n",
              "      <td>0.0</td>\n",
              "      <td>0.0</td>\n",
              "      <td>46.23</td>\n",
              "      <td>0.0</td>\n",
              "      <td>1.94</td>\n",
              "      <td>0.0</td>\n",
              "      <td>0.0</td>\n",
              "      <td>0.0</td>\n",
              "      <td>0.0</td>\n",
              "      <td>0.0</td>\n",
              "      <td>0.0</td>\n",
              "      <td>0.0</td>\n",
              "      <td>46.23</td>\n",
              "      <td>0.0</td>\n",
              "      <td>0.0</td>\n",
              "    </tr>\n",
              "  </tbody>\n",
              "</table>\n",
              "</div>"
            ],
            "text/plain": [
              "   valorTotal  AGUA  BUFFET  REFRIGERANTE  SUCO  ...  vii  vipi    vnf  vpis  vst\n",
              "0       24.90   1.0   0.312           0.0   0.0  ...  0.0   0.0  24.90   0.0  0.0\n",
              "1       92.53   0.0   1.218           2.0   0.0  ...  0.0   0.0  92.55   0.0  0.0\n",
              "2       57.86   0.0   0.778           0.0   1.0  ...  0.0   0.0  57.87   0.0  0.0\n",
              "3       34.97   0.0   0.510           0.0   0.0  ...  0.0   0.0  34.98   0.0  0.0\n",
              "4       46.23   0.0   0.674           0.0   0.0  ...  0.0   0.0  46.23   0.0  0.0\n",
              "\n",
              "[5 rows x 45 columns]"
            ]
          },
          "metadata": {
            "tags": []
          },
          "execution_count": 13
        }
      ]
    },
    {
      "cell_type": "markdown",
      "metadata": {
        "id": "vTBB8Lj4lWeO",
        "colab_type": "text"
      },
      "source": [
        "# Part 2: Item association rules"
      ]
    },
    {
      "cell_type": "markdown",
      "metadata": {
        "id": "Yebz04cdlWeP",
        "colab_type": "text"
      },
      "source": [
        "#### Let's do some \"market basket analysis\" to see if we can identify any interesting association rules of the form \"item A on bill implies item B on bill\". We will compute the following statistics:\n",
        "\n",
        "* Support is the relative frequency that the rules show up.\n",
        "\n",
        "* Confidence is a measure of the reliability of the rule. A confidence of .5 in the above example would mean that in 50% of the cases where product A was on the bill, product B was as well.\n",
        "\n",
        "* Lift is the ratio of the observed support to that expected if the two rules were independent. The basic rule of thumb is that a lift value close to 1 means the rules were completely independent. Lift values > 1 are generally more “interesting” and could be indicative of a useful rule pattern."
      ]
    },
    {
      "cell_type": "code",
      "metadata": {
        "id": "u5SGTIJBlWeQ",
        "colab_type": "code",
        "colab": {
          "base_uri": "https://localhost:8080/",
          "height": 472
        },
        "outputId": "c1a1dfe2-5664-41e5-e856-2f79d020e2ca"
      },
      "source": [
        "products_sets = (df[products] > 0).astype(int)\n",
        "# generate a frequent items list, show all rules with support at least 5%\n",
        "frequent_itemsets = apriori(products_sets, min_support=0.05, \n",
        "                            use_colnames=True).sort_values('support', \n",
        "                                                           ascending=False).reset_index(drop=True)\n",
        "# compute the support, confidence and lift, showing only rules with lift at least 1\n",
        "rules = association_rules(frequent_itemsets, \n",
        "                          metric=\"lift\", min_threshold=1).sort_values('lift', \n",
        "                                                           ascending=False).reset_index(drop=True)\n",
        "rules"
      ],
      "execution_count": 14,
      "outputs": [
        {
          "output_type": "execute_result",
          "data": {
            "text/html": [
              "<div>\n",
              "<style scoped>\n",
              "    .dataframe tbody tr th:only-of-type {\n",
              "        vertical-align: middle;\n",
              "    }\n",
              "\n",
              "    .dataframe tbody tr th {\n",
              "        vertical-align: top;\n",
              "    }\n",
              "\n",
              "    .dataframe thead th {\n",
              "        text-align: right;\n",
              "    }\n",
              "</style>\n",
              "<table border=\"1\" class=\"dataframe\">\n",
              "  <thead>\n",
              "    <tr style=\"text-align: right;\">\n",
              "      <th></th>\n",
              "      <th>antecedents</th>\n",
              "      <th>consequents</th>\n",
              "      <th>antecedent support</th>\n",
              "      <th>consequent support</th>\n",
              "      <th>support</th>\n",
              "      <th>confidence</th>\n",
              "      <th>lift</th>\n",
              "      <th>leverage</th>\n",
              "      <th>conviction</th>\n",
              "    </tr>\n",
              "  </thead>\n",
              "  <tbody>\n",
              "    <tr>\n",
              "      <th>0</th>\n",
              "      <td>(BUFFET)</td>\n",
              "      <td>(REFRIGERANTE)</td>\n",
              "      <td>1.000000</td>\n",
              "      <td>0.422630</td>\n",
              "      <td>0.422630</td>\n",
              "      <td>0.422630</td>\n",
              "      <td>1.0</td>\n",
              "      <td>0.0</td>\n",
              "      <td>1.0</td>\n",
              "    </tr>\n",
              "    <tr>\n",
              "      <th>1</th>\n",
              "      <td>(REFRIGERANTE)</td>\n",
              "      <td>(BUFFET)</td>\n",
              "      <td>0.422630</td>\n",
              "      <td>1.000000</td>\n",
              "      <td>0.422630</td>\n",
              "      <td>1.000000</td>\n",
              "      <td>1.0</td>\n",
              "      <td>0.0</td>\n",
              "      <td>inf</td>\n",
              "    </tr>\n",
              "    <tr>\n",
              "      <th>2</th>\n",
              "      <td>(BUFFET)</td>\n",
              "      <td>(AGUA)</td>\n",
              "      <td>1.000000</td>\n",
              "      <td>0.247706</td>\n",
              "      <td>0.247706</td>\n",
              "      <td>0.247706</td>\n",
              "      <td>1.0</td>\n",
              "      <td>0.0</td>\n",
              "      <td>1.0</td>\n",
              "    </tr>\n",
              "    <tr>\n",
              "      <th>3</th>\n",
              "      <td>(AGUA)</td>\n",
              "      <td>(BUFFET)</td>\n",
              "      <td>0.247706</td>\n",
              "      <td>1.000000</td>\n",
              "      <td>0.247706</td>\n",
              "      <td>1.000000</td>\n",
              "      <td>1.0</td>\n",
              "      <td>0.0</td>\n",
              "      <td>inf</td>\n",
              "    </tr>\n",
              "    <tr>\n",
              "      <th>4</th>\n",
              "      <td>(BUFFET)</td>\n",
              "      <td>(SUCO)</td>\n",
              "      <td>1.000000</td>\n",
              "      <td>0.105810</td>\n",
              "      <td>0.105810</td>\n",
              "      <td>0.105810</td>\n",
              "      <td>1.0</td>\n",
              "      <td>0.0</td>\n",
              "      <td>1.0</td>\n",
              "    </tr>\n",
              "    <tr>\n",
              "      <th>5</th>\n",
              "      <td>(SUCO)</td>\n",
              "      <td>(BUFFET)</td>\n",
              "      <td>0.105810</td>\n",
              "      <td>1.000000</td>\n",
              "      <td>0.105810</td>\n",
              "      <td>1.000000</td>\n",
              "      <td>1.0</td>\n",
              "      <td>0.0</td>\n",
              "      <td>inf</td>\n",
              "    </tr>\n",
              "    <tr>\n",
              "      <th>6</th>\n",
              "      <td>(REFRIGERANTE, AGUA)</td>\n",
              "      <td>(BUFFET)</td>\n",
              "      <td>0.056881</td>\n",
              "      <td>1.000000</td>\n",
              "      <td>0.056881</td>\n",
              "      <td>1.000000</td>\n",
              "      <td>1.0</td>\n",
              "      <td>0.0</td>\n",
              "      <td>inf</td>\n",
              "    </tr>\n",
              "    <tr>\n",
              "      <th>7</th>\n",
              "      <td>(BUFFET)</td>\n",
              "      <td>(REFRIGERANTE, AGUA)</td>\n",
              "      <td>1.000000</td>\n",
              "      <td>0.056881</td>\n",
              "      <td>0.056881</td>\n",
              "      <td>0.056881</td>\n",
              "      <td>1.0</td>\n",
              "      <td>0.0</td>\n",
              "      <td>1.0</td>\n",
              "    </tr>\n",
              "    <tr>\n",
              "      <th>8</th>\n",
              "      <td>(BUFFET)</td>\n",
              "      <td>(CERVEJA)</td>\n",
              "      <td>1.000000</td>\n",
              "      <td>0.055657</td>\n",
              "      <td>0.055657</td>\n",
              "      <td>0.055657</td>\n",
              "      <td>1.0</td>\n",
              "      <td>0.0</td>\n",
              "      <td>1.0</td>\n",
              "    </tr>\n",
              "    <tr>\n",
              "      <th>9</th>\n",
              "      <td>(CERVEJA)</td>\n",
              "      <td>(BUFFET)</td>\n",
              "      <td>0.055657</td>\n",
              "      <td>1.000000</td>\n",
              "      <td>0.055657</td>\n",
              "      <td>1.000000</td>\n",
              "      <td>1.0</td>\n",
              "      <td>0.0</td>\n",
              "      <td>inf</td>\n",
              "    </tr>\n",
              "    <tr>\n",
              "      <th>10</th>\n",
              "      <td>(CHA)</td>\n",
              "      <td>(BUFFET)</td>\n",
              "      <td>0.050765</td>\n",
              "      <td>1.000000</td>\n",
              "      <td>0.050765</td>\n",
              "      <td>1.000000</td>\n",
              "      <td>1.0</td>\n",
              "      <td>0.0</td>\n",
              "      <td>inf</td>\n",
              "    </tr>\n",
              "    <tr>\n",
              "      <th>11</th>\n",
              "      <td>(BUFFET)</td>\n",
              "      <td>(CHA)</td>\n",
              "      <td>1.000000</td>\n",
              "      <td>0.050765</td>\n",
              "      <td>0.050765</td>\n",
              "      <td>0.050765</td>\n",
              "      <td>1.0</td>\n",
              "      <td>0.0</td>\n",
              "      <td>1.0</td>\n",
              "    </tr>\n",
              "  </tbody>\n",
              "</table>\n",
              "</div>"
            ],
            "text/plain": [
              "             antecedents           consequents  ...  leverage  conviction\n",
              "0               (BUFFET)        (REFRIGERANTE)  ...       0.0         1.0\n",
              "1         (REFRIGERANTE)              (BUFFET)  ...       0.0         inf\n",
              "2               (BUFFET)                (AGUA)  ...       0.0         1.0\n",
              "3                 (AGUA)              (BUFFET)  ...       0.0         inf\n",
              "4               (BUFFET)                (SUCO)  ...       0.0         1.0\n",
              "5                 (SUCO)              (BUFFET)  ...       0.0         inf\n",
              "6   (REFRIGERANTE, AGUA)              (BUFFET)  ...       0.0         inf\n",
              "7               (BUFFET)  (REFRIGERANTE, AGUA)  ...       0.0         1.0\n",
              "8               (BUFFET)             (CERVEJA)  ...       0.0         1.0\n",
              "9              (CERVEJA)              (BUFFET)  ...       0.0         inf\n",
              "10                 (CHA)              (BUFFET)  ...       0.0         inf\n",
              "11              (BUFFET)                 (CHA)  ...       0.0         1.0\n",
              "\n",
              "[12 rows x 9 columns]"
            ]
          },
          "metadata": {
            "tags": []
          },
          "execution_count": 14
        }
      ]
    },
    {
      "cell_type": "markdown",
      "metadata": {
        "id": "SxugcU-nlWeV",
        "colab_type": "text"
      },
      "source": [
        "#### Nothing interesting here. Everyone has the buffet and there are no rules with lift greater than 1. Let's move on"
      ]
    },
    {
      "cell_type": "markdown",
      "metadata": {
        "id": "MzHKNzfDlWeW",
        "colab_type": "text"
      },
      "source": [
        "# Part 3: Time series analysis\n",
        "\n",
        "#### Let's analyse the variation in bill total throughout the day, for each day of the week. The individual bill totals are likely to be very noisy, so we'd be better off looking at rolling hourly totals, shifted by a single minute. First we'll need to estimate the opening and closing times of the restaurant"
      ]
    },
    {
      "cell_type": "code",
      "metadata": {
        "id": "6p9wjgOElWeX",
        "colab_type": "code",
        "colab": {
          "base_uri": "https://localhost:8080/",
          "height": 235
        },
        "outputId": "18c88c6b-8c8e-4dde-b7a1-4c1013f80169"
      },
      "source": [
        "# get the minimum and maximum time for each day\n",
        "df['time'] = df['datetime'].apply(lambda x: x.time())\n",
        "min_max_times = df.groupby('day')['time'].agg(['min', 'max']).reset_index(drop=True)\n",
        "min_max_times"
      ],
      "execution_count": 15,
      "outputs": [
        {
          "output_type": "execute_result",
          "data": {
            "text/html": [
              "<div>\n",
              "<style scoped>\n",
              "    .dataframe tbody tr th:only-of-type {\n",
              "        vertical-align: middle;\n",
              "    }\n",
              "\n",
              "    .dataframe tbody tr th {\n",
              "        vertical-align: top;\n",
              "    }\n",
              "\n",
              "    .dataframe thead th {\n",
              "        text-align: right;\n",
              "    }\n",
              "</style>\n",
              "<table border=\"1\" class=\"dataframe\">\n",
              "  <thead>\n",
              "    <tr style=\"text-align: right;\">\n",
              "      <th></th>\n",
              "      <th>min</th>\n",
              "      <th>max</th>\n",
              "    </tr>\n",
              "  </thead>\n",
              "  <tbody>\n",
              "    <tr>\n",
              "      <th>0</th>\n",
              "      <td>11:57:51</td>\n",
              "      <td>23:03:32</td>\n",
              "    </tr>\n",
              "    <tr>\n",
              "      <th>1</th>\n",
              "      <td>12:01:54</td>\n",
              "      <td>23:40:48</td>\n",
              "    </tr>\n",
              "    <tr>\n",
              "      <th>2</th>\n",
              "      <td>12:06:20</td>\n",
              "      <td>23:13:55</td>\n",
              "    </tr>\n",
              "    <tr>\n",
              "      <th>3</th>\n",
              "      <td>12:00:42</td>\n",
              "      <td>23:11:07</td>\n",
              "    </tr>\n",
              "    <tr>\n",
              "      <th>4</th>\n",
              "      <td>11:58:53</td>\n",
              "      <td>15:24:46</td>\n",
              "    </tr>\n",
              "    <tr>\n",
              "      <th>5</th>\n",
              "      <td>11:39:59</td>\n",
              "      <td>15:14:40</td>\n",
              "    </tr>\n",
              "  </tbody>\n",
              "</table>\n",
              "</div>"
            ],
            "text/plain": [
              "        min       max\n",
              "0  11:57:51  23:03:32\n",
              "1  12:01:54  23:40:48\n",
              "2  12:06:20  23:13:55\n",
              "3  12:00:42  23:11:07\n",
              "4  11:58:53  15:24:46\n",
              "5  11:39:59  15:14:40"
            ]
          },
          "metadata": {
            "tags": []
          },
          "execution_count": 15
        }
      ]
    },
    {
      "cell_type": "markdown",
      "metadata": {
        "id": "cEA2I0OglWeb",
        "colab_type": "text"
      },
      "source": [
        "#### In order to make it easier to compute the rolling hourly totals, let's use the same opening and closing times for each day, by simpy getting the overall min and max times"
      ]
    },
    {
      "cell_type": "code",
      "metadata": {
        "id": "gSpyVcURlWeb",
        "colab_type": "code",
        "colab": {}
      },
      "source": [
        "opening_time = min_max_times['min'].min()\n",
        "closing_time = min_max_times['max'].max()"
      ],
      "execution_count": 16,
      "outputs": []
    },
    {
      "cell_type": "markdown",
      "metadata": {
        "id": "c_pynVx4lWef",
        "colab_type": "text"
      },
      "source": [
        "#### Now for each day we compute the running hourly totals, shifted by a single minute, between the opening and closing times"
      ]
    },
    {
      "cell_type": "code",
      "metadata": {
        "id": "pW-PBnCrlWeg",
        "colab_type": "code",
        "colab": {
          "base_uri": "https://localhost:8080/",
          "height": 241
        },
        "outputId": "71ba3519-3f8d-45ea-fb52-d4353a58ac01"
      },
      "source": [
        "first_day = True\n",
        "for week in df['week'].unique():\n",
        "    for day in df['day'].unique():\n",
        "        # get data for this day only\n",
        "        df_day = df[(df['week'] == week) & (df['day'] == day)].reset_index(drop=True)\n",
        "        if len(df_day) > 0:\n",
        "            # get the timestamps for this particular day\n",
        "            opening_time_today = datetime.combine(df_day.loc[0, 'datetime'].date(), \n",
        "                                                  opening_time)\n",
        "            closing_time_today = datetime.combine(df_day.loc[0, 'datetime'].date(), \n",
        "                                                  closing_time)\n",
        "            current_time = opening_time_today\n",
        "            hour_start_times = []\n",
        "            hourly_totals = []\n",
        "            while current_time <= (closing_time_today - timedelta(minutes=59)):\n",
        "                # sum bill totals during this hour\n",
        "                mask = (df_day['datetime'] >= current_time) & (df_day['datetime'] < current_time \n",
        "                                                           + timedelta(minutes=60))\n",
        "                hourly_totals.append(df_day.loc[mask, 'valorTotal'].sum())\n",
        "                hour_start_times.append(current_time.time())\n",
        "                # shift the time window\n",
        "                current_time += timedelta(minutes=1)\n",
        "            # add the values to a column in DataFrame\n",
        "            col_name = 'week' + str(week) + '_day' + str(day)\n",
        "            if first_day:\n",
        "                # index is the time the hour starts\n",
        "                df_rolling_hours = pd.DataFrame(\n",
        "                    data={col_name: hourly_totals},\n",
        "                    index=hour_start_times)\n",
        "                first_day = False\n",
        "            else:\n",
        "                df_rolling_hours[col_name] = hourly_totals  \n",
        "print('shape =', df_rolling_hours.shape)\n",
        "df_rolling_hours.head()"
      ],
      "execution_count": 17,
      "outputs": [
        {
          "output_type": "stream",
          "text": [
            "shape = (662, 17)\n"
          ],
          "name": "stdout"
        },
        {
          "output_type": "execute_result",
          "data": {
            "text/html": [
              "<div>\n",
              "<style scoped>\n",
              "    .dataframe tbody tr th:only-of-type {\n",
              "        vertical-align: middle;\n",
              "    }\n",
              "\n",
              "    .dataframe tbody tr th {\n",
              "        vertical-align: top;\n",
              "    }\n",
              "\n",
              "    .dataframe thead th {\n",
              "        text-align: right;\n",
              "    }\n",
              "</style>\n",
              "<table border=\"1\" class=\"dataframe\">\n",
              "  <thead>\n",
              "    <tr style=\"text-align: right;\">\n",
              "      <th></th>\n",
              "      <th>week1_day1</th>\n",
              "      <th>week1_day2</th>\n",
              "      <th>week1_day3</th>\n",
              "      <th>week1_day4</th>\n",
              "      <th>week1_day5</th>\n",
              "      <th>week2_day1</th>\n",
              "      <th>week2_day2</th>\n",
              "      <th>week2_day3</th>\n",
              "      <th>week2_day4</th>\n",
              "      <th>week2_day5</th>\n",
              "      <th>week2_day0</th>\n",
              "      <th>week3_day1</th>\n",
              "      <th>week3_day2</th>\n",
              "      <th>week3_day3</th>\n",
              "      <th>week3_day4</th>\n",
              "      <th>week3_day5</th>\n",
              "      <th>week3_day0</th>\n",
              "    </tr>\n",
              "  </thead>\n",
              "  <tbody>\n",
              "    <tr>\n",
              "      <th>11:39:59</th>\n",
              "      <td>701.60</td>\n",
              "      <td>477.09</td>\n",
              "      <td>633.57</td>\n",
              "      <td>549.74</td>\n",
              "      <td>279.65</td>\n",
              "      <td>378.51</td>\n",
              "      <td>841.91</td>\n",
              "      <td>302.14</td>\n",
              "      <td>453.49</td>\n",
              "      <td>767.66</td>\n",
              "      <td>272.04</td>\n",
              "      <td>495.52</td>\n",
              "      <td>468.51</td>\n",
              "      <td>334.60</td>\n",
              "      <td>1220.78</td>\n",
              "      <td>948.04</td>\n",
              "      <td>314.51</td>\n",
              "    </tr>\n",
              "    <tr>\n",
              "      <th>11:40:59</th>\n",
              "      <td>728.25</td>\n",
              "      <td>695.76</td>\n",
              "      <td>633.57</td>\n",
              "      <td>549.74</td>\n",
              "      <td>279.65</td>\n",
              "      <td>378.51</td>\n",
              "      <td>841.91</td>\n",
              "      <td>302.14</td>\n",
              "      <td>583.64</td>\n",
              "      <td>801.41</td>\n",
              "      <td>272.04</td>\n",
              "      <td>495.52</td>\n",
              "      <td>540.73</td>\n",
              "      <td>334.60</td>\n",
              "      <td>1273.19</td>\n",
              "      <td>858.19</td>\n",
              "      <td>354.93</td>\n",
              "    </tr>\n",
              "    <tr>\n",
              "      <th>11:41:59</th>\n",
              "      <td>728.25</td>\n",
              "      <td>695.76</td>\n",
              "      <td>633.57</td>\n",
              "      <td>549.74</td>\n",
              "      <td>279.65</td>\n",
              "      <td>378.51</td>\n",
              "      <td>841.91</td>\n",
              "      <td>302.14</td>\n",
              "      <td>660.93</td>\n",
              "      <td>801.41</td>\n",
              "      <td>322.90</td>\n",
              "      <td>495.52</td>\n",
              "      <td>585.94</td>\n",
              "      <td>398.08</td>\n",
              "      <td>1273.19</td>\n",
              "      <td>858.19</td>\n",
              "      <td>354.93</td>\n",
              "    </tr>\n",
              "    <tr>\n",
              "      <th>11:42:59</th>\n",
              "      <td>728.25</td>\n",
              "      <td>695.76</td>\n",
              "      <td>633.57</td>\n",
              "      <td>549.74</td>\n",
              "      <td>279.65</td>\n",
              "      <td>378.51</td>\n",
              "      <td>841.91</td>\n",
              "      <td>302.14</td>\n",
              "      <td>790.61</td>\n",
              "      <td>758.61</td>\n",
              "      <td>322.90</td>\n",
              "      <td>495.52</td>\n",
              "      <td>585.94</td>\n",
              "      <td>398.08</td>\n",
              "      <td>1307.36</td>\n",
              "      <td>858.19</td>\n",
              "      <td>354.93</td>\n",
              "    </tr>\n",
              "    <tr>\n",
              "      <th>11:43:59</th>\n",
              "      <td>792.83</td>\n",
              "      <td>695.76</td>\n",
              "      <td>633.57</td>\n",
              "      <td>549.74</td>\n",
              "      <td>369.82</td>\n",
              "      <td>378.51</td>\n",
              "      <td>841.91</td>\n",
              "      <td>302.14</td>\n",
              "      <td>790.61</td>\n",
              "      <td>784.23</td>\n",
              "      <td>322.90</td>\n",
              "      <td>495.52</td>\n",
              "      <td>618.23</td>\n",
              "      <td>398.08</td>\n",
              "      <td>1342.21</td>\n",
              "      <td>858.19</td>\n",
              "      <td>389.22</td>\n",
              "    </tr>\n",
              "  </tbody>\n",
              "</table>\n",
              "</div>"
            ],
            "text/plain": [
              "          week1_day1  week1_day2  ...  week3_day5  week3_day0\n",
              "11:39:59      701.60      477.09  ...      948.04      314.51\n",
              "11:40:59      728.25      695.76  ...      858.19      354.93\n",
              "11:41:59      728.25      695.76  ...      858.19      354.93\n",
              "11:42:59      728.25      695.76  ...      858.19      354.93\n",
              "11:43:59      792.83      695.76  ...      858.19      389.22\n",
              "\n",
              "[5 rows x 17 columns]"
            ]
          },
          "metadata": {
            "tags": []
          },
          "execution_count": 17
        }
      ]
    },
    {
      "cell_type": "markdown",
      "metadata": {
        "id": "HMp9DftblWej",
        "colab_type": "text"
      },
      "source": [
        "#### Let's visualise the running hourly totals throughout each day during each week"
      ]
    },
    {
      "cell_type": "code",
      "metadata": {
        "scrolled": false,
        "id": "gN28D_ollWek",
        "colab_type": "code",
        "colab": {
          "base_uri": "https://localhost:8080/",
          "height": 1000
        },
        "outputId": "8a9d7208-da8c-451b-ceca-2c40d155483a"
      },
      "source": [
        "days = ['mon', 'tues', 'wed', 'thurs', 'fri', 'sat']\n",
        "colours = ['blue', 'red', 'green']\n",
        "\n",
        "X_time_axis = []\n",
        "for i in range(662):\n",
        "  X_time_axis.append(df_rolling_hours.index[i].hour * 3600 + df_rolling_hours.index[i].minute * 60 + df_rolling_hours.index[i].second )\n",
        "\n",
        "for day in np.arange(6):\n",
        "    for week in np.arange(1,4):   \n",
        "        col_name = 'week' + str(week) + '_day' + str(day)\n",
        "        if col_name in df_rolling_hours.columns.tolist():\n",
        "            plt.plot(X_time_axis, \n",
        "                     df_rolling_hours[col_name], \n",
        "                     color=colours[week-1], \n",
        "                     label= 'week ' + str(week))\n",
        "    plt.title(days[day])\n",
        "    plt.xlabel('hour start time')\n",
        "    plt.ylabel('hourly total')\n",
        "    plt.legend()\n",
        "    plt.show()"
      ],
      "execution_count": 18,
      "outputs": [
        {
          "output_type": "display_data",
          "data": {
            "image/png": "[encoded data removed]",
            "text/plain": [
              "<Figure size 432x288 with 1 Axes>"
            ]
          },
          "metadata": {
            "tags": [],
            "needs_background": "light"
          }
        },
        {
          "output_type": "display_data",
          "data": {
            "image/png": "[encoded data removed]",
            "text/plain": [
              "<Figure size 432x288 with 1 Axes>"
            ]
          },
          "metadata": {
            "tags": [],
            "needs_background": "light"
          }
        },
        {
          "output_type": "display_data",
          "data": {
            "image/png": "[encoded data removed]",
            "text/plain": [
              "<Figure size 432x288 with 1 Axes>"
            ]
          },
          "metadata": {
            "tags": [],
            "needs_background": "light"
          }
        },
        {
          "output_type": "display_data",
          "data": {
            "image/png": "[encoded data removed]",
            "text/plain": [
              "<Figure size 432x288 with 1 Axes>"
            ]
          },
          "metadata": {
            "tags": [],
            "needs_background": "light"
          }
        },
        {
          "output_type": "display_data",
          "data": {
            "image/png": "[encoded data removed]",
            "text/plain": [
              "<Figure size 432x288 with 1 Axes>"
            ]
          },
          "metadata": {
            "tags": [],
            "needs_background": "light"
          }
        },
        {
          "output_type": "display_data",
          "data": {
            "image/png": "[encoded data removed]",
            "text/plain": [
              "<Figure size 432x288 with 1 Axes>"
            ]
          },
          "metadata": {
            "tags": [],
            "needs_background": "light"
          }
        }
      ]
    },
    {
      "cell_type": "markdown",
      "metadata": {
        "id": "ptclAGuelWen",
        "colab_type": "text"
      },
      "source": [
        "## Observations:\n",
        "\n",
        "1. No data for Monday of week 1\n",
        "2. Monday to Wednesday the restaurant appears to close after lunch and re-opens in the early evening\n",
        "3. On Thursday of weeks 1 and 2 the restaurant appears not to re-open after lunch, but during week 3 it did open again in the evening\n",
        "4. The restaurant does not re-open after lunc on Fridays and Saturdays\n",
        "5. The restaurant does not open at all on Sundays\n",
        "6. Otherwise, the running totals for each day seem to follow similar patters each week"
      ]
    },
    {
      "cell_type": "markdown",
      "metadata": {
        "id": "7RxJZmLRlWeo",
        "colab_type": "text"
      },
      "source": [
        "#### To complete the weeks let's add a column of zeros for each Sunday"
      ]
    },
    {
      "cell_type": "code",
      "metadata": {
        "id": "x7oqcp1KlWeo",
        "colab_type": "code",
        "colab": {
          "base_uri": "https://localhost:8080/",
          "height": 224
        },
        "outputId": "6349cbea-f86d-4810-cd6e-92e06f615822"
      },
      "source": [
        "df_rolling_hours['week1_day6'] = 0\n",
        "df_rolling_hours['week2_day6'] = 0\n",
        "df_rolling_hours['week3_day6'] = 0\n",
        "# put the columns in the same order as the days\n",
        "df_rolling_hours = df_rolling_hours[sorted(df_rolling_hours.columns.tolist())]\n",
        "df_rolling_hours.head()"
      ],
      "execution_count": 19,
      "outputs": [
        {
          "output_type": "execute_result",
          "data": {
            "text/html": [
              "<div>\n",
              "<style scoped>\n",
              "    .dataframe tbody tr th:only-of-type {\n",
              "        vertical-align: middle;\n",
              "    }\n",
              "\n",
              "    .dataframe tbody tr th {\n",
              "        vertical-align: top;\n",
              "    }\n",
              "\n",
              "    .dataframe thead th {\n",
              "        text-align: right;\n",
              "    }\n",
              "</style>\n",
              "<table border=\"1\" class=\"dataframe\">\n",
              "  <thead>\n",
              "    <tr style=\"text-align: right;\">\n",
              "      <th></th>\n",
              "      <th>week1_day1</th>\n",
              "      <th>week1_day2</th>\n",
              "      <th>week1_day3</th>\n",
              "      <th>week1_day4</th>\n",
              "      <th>week1_day5</th>\n",
              "      <th>week1_day6</th>\n",
              "      <th>week2_day0</th>\n",
              "      <th>week2_day1</th>\n",
              "      <th>week2_day2</th>\n",
              "      <th>week2_day3</th>\n",
              "      <th>week2_day4</th>\n",
              "      <th>week2_day5</th>\n",
              "      <th>week2_day6</th>\n",
              "      <th>week3_day0</th>\n",
              "      <th>week3_day1</th>\n",
              "      <th>week3_day2</th>\n",
              "      <th>week3_day3</th>\n",
              "      <th>week3_day4</th>\n",
              "      <th>week3_day5</th>\n",
              "      <th>week3_day6</th>\n",
              "    </tr>\n",
              "  </thead>\n",
              "  <tbody>\n",
              "    <tr>\n",
              "      <th>11:39:59</th>\n",
              "      <td>701.60</td>\n",
              "      <td>477.09</td>\n",
              "      <td>633.57</td>\n",
              "      <td>549.74</td>\n",
              "      <td>279.65</td>\n",
              "      <td>0</td>\n",
              "      <td>272.04</td>\n",
              "      <td>378.51</td>\n",
              "      <td>841.91</td>\n",
              "      <td>302.14</td>\n",
              "      <td>453.49</td>\n",
              "      <td>767.66</td>\n",
              "      <td>0</td>\n",
              "      <td>314.51</td>\n",
              "      <td>495.52</td>\n",
              "      <td>468.51</td>\n",
              "      <td>334.60</td>\n",
              "      <td>1220.78</td>\n",
              "      <td>948.04</td>\n",
              "      <td>0</td>\n",
              "    </tr>\n",
              "    <tr>\n",
              "      <th>11:40:59</th>\n",
              "      <td>728.25</td>\n",
              "      <td>695.76</td>\n",
              "      <td>633.57</td>\n",
              "      <td>549.74</td>\n",
              "      <td>279.65</td>\n",
              "      <td>0</td>\n",
              "      <td>272.04</td>\n",
              "      <td>378.51</td>\n",
              "      <td>841.91</td>\n",
              "      <td>302.14</td>\n",
              "      <td>583.64</td>\n",
              "      <td>801.41</td>\n",
              "      <td>0</td>\n",
              "      <td>354.93</td>\n",
              "      <td>495.52</td>\n",
              "      <td>540.73</td>\n",
              "      <td>334.60</td>\n",
              "      <td>1273.19</td>\n",
              "      <td>858.19</td>\n",
              "      <td>0</td>\n",
              "    </tr>\n",
              "    <tr>\n",
              "      <th>11:41:59</th>\n",
              "      <td>728.25</td>\n",
              "      <td>695.76</td>\n",
              "      <td>633.57</td>\n",
              "      <td>549.74</td>\n",
              "      <td>279.65</td>\n",
              "      <td>0</td>\n",
              "      <td>322.90</td>\n",
              "      <td>378.51</td>\n",
              "      <td>841.91</td>\n",
              "      <td>302.14</td>\n",
              "      <td>660.93</td>\n",
              "      <td>801.41</td>\n",
              "      <td>0</td>\n",
              "      <td>354.93</td>\n",
              "      <td>495.52</td>\n",
              "      <td>585.94</td>\n",
              "      <td>398.08</td>\n",
              "      <td>1273.19</td>\n",
              "      <td>858.19</td>\n",
              "      <td>0</td>\n",
              "    </tr>\n",
              "    <tr>\n",
              "      <th>11:42:59</th>\n",
              "      <td>728.25</td>\n",
              "      <td>695.76</td>\n",
              "      <td>633.57</td>\n",
              "      <td>549.74</td>\n",
              "      <td>279.65</td>\n",
              "      <td>0</td>\n",
              "      <td>322.90</td>\n",
              "      <td>378.51</td>\n",
              "      <td>841.91</td>\n",
              "      <td>302.14</td>\n",
              "      <td>790.61</td>\n",
              "      <td>758.61</td>\n",
              "      <td>0</td>\n",
              "      <td>354.93</td>\n",
              "      <td>495.52</td>\n",
              "      <td>585.94</td>\n",
              "      <td>398.08</td>\n",
              "      <td>1307.36</td>\n",
              "      <td>858.19</td>\n",
              "      <td>0</td>\n",
              "    </tr>\n",
              "    <tr>\n",
              "      <th>11:43:59</th>\n",
              "      <td>792.83</td>\n",
              "      <td>695.76</td>\n",
              "      <td>633.57</td>\n",
              "      <td>549.74</td>\n",
              "      <td>369.82</td>\n",
              "      <td>0</td>\n",
              "      <td>322.90</td>\n",
              "      <td>378.51</td>\n",
              "      <td>841.91</td>\n",
              "      <td>302.14</td>\n",
              "      <td>790.61</td>\n",
              "      <td>784.23</td>\n",
              "      <td>0</td>\n",
              "      <td>389.22</td>\n",
              "      <td>495.52</td>\n",
              "      <td>618.23</td>\n",
              "      <td>398.08</td>\n",
              "      <td>1342.21</td>\n",
              "      <td>858.19</td>\n",
              "      <td>0</td>\n",
              "    </tr>\n",
              "  </tbody>\n",
              "</table>\n",
              "</div>"
            ],
            "text/plain": [
              "          week1_day1  week1_day2  ...  week3_day5  week3_day6\n",
              "11:39:59      701.60      477.09  ...      948.04           0\n",
              "11:40:59      728.25      695.76  ...      858.19           0\n",
              "11:41:59      728.25      695.76  ...      858.19           0\n",
              "11:42:59      728.25      695.76  ...      858.19           0\n",
              "11:43:59      792.83      695.76  ...      858.19           0\n",
              "\n",
              "[5 rows x 20 columns]"
            ]
          },
          "metadata": {
            "tags": []
          },
          "execution_count": 19
        }
      ]
    },
    {
      "cell_type": "markdown",
      "metadata": {
        "id": "L1QdlSYJlWes",
        "colab_type": "text"
      },
      "source": [
        "# Part 4: LSTM neural network sales forecasting model\n",
        "\n",
        "#### Long short-term memory (LSTM) neural networks are excellent at modelling time series data. Let's see if we can use an LSTM to build a reliable sales forecast model.\n",
        "\n",
        "#### We first have to construct a training set. For any given hour, let's use the hourly totals during that hour over a period of 7 days as features and the total during the same hour on the next day as the target. This idea is illustrated below:\n",
        "\n",
        "#### [tues, wed, thurs, fri, sat, sun, mon] --> [tues]\n",
        "#### [wed, thurs, fri, sat, sun, mon, tues] --> [wed]\n",
        "#### [thurs, fri, sat, sun, mon, tues, wed] --> [thurs]\n",
        "#### ........\n",
        "\n",
        "#### Note that we will not use any hours during Sundays as targets as they are all 0\n",
        "\n",
        "#### This will generate (number of rolling hours) x (number of days not Sunday -  6) training examples"
      ]
    },
    {
      "cell_type": "code",
      "metadata": {
        "id": "ioz4YMQ9lWet",
        "colab_type": "code",
        "colab": {
          "base_uri": "https://localhost:8080/",
          "height": 408
        },
        "outputId": "8c373dea-704b-43b7-a8fa-54fde6f33611"
      },
      "source": [
        "num_days_train = 7\n",
        "df_sequences = pd.DataFrame(columns=['day(t' + str(x) + ')' for x in np.arange(-7, 0)] + ['day(t)'])\n",
        "cols = df_rolling_hours.columns.tolist()\n",
        "for i in np.arange(0, df_rolling_hours.shape[1] - num_days_train):\n",
        "    target_col = cols[i + num_days_train]\n",
        "    # don't want sundays as target\n",
        "    if not target_col.endswith('6'):\n",
        "        print('target =', target_col)\n",
        "        sequence_cols = cols[i:i + num_days_train + 1]\n",
        "        df_temp = pd.DataFrame(data=df_rolling_hours[sequence_cols].values,\n",
        "                              columns=df_sequences.columns.tolist())\n",
        "        df_sequences = df_sequences.append(df_temp, ignore_index=True)          \n",
        "print('shape =', df_sequences.shape)\n",
        "df_sequences.head()"
      ],
      "execution_count": 20,
      "outputs": [
        {
          "output_type": "stream",
          "text": [
            "target = week2_day1\n",
            "target = week2_day2\n",
            "target = week2_day3\n",
            "target = week2_day4\n",
            "target = week2_day5\n",
            "target = week3_day0\n",
            "target = week3_day1\n",
            "target = week3_day2\n",
            "target = week3_day3\n",
            "target = week3_day4\n",
            "target = week3_day5\n",
            "shape = (7282, 8)\n"
          ],
          "name": "stdout"
        },
        {
          "output_type": "execute_result",
          "data": {
            "text/html": [
              "<div>\n",
              "<style scoped>\n",
              "    .dataframe tbody tr th:only-of-type {\n",
              "        vertical-align: middle;\n",
              "    }\n",
              "\n",
              "    .dataframe tbody tr th {\n",
              "        vertical-align: top;\n",
              "    }\n",
              "\n",
              "    .dataframe thead th {\n",
              "        text-align: right;\n",
              "    }\n",
              "</style>\n",
              "<table border=\"1\" class=\"dataframe\">\n",
              "  <thead>\n",
              "    <tr style=\"text-align: right;\">\n",
              "      <th></th>\n",
              "      <th>day(t-7)</th>\n",
              "      <th>day(t-6)</th>\n",
              "      <th>day(t-5)</th>\n",
              "      <th>day(t-4)</th>\n",
              "      <th>day(t-3)</th>\n",
              "      <th>day(t-2)</th>\n",
              "      <th>day(t-1)</th>\n",
              "      <th>day(t)</th>\n",
              "    </tr>\n",
              "  </thead>\n",
              "  <tbody>\n",
              "    <tr>\n",
              "      <th>0</th>\n",
              "      <td>701.60</td>\n",
              "      <td>477.09</td>\n",
              "      <td>633.57</td>\n",
              "      <td>549.74</td>\n",
              "      <td>279.65</td>\n",
              "      <td>0.0</td>\n",
              "      <td>272.04</td>\n",
              "      <td>378.51</td>\n",
              "    </tr>\n",
              "    <tr>\n",
              "      <th>1</th>\n",
              "      <td>728.25</td>\n",
              "      <td>695.76</td>\n",
              "      <td>633.57</td>\n",
              "      <td>549.74</td>\n",
              "      <td>279.65</td>\n",
              "      <td>0.0</td>\n",
              "      <td>272.04</td>\n",
              "      <td>378.51</td>\n",
              "    </tr>\n",
              "    <tr>\n",
              "      <th>2</th>\n",
              "      <td>728.25</td>\n",
              "      <td>695.76</td>\n",
              "      <td>633.57</td>\n",
              "      <td>549.74</td>\n",
              "      <td>279.65</td>\n",
              "      <td>0.0</td>\n",
              "      <td>322.90</td>\n",
              "      <td>378.51</td>\n",
              "    </tr>\n",
              "    <tr>\n",
              "      <th>3</th>\n",
              "      <td>728.25</td>\n",
              "      <td>695.76</td>\n",
              "      <td>633.57</td>\n",
              "      <td>549.74</td>\n",
              "      <td>279.65</td>\n",
              "      <td>0.0</td>\n",
              "      <td>322.90</td>\n",
              "      <td>378.51</td>\n",
              "    </tr>\n",
              "    <tr>\n",
              "      <th>4</th>\n",
              "      <td>792.83</td>\n",
              "      <td>695.76</td>\n",
              "      <td>633.57</td>\n",
              "      <td>549.74</td>\n",
              "      <td>369.82</td>\n",
              "      <td>0.0</td>\n",
              "      <td>322.90</td>\n",
              "      <td>378.51</td>\n",
              "    </tr>\n",
              "  </tbody>\n",
              "</table>\n",
              "</div>"
            ],
            "text/plain": [
              "   day(t-7)  day(t-6)  day(t-5)  day(t-4)  day(t-3)  day(t-2)  day(t-1)  day(t)\n",
              "0    701.60    477.09    633.57    549.74    279.65       0.0    272.04  378.51\n",
              "1    728.25    695.76    633.57    549.74    279.65       0.0    272.04  378.51\n",
              "2    728.25    695.76    633.57    549.74    279.65       0.0    322.90  378.51\n",
              "3    728.25    695.76    633.57    549.74    279.65       0.0    322.90  378.51\n",
              "4    792.83    695.76    633.57    549.74    369.82       0.0    322.90  378.51"
            ]
          },
          "metadata": {
            "tags": []
          },
          "execution_count": 20
        }
      ]
    },
    {
      "cell_type": "markdown",
      "metadata": {
        "id": "P-HEXEeolWex",
        "colab_type": "text"
      },
      "source": [
        "#### We have a total of 7282 training examples across 11 target days. Let's use the first 5 days for training, the next 3 for validation and the last 3 for testing our final model.\n",
        "\n",
        "#### This is not ideal as the target days in the test set (Thursday - Saturday in week 3) are quite different from the other days, but we don't have much of a choice as it would not be fair to train in the future and test in the past."
      ]
    },
    {
      "cell_type": "code",
      "metadata": {
        "id": "Bv5zkzbGlWey",
        "colab_type": "code",
        "colab": {
          "base_uri": "https://localhost:8080/",
          "height": 68
        },
        "outputId": "706f20ce-1cf6-4256-e976-0034207125e9"
      },
      "source": [
        "# we can use the length of df_rolling_hours to get the lines we want\n",
        "df_train = df_sequences[:int(df_rolling_hours.shape[0] * 5)]\n",
        "df_val = df_sequences[int(df_rolling_hours.shape[0] * 5):int(df_rolling_hours.shape[0] * 8)]\n",
        "df_test = df_sequences[int(df_rolling_hours.shape[0] * 8):]\n",
        "print('train shape:', df_train.shape)\n",
        "print('val shape:', df_val.shape)\n",
        "print('test shape:', df_test.shape)"
      ],
      "execution_count": 21,
      "outputs": [
        {
          "output_type": "stream",
          "text": [
            "train shape: (3310, 8)\n",
            "val shape: (1986, 8)\n",
            "test shape: (1986, 8)\n"
          ],
          "name": "stdout"
        }
      ]
    },
    {
      "cell_type": "markdown",
      "metadata": {
        "id": "Ky_KlGc3lWe2",
        "colab_type": "text"
      },
      "source": [
        "#### It's always better to normalise the data before training a neural network. Let's use MinMaxScaler to do this. Note that we must fit the scaler to the training data ONLY, and apply the same transformations to the validation and test sets"
      ]
    },
    {
      "cell_type": "code",
      "metadata": {
        "id": "cYLKDq6jlWe3",
        "colab_type": "code",
        "colab": {}
      },
      "source": [
        "# fit to training data\n",
        "scaler = MinMaxScaler()\n",
        "scaler.fit(df_train)\n",
        "# transform all data\n",
        "df_train = scaler.transform(df_train)\n",
        "df_val = scaler.transform(df_val)\n",
        "df_test = scaler.transform(df_test)"
      ],
      "execution_count": 22,
      "outputs": []
    },
    {
      "cell_type": "markdown",
      "metadata": {
        "id": "klkFGJLblWe6",
        "colab_type": "text"
      },
      "source": [
        "#### Separate data into X and y. Also, the LSTM layer from the Keras library expects the features in a 3D format of the form [samples, timesteps, features]. Seeing as each sample only has one set of features (the hourly totals), we simply add a third dimension with size 1"
      ]
    },
    {
      "cell_type": "code",
      "metadata": {
        "id": "DfSp9e_NlWe7",
        "colab_type": "code",
        "colab": {}
      },
      "source": [
        "X_train = df_train[:, :-1]\n",
        "X_train = X_train.reshape((X_train.shape[0], X_train.shape[1], 1))\n",
        "y_train = df_train[:, -1]\n",
        "X_val = df_val[:, :-1]\n",
        "X_val = X_val.reshape((X_val.shape[0], X_val.shape[1], 1))\n",
        "y_val = df_val[:, -1]\n",
        "X_test = df_test[:, :-1]\n",
        "X_test = X_test.reshape((X_test.shape[0], X_test.shape[1], 1))\n",
        "y_test = df_test[:, -1]"
      ],
      "execution_count": 23,
      "outputs": []
    },
    {
      "cell_type": "markdown",
      "metadata": {
        "id": "qXGy4ZC5lWe-",
        "colab_type": "text"
      },
      "source": [
        "## Baseline Model\n",
        "\n",
        "#### Before we train the neural network let's create a baseline model and then try to beat it. A good baseline is simply predicting the same sales as the same day of the previous week.\n",
        "\n",
        "#### Recall that the sales for the same day of the previous week are in the first column of the feature set"
      ]
    },
    {
      "cell_type": "code",
      "metadata": {
        "id": "8Z0Sh23xlWe_",
        "colab_type": "code",
        "colab": {
          "base_uri": "https://localhost:8080/",
          "height": 34
        },
        "outputId": "8554815b-d754-4dbb-db9a-ea88db909c3b"
      },
      "source": [
        "print('Baseline Validation MSE =', mean_squared_error(y_val, X_val[:, 0]))"
      ],
      "execution_count": 24,
      "outputs": [
        {
          "output_type": "stream",
          "text": [
            "Baseline Validation MSE = 0.01428338797298752\n"
          ],
          "name": "stdout"
        }
      ]
    },
    {
      "cell_type": "markdown",
      "metadata": {
        "id": "M08fsL4HlWfD",
        "colab_type": "text"
      },
      "source": [
        "#### Now we will train and validate a number of LSTMs with a single LSTM layer followed by a fully-connected affine layer with a single output. We will use dropout in the linear transformation of the LSTM layer to control overfitting, and the Adam optimiser to minimise mean squared error (MSE). We will train for a maximum of 200 epochs, but we will monitor the validation loss after every epoch and stop training early if the loss stops decreasing (patience=10)\n",
        "\n",
        "\n",
        "#### We will perform grid search on the number of cells in the LSTM layer, the dropout rate and the learning rate of the Adam optimiser."
      ]
    },
    {
      "cell_type": "code",
      "metadata": {
        "id": "-U1oCUW7lWfD",
        "colab_type": "code",
        "colab": {
          "base_uri": "https://localhost:8080/",
          "height": 1000
        },
        "outputId": "f840c9cf-11c9-4a81-8c0f-de3148f52bca"
      },
      "source": [
        "results = {}\n",
        "for num_cells in [10, 20, 30, 40, 50]:\n",
        "    for dropout_rate in [0, 0.1, 0.2]:\n",
        "        for lr in [1e-4, 3e-4, 1e-3, 3e-3, 1e-2]:\n",
        "\n",
        "            print('Running with', num_cells, \n",
        "                  'LSTM cells, dropout =', dropout_rate, \n",
        "                  'and learning rate =', lr, '...')\n",
        "\n",
        "            # build network\n",
        "            model = Sequential()\n",
        "            model.add(LSTM(num_cells, input_shape=(X_train.shape[1], X_train.shape[2]), \n",
        "                           dropout=dropout_rate))\n",
        "            model.add(Dense(1))\n",
        "            optimiser = Adam(lr=lr)\n",
        "            model.compile(loss='mse', optimizer=optimiser)\n",
        "\n",
        "            # fit network for a maximum of 200 epochs with early stopping (patience=10)\n",
        "            early_stopping = EarlyStopping(monitor='val_loss', patience=10)\n",
        "            history = model.fit(X_train, y_train, epochs=200, batch_size=128, \n",
        "                                validation_data=(X_val, y_val), callbacks=[early_stopping],\n",
        "                                verbose=0, shuffle=True)\n",
        "\n",
        "            # get training and validation loss at best epoch (number of epochs - patience)\n",
        "            num_epochs = len(history.history['val_loss'])\n",
        "            best_epoch = num_epochs - 10\n",
        "            train_mse = history.history['loss'][best_epoch]\n",
        "            val_mse = history.history['val_loss'][best_epoch] \n",
        "            results[(num_cells, dropout_rate, lr, best_epoch)] = {'train_mse': train_mse, \n",
        "                                                                  'val_mse': val_mse}                                                                                          \n",
        "            print('Train MSE =', train_mse, ', Validation MSE =', val_mse)        \n",
        "            print('+----------------------------------------------------------------------+')"
      ],
      "execution_count": 25,
      "outputs": [
        {
          "output_type": "stream",
          "text": [
            "Running with 10 LSTM cells, dropout = 0 and learning rate = 0.0001 ...\n",
            "Train MSE = 0.029872626066207886 , Validation MSE = 0.025961000472307205\n",
            "+----------------------------------------------------------------------+\n",
            "Running with 10 LSTM cells, dropout = 0 and learning rate = 0.0003 ...\n",
            "Train MSE = 0.011529490351676941 , Validation MSE = 0.010426370427012444\n",
            "+----------------------------------------------------------------------+\n",
            "Running with 10 LSTM cells, dropout = 0 and learning rate = 0.001 ...\n",
            "Train MSE = 0.011847475543618202 , Validation MSE = 0.011180350556969643\n",
            "+----------------------------------------------------------------------+\n",
            "Running with 10 LSTM cells, dropout = 0 and learning rate = 0.003 ...\n",
            "Train MSE = 0.01321148220449686 , Validation MSE = 0.012923021800816059\n",
            "+----------------------------------------------------------------------+\n",
            "Running with 10 LSTM cells, dropout = 0 and learning rate = 0.01 ...\n",
            "Train MSE = 0.009063576348125935 , Validation MSE = 0.01224047876894474\n",
            "+----------------------------------------------------------------------+\n",
            "Running with 10 LSTM cells, dropout = 0.1 and learning rate = 0.0001 ...\n",
            "Train MSE = 0.017271535471081734 , Validation MSE = 0.010870601050555706\n",
            "+----------------------------------------------------------------------+\n",
            "Running with 10 LSTM cells, dropout = 0.1 and learning rate = 0.0003 ...\n",
            "Train MSE = 0.015526901930570602 , Validation MSE = 0.010526547208428383\n",
            "+----------------------------------------------------------------------+\n",
            "Running with 10 LSTM cells, dropout = 0.1 and learning rate = 0.001 ...\n",
            "Train MSE = 0.015516197308897972 , Validation MSE = 0.010696915909647942\n",
            "+----------------------------------------------------------------------+\n",
            "Running with 10 LSTM cells, dropout = 0.1 and learning rate = 0.003 ...\n",
            "Train MSE = 0.014459790661931038 , Validation MSE = 0.012418887577950954\n",
            "+----------------------------------------------------------------------+\n",
            "Running with 10 LSTM cells, dropout = 0.1 and learning rate = 0.01 ...\n",
            "Train MSE = 0.014520760625600815 , Validation MSE = 0.010479862801730633\n",
            "+----------------------------------------------------------------------+\n",
            "Running with 10 LSTM cells, dropout = 0.2 and learning rate = 0.0001 ...\n",
            "Train MSE = 0.019640116021037102 , Validation MSE = 0.010540029965341091\n",
            "+----------------------------------------------------------------------+\n",
            "Running with 10 LSTM cells, dropout = 0.2 and learning rate = 0.0003 ...\n",
            "Train MSE = 0.018353886902332306 , Validation MSE = 0.01000264286994934\n",
            "+----------------------------------------------------------------------+\n",
            "Running with 10 LSTM cells, dropout = 0.2 and learning rate = 0.001 ...\n",
            "Train MSE = 0.01775885932147503 , Validation MSE = 0.010560542345046997\n",
            "+----------------------------------------------------------------------+\n",
            "Running with 10 LSTM cells, dropout = 0.2 and learning rate = 0.003 ...\n",
            "Train MSE = 0.016788315027952194 , Validation MSE = 0.011113222688436508\n",
            "+----------------------------------------------------------------------+\n",
            "Running with 10 LSTM cells, dropout = 0.2 and learning rate = 0.01 ...\n",
            "Train MSE = 0.01885952800512314 , Validation MSE = 0.010125427506864071\n",
            "+----------------------------------------------------------------------+\n",
            "Running with 20 LSTM cells, dropout = 0 and learning rate = 0.0001 ...\n",
            "Train MSE = 0.030191438272595406 , Validation MSE = 0.024757856503129005\n",
            "+----------------------------------------------------------------------+\n",
            "Running with 20 LSTM cells, dropout = 0 and learning rate = 0.0003 ...\n",
            "Train MSE = 0.012795906513929367 , Validation MSE = 0.01045343466103077\n",
            "+----------------------------------------------------------------------+\n",
            "Running with 20 LSTM cells, dropout = 0 and learning rate = 0.001 ...\n",
            "Train MSE = 0.012982689775526524 , Validation MSE = 0.01029612123966217\n",
            "+----------------------------------------------------------------------+\n",
            "Running with 20 LSTM cells, dropout = 0 and learning rate = 0.003 ...\n",
            "Train MSE = 0.011906163766980171 , Validation MSE = 0.011117440648376942\n",
            "+----------------------------------------------------------------------+\n",
            "Running with 20 LSTM cells, dropout = 0 and learning rate = 0.01 ...\n",
            "Train MSE = 0.00988053809851408 , Validation MSE = 0.013957513496279716\n",
            "+----------------------------------------------------------------------+\n",
            "Running with 20 LSTM cells, dropout = 0.1 and learning rate = 0.0001 ...\n",
            "Train MSE = 0.014976992271840572 , Validation MSE = 0.010222057811915874\n",
            "+----------------------------------------------------------------------+\n",
            "Running with 20 LSTM cells, dropout = 0.1 and learning rate = 0.0003 ...\n",
            "Train MSE = 0.016678595915436745 , Validation MSE = 0.010633288882672787\n",
            "+----------------------------------------------------------------------+\n",
            "Running with 20 LSTM cells, dropout = 0.1 and learning rate = 0.001 ...\n",
            "Train MSE = 0.015332757495343685 , Validation MSE = 0.011817622929811478\n",
            "+----------------------------------------------------------------------+\n",
            "Running with 20 LSTM cells, dropout = 0.1 and learning rate = 0.003 ...\n",
            "Train MSE = 0.015407771803438663 , Validation MSE = 0.011767816729843616\n",
            "+----------------------------------------------------------------------+\n",
            "Running with 20 LSTM cells, dropout = 0.1 and learning rate = 0.01 ...\n",
            "Train MSE = 0.016889061778783798 , Validation MSE = 0.014786391519010067\n",
            "+----------------------------------------------------------------------+\n",
            "Running with 20 LSTM cells, dropout = 0.2 and learning rate = 0.0001 ...\n",
            "Train MSE = 0.019600965082645416 , Validation MSE = 0.010280785150825977\n",
            "+----------------------------------------------------------------------+\n",
            "Running with 20 LSTM cells, dropout = 0.2 and learning rate = 0.0003 ...\n",
            "Train MSE = 0.01895843632519245 , Validation MSE = 0.009911909699440002\n",
            "+----------------------------------------------------------------------+\n",
            "Running with 20 LSTM cells, dropout = 0.2 and learning rate = 0.001 ...\n",
            "Train MSE = 0.018235817551612854 , Validation MSE = 0.011700933799147606\n",
            "+----------------------------------------------------------------------+\n",
            "Running with 20 LSTM cells, dropout = 0.2 and learning rate = 0.003 ...\n",
            "Train MSE = 0.018267903476953506 , Validation MSE = 0.011217555962502956\n",
            "+----------------------------------------------------------------------+\n",
            "Running with 20 LSTM cells, dropout = 0.2 and learning rate = 0.01 ...\n",
            "Train MSE = 0.0195793304592371 , Validation MSE = 0.011608405970036983\n",
            "+----------------------------------------------------------------------+\n",
            "Running with 30 LSTM cells, dropout = 0 and learning rate = 0.0001 ...\n",
            "Train MSE = 0.012672354467213154 , Validation MSE = 0.010094395838677883\n",
            "+----------------------------------------------------------------------+\n",
            "Running with 30 LSTM cells, dropout = 0 and learning rate = 0.0003 ...\n",
            "Train MSE = 0.012211947701871395 , Validation MSE = 0.010288264602422714\n",
            "+----------------------------------------------------------------------+\n",
            "Running with 30 LSTM cells, dropout = 0 and learning rate = 0.001 ...\n",
            "Train MSE = 0.011611287482082844 , Validation MSE = 0.010142181068658829\n",
            "+----------------------------------------------------------------------+\n",
            "Running with 30 LSTM cells, dropout = 0 and learning rate = 0.003 ...\n",
            "Train MSE = 0.011768512427806854 , Validation MSE = 0.010296563617885113\n",
            "+----------------------------------------------------------------------+\n",
            "Running with 30 LSTM cells, dropout = 0 and learning rate = 0.01 ...\n",
            "Train MSE = 0.010398752056062222 , Validation MSE = 0.013319304212927818\n",
            "+----------------------------------------------------------------------+\n",
            "Running with 30 LSTM cells, dropout = 0.1 and learning rate = 0.0001 ...\n",
            "Train MSE = 0.014898627065122128 , Validation MSE = 0.009919301606714725\n",
            "+----------------------------------------------------------------------+\n",
            "Running with 30 LSTM cells, dropout = 0.1 and learning rate = 0.0003 ...\n",
            "Train MSE = 0.015372690744698048 , Validation MSE = 0.010070135816931725\n",
            "+----------------------------------------------------------------------+\n",
            "Running with 30 LSTM cells, dropout = 0.1 and learning rate = 0.001 ...\n",
            "Train MSE = 0.016104942187666893 , Validation MSE = 0.010005091316998005\n",
            "+----------------------------------------------------------------------+\n",
            "Running with 30 LSTM cells, dropout = 0.1 and learning rate = 0.003 ...\n",
            "Train MSE = 0.01466120034456253 , Validation MSE = 0.01143426913768053\n",
            "+----------------------------------------------------------------------+\n",
            "Running with 30 LSTM cells, dropout = 0.1 and learning rate = 0.01 ...\n",
            "Train MSE = 0.013405037112534046 , Validation MSE = 0.011749492958188057\n",
            "+----------------------------------------------------------------------+\n",
            "Running with 30 LSTM cells, dropout = 0.2 and learning rate = 0.0001 ...\n",
            "Train MSE = 0.018665682524442673 , Validation MSE = 0.010085702873766422\n",
            "+----------------------------------------------------------------------+\n",
            "Running with 30 LSTM cells, dropout = 0.2 and learning rate = 0.0003 ...\n",
            "Train MSE = 0.018579060211777687 , Validation MSE = 0.010097320191562176\n",
            "+----------------------------------------------------------------------+\n",
            "Running with 30 LSTM cells, dropout = 0.2 and learning rate = 0.001 ...\n",
            "Train MSE = 0.018631523475050926 , Validation MSE = 0.01011123601347208\n",
            "+----------------------------------------------------------------------+\n",
            "Running with 30 LSTM cells, dropout = 0.2 and learning rate = 0.003 ...\n",
            "Train MSE = 0.018727712333202362 , Validation MSE = 0.012068500742316246\n",
            "+----------------------------------------------------------------------+\n",
            "Running with 30 LSTM cells, dropout = 0.2 and learning rate = 0.01 ...\n",
            "Train MSE = 0.015962325036525726 , Validation MSE = 0.012312975712120533\n",
            "+----------------------------------------------------------------------+\n",
            "Running with 40 LSTM cells, dropout = 0 and learning rate = 0.0001 ...\n",
            "Train MSE = 0.03256870061159134 , Validation MSE = 0.026541583240032196\n",
            "+----------------------------------------------------------------------+\n",
            "Running with 40 LSTM cells, dropout = 0 and learning rate = 0.0003 ...\n",
            "Train MSE = 0.012102069333195686 , Validation MSE = 0.010000484064221382\n",
            "+----------------------------------------------------------------------+\n",
            "Running with 40 LSTM cells, dropout = 0 and learning rate = 0.001 ...\n",
            "Train MSE = 0.011665523052215576 , Validation MSE = 0.010205273516476154\n",
            "+----------------------------------------------------------------------+\n",
            "Running with 40 LSTM cells, dropout = 0 and learning rate = 0.003 ...\n",
            "Train MSE = 0.01091757696121931 , Validation MSE = 0.010975603014230728\n",
            "+----------------------------------------------------------------------+\n",
            "Running with 40 LSTM cells, dropout = 0 and learning rate = 0.01 ...\n",
            "Train MSE = 0.012163419276475906 , Validation MSE = 0.010932935401797295\n",
            "+----------------------------------------------------------------------+\n",
            "Running with 40 LSTM cells, dropout = 0.1 and learning rate = 0.0001 ...\n",
            "Train MSE = 0.01502144243568182 , Validation MSE = 0.009861821308732033\n",
            "+----------------------------------------------------------------------+\n",
            "Running with 40 LSTM cells, dropout = 0.1 and learning rate = 0.0003 ...\n",
            "Train MSE = 0.014331556856632233 , Validation MSE = 0.010007476434111595\n",
            "+----------------------------------------------------------------------+\n",
            "Running with 40 LSTM cells, dropout = 0.1 and learning rate = 0.001 ...\n",
            "Train MSE = 0.013870899565517902 , Validation MSE = 0.011663914658129215\n",
            "+----------------------------------------------------------------------+\n",
            "Running with 40 LSTM cells, dropout = 0.1 and learning rate = 0.003 ...\n",
            "Train MSE = 0.01488426048308611 , Validation MSE = 0.010412856005132198\n",
            "+----------------------------------------------------------------------+\n",
            "Running with 40 LSTM cells, dropout = 0.1 and learning rate = 0.01 ...\n",
            "Train MSE = 0.01593480072915554 , Validation MSE = 0.012665131129324436\n",
            "+----------------------------------------------------------------------+\n",
            "Running with 40 LSTM cells, dropout = 0.2 and learning rate = 0.0001 ...\n",
            "Train MSE = 0.017675479874014854 , Validation MSE = 0.00979937519878149\n",
            "+----------------------------------------------------------------------+\n",
            "Running with 40 LSTM cells, dropout = 0.2 and learning rate = 0.0003 ...\n",
            "Train MSE = 0.018324049189686775 , Validation MSE = 0.010286890901625156\n",
            "+----------------------------------------------------------------------+\n",
            "Running with 40 LSTM cells, dropout = 0.2 and learning rate = 0.001 ...\n",
            "Train MSE = 0.01802651397883892 , Validation MSE = 0.010875679552555084\n",
            "+----------------------------------------------------------------------+\n",
            "Running with 40 LSTM cells, dropout = 0.2 and learning rate = 0.003 ...\n",
            "Train MSE = 0.017796948552131653 , Validation MSE = 0.01162765547633171\n",
            "+----------------------------------------------------------------------+\n",
            "Running with 40 LSTM cells, dropout = 0.2 and learning rate = 0.01 ...\n",
            "Train MSE = 0.016545763239264488 , Validation MSE = 0.01498054526746273\n",
            "+----------------------------------------------------------------------+\n",
            "Running with 50 LSTM cells, dropout = 0 and learning rate = 0.0001 ...\n",
            "Train MSE = 0.0299293864518404 , Validation MSE = 0.025410693138837814\n",
            "+----------------------------------------------------------------------+\n",
            "Running with 50 LSTM cells, dropout = 0 and learning rate = 0.0003 ...\n",
            "Train MSE = 0.011748859658837318 , Validation MSE = 0.010113578289747238\n",
            "+----------------------------------------------------------------------+\n",
            "Running with 50 LSTM cells, dropout = 0 and learning rate = 0.001 ...\n",
            "Train MSE = 0.012231886386871338 , Validation MSE = 0.010506777092814445\n",
            "+----------------------------------------------------------------------+\n",
            "Running with 50 LSTM cells, dropout = 0 and learning rate = 0.003 ...\n",
            "Train MSE = 0.011233195662498474 , Validation MSE = 0.012783854268491268\n",
            "+----------------------------------------------------------------------+\n",
            "Running with 50 LSTM cells, dropout = 0 and learning rate = 0.01 ...\n",
            "Train MSE = 0.012185831554234028 , Validation MSE = 0.014619546942412853\n",
            "+----------------------------------------------------------------------+\n",
            "Running with 50 LSTM cells, dropout = 0.1 and learning rate = 0.0001 ...\n",
            "Train MSE = 0.014619741588830948 , Validation MSE = 0.009659680537879467\n",
            "+----------------------------------------------------------------------+\n",
            "Running with 50 LSTM cells, dropout = 0.1 and learning rate = 0.0003 ...\n",
            "Train MSE = 0.014469359070062637 , Validation MSE = 0.010060813277959824\n",
            "+----------------------------------------------------------------------+\n",
            "Running with 50 LSTM cells, dropout = 0.1 and learning rate = 0.001 ...\n",
            "Train MSE = 0.014758977107703686 , Validation MSE = 0.011561298742890358\n",
            "+----------------------------------------------------------------------+\n",
            "Running with 50 LSTM cells, dropout = 0.1 and learning rate = 0.003 ...\n",
            "Train MSE = 0.01581927016377449 , Validation MSE = 0.011086438782513142\n",
            "+----------------------------------------------------------------------+\n",
            "Running with 50 LSTM cells, dropout = 0.1 and learning rate = 0.01 ...\n",
            "Train MSE = 0.013188505545258522 , Validation MSE = 0.01275311503559351\n",
            "+----------------------------------------------------------------------+\n",
            "Running with 50 LSTM cells, dropout = 0.2 and learning rate = 0.0001 ...\n",
            "Train MSE = 0.018801260739564896 , Validation MSE = 0.010281268507242203\n",
            "+----------------------------------------------------------------------+\n",
            "Running with 50 LSTM cells, dropout = 0.2 and learning rate = 0.0003 ...\n",
            "Train MSE = 0.018418772146105766 , Validation MSE = 0.01065013837069273\n",
            "+----------------------------------------------------------------------+\n",
            "Running with 50 LSTM cells, dropout = 0.2 and learning rate = 0.001 ...\n",
            "Train MSE = 0.01847558468580246 , Validation MSE = 0.010796491988003254\n",
            "+----------------------------------------------------------------------+\n",
            "Running with 50 LSTM cells, dropout = 0.2 and learning rate = 0.003 ...\n",
            "Train MSE = 0.01747075282037258 , Validation MSE = 0.010542991571128368\n",
            "+----------------------------------------------------------------------+\n",
            "Running with 50 LSTM cells, dropout = 0.2 and learning rate = 0.01 ...\n",
            "Train MSE = 0.014960460364818573 , Validation MSE = 0.01118265837430954\n",
            "+----------------------------------------------------------------------+\n"
          ],
          "name": "stdout"
        }
      ]
    },
    {
      "cell_type": "markdown",
      "metadata": {
        "id": "eUwfmexalWfL",
        "colab_type": "text"
      },
      "source": [
        "#### Get the parameters of the model with the lowest validation loss and train it "
      ]
    },
    {
      "cell_type": "code",
      "metadata": {
        "id": "_O7K0iMjlWfM",
        "colab_type": "code",
        "colab": {
          "base_uri": "https://localhost:8080/",
          "height": 34
        },
        "outputId": "f00e7858-cc7c-4d51-c27c-717a9bea5dbe"
      },
      "source": [
        "val_results = {key: results[key]['val_mse'] for key in results.keys()}\n",
        "num_cells, dropout_rate, lr, num_epochs = min(val_results, key=val_results.get)\n",
        "print('Best parameters:', num_cells, \n",
        "        'LSTM cells, training for', num_epochs, \n",
        "        'epochs with dropout =', dropout_rate, \n",
        "        'and learning rate =', lr)"
      ],
      "execution_count": 26,
      "outputs": [
        {
          "output_type": "stream",
          "text": [
            "Best parameters: 50 LSTM cells, training for 80 epochs with dropout = 0.1 and learning rate = 0.0001\n"
          ],
          "name": "stdout"
        }
      ]
    },
    {
      "cell_type": "code",
      "metadata": {
        "id": "f3_JxMw3lWfR",
        "colab_type": "code",
        "colab": {
          "base_uri": "https://localhost:8080/",
          "height": 296
        },
        "outputId": "b4d5ee78-f6fe-498c-c123-16fdc03075a8"
      },
      "source": [
        "# build network\n",
        "model = Sequential()\n",
        "model.add(LSTM(num_cells, input_shape=(X_train.shape[1], X_train.shape[2]), \n",
        "               dropout=dropout_rate))\n",
        "model.add(Dense(1))\n",
        "optimiser = Adam(lr=lr)\n",
        "model.compile(loss='mse', optimizer=optimiser)\n",
        "\n",
        "# fit network\n",
        "history = model.fit(X_train, y_train, epochs=num_epochs, batch_size=128, \n",
        "                    validation_data=(X_val, y_val),\n",
        "                    verbose=0, shuffle=True)\n",
        "\n",
        "# plot history\n",
        "plt.plot(history.history['loss'], label='train')\n",
        "plt.plot(history.history['val_loss'], label='validation')\n",
        "plt.xlabel('epoch')\n",
        "plt.ylabel('loss')\n",
        "plt.legend()\n",
        "plt.show()\n",
        "val_mse = history.history['val_loss'][-1]\n",
        "print('Final Validation MSE =', val_mse)"
      ],
      "execution_count": 27,
      "outputs": [
        {
          "output_type": "display_data",
          "data": {
            "image/png": "[encoded data removed]",
            "text/plain": [
              "<Figure size 432x288 with 1 Axes>"
            ]
          },
          "metadata": {
            "tags": [],
            "needs_background": "light"
          }
        },
        {
          "output_type": "stream",
          "text": [
            "Final Validation MSE = 0.010051720775663853\n"
          ],
          "name": "stdout"
        }
      ]
    },
    {
      "cell_type": "markdown",
      "metadata": {
        "id": "s4mj-2KYlWfU",
        "colab_type": "text"
      },
      "source": [
        "### We beat the baseline by 0.00426 MSE!\n",
        "\n",
        "#### Now let's visualise the predictions compared with the actual values. We will have to unscale the values first"
      ]
    },
    {
      "cell_type": "code",
      "metadata": {
        "id": "8HLjNG5xlWfV",
        "colab_type": "code",
        "colab": {
          "base_uri": "https://localhost:8080/",
          "height": 809
        },
        "outputId": "2a8f05e4-0538-4d4c-d6a2-46ae029a9d71"
      },
      "source": [
        "# get validation predictions\n",
        "y_val_pred = model.predict(X_val)\n",
        "\n",
        "# undo the scaling of the target variable\n",
        "def unscale_y(y):    \n",
        "    return scaler.inverse_transform(np.hstack((np.ones((y.shape[0], X_train.shape[1])), \n",
        "                                                      y.reshape((y.shape[0], 1)))))[:, -1]\n",
        "y_val_unscaled = unscale_y(y_val)\n",
        "y_val_pred_unscaled = unscale_y(y_val_pred)\n",
        "\n",
        "# plot validation predictions vs true values for each target day\n",
        "X_time_axis = []\n",
        "for i in range(662):\n",
        "  X_time_axis.append(df_rolling_hours.index[i].hour * 3600 + df_rolling_hours.index[i].minute * 60 + df_rolling_hours.index[i].second )\n",
        "\n",
        "for i, day in enumerate(['mon', 'tues', 'wed']):\n",
        "    i_first = i * len(X_time_axis)\n",
        "    i_last = (i + 1) * len(X_time_axis)    \n",
        "    plt.plot(X_time_axis, y_val_unscaled[i_first:i_last], label='true')\n",
        "    plt.plot(X_time_axis, y_val_pred_unscaled[i_first:i_last], label='predicted')\n",
        "    plt.title(day)\n",
        "    plt.ylabel('hourly running totals')\n",
        "    plt.legend()\n",
        "    plt.show()"
      ],
      "execution_count": 28,
      "outputs": [
        {
          "output_type": "display_data",
          "data": {
            "image/png": "[encoded data removed]",
            "text/plain": [
              "<Figure size 432x288 with 1 Axes>"
            ]
          },
          "metadata": {
            "tags": [],
            "needs_background": "light"
          }
        },
        {
          "output_type": "display_data",
          "data": {
            "image/png": "[encoded data removed]",
            "text/plain": [
              "<Figure size 432x288 with 1 Axes>"
            ]
          },
          "metadata": {
            "tags": [],
            "needs_background": "light"
          }
        },
        {
          "output_type": "display_data",
          "data": {
            "image/png": "[encoded data removed]",
            "text/plain": [
              "<Figure size 432x288 with 1 Axes>"
            ]
          },
          "metadata": {
            "tags": [],
            "needs_background": "light"
          }
        }
      ]
    },
    {
      "cell_type": "markdown",
      "metadata": {
        "id": "Bz-e6SSmlWfZ",
        "colab_type": "text"
      },
      "source": [
        "#### The model does reasonably well at predicting the true time series. However, it wasn't able to predict that there would be a drop in sales between roughly 19:30 and 21:00 on the Tuesday, then predicted that there would be a drop on the Wednesday during the same time period, which didn't actually happen. It therefore appears that the model is being heavily influenced by what happened on the previous day. Also, during the hours that the restaurant is closed it doesn't predict exactly zero sales.\n",
        "\n",
        "#### Let's train our chosen model on the training and validation data and evaluate on the test set to get a fairer estimate of the error."
      ]
    },
    {
      "cell_type": "code",
      "metadata": {
        "id": "YWS8fyZtlWfa",
        "colab_type": "code",
        "colab": {
          "base_uri": "https://localhost:8080/",
          "height": 34
        },
        "outputId": "add2404f-1ac7-4190-fbdc-5bb8c08f96aa"
      },
      "source": [
        "# build network\n",
        "model = Sequential()\n",
        "model.add(LSTM(num_cells, input_shape=(X_train.shape[1], X_train.shape[2]), \n",
        "               dropout=dropout_rate))\n",
        "model.add(Dense(1))\n",
        "optimiser = Adam(lr=lr)\n",
        "model.compile(loss='mse', optimizer=optimiser)\n",
        "\n",
        "# fit network\n",
        "history = model.fit(np.vstack((X_train, X_val)), \n",
        "                    np.concatenate((y_train, y_val)), \n",
        "                    epochs=num_epochs, batch_size=128, \n",
        "                    validation_data=(X_test, y_test),\n",
        "                    verbose=0, shuffle=True)\n",
        "\n",
        "test_mse = history.history['val_loss'][-1]\n",
        "print('Final Test MSE =', test_mse)"
      ],
      "execution_count": 29,
      "outputs": [
        {
          "output_type": "stream",
          "text": [
            "Final Test MSE = 0.021497229114174843\n"
          ],
          "name": "stdout"
        }
      ]
    },
    {
      "cell_type": "code",
      "metadata": {
        "id": "_tuYJtt9lWfd",
        "colab_type": "code",
        "colab": {
          "base_uri": "https://localhost:8080/",
          "height": 809
        },
        "outputId": "0ecb88a8-a8d8-4e9c-ecd6-c98189c98874"
      },
      "source": [
        "# get test predictions and unscale\n",
        "y_test_pred = model.predict(X_test)\n",
        "y_test_unscaled = unscale_y(y_test)\n",
        "y_test_pred_unscaled = unscale_y(y_test_pred)\n",
        "\n",
        "# plot test predictions vs true values for each target day\n",
        "for i, day in enumerate(['thurs', 'fri', 'sat']):\n",
        "    i_first = i * len(X_time_axis)\n",
        "    i_last = (i + 1) * len(X_time_axis)    \n",
        "    plt.plot(X_time_axis, y_test_unscaled[i_first:i_last], label='true')\n",
        "    plt.plot(X_time_axis, y_test_pred_unscaled[i_first:i_last], label='predicted')\n",
        "    plt.title(day)\n",
        "    plt.ylabel('hourly running totals')\n",
        "    plt.legend()\n",
        "    plt.show()"
      ],
      "execution_count": 30,
      "outputs": [
        {
          "output_type": "display_data",
          "data": {
            "image/png": "[encoded data removed]",
            "text/plain": [
              "<Figure size 432x288 with 1 Axes>"
            ]
          },
          "metadata": {
            "tags": [],
            "needs_background": "light"
          }
        },
        {
          "output_type": "display_data",
          "data": {
            "image/png": "[encoded data removed]",
            "text/plain": [
              "<Figure size 432x288 with 1 Axes>"
            ]
          },
          "metadata": {
            "tags": [],
            "needs_background": "light"
          }
        },
        {
          "output_type": "display_data",
          "data": {
            "image/png": "[encoded data removed]",
            "text/plain": [
              "<Figure size 432x288 with 1 Axes>"
            ]
          },
          "metadata": {
            "tags": [],
            "needs_background": "light"
          }
        }
      ]
    },
    {
      "cell_type": "markdown",
      "metadata": {
        "id": "GtNrEGpklWfi",
        "colab_type": "text"
      },
      "source": [
        "#### Unsurprisingly the model was unable to predict that the restaurant would open on Thursday afternoon, resulting in quite a high MSE relative to the validation error. However, it's actually good to see that the model learned from the fact that during the first 2 weeks the restaurant didn't open on Thursday afternoon and didn't just copy what happened on the Wednesday. The model correctly learned that the restaurant would not open in the afternoon on Friday and Saturday, although it wasn't able to predict exactly zero sales during these times and actually predicted slightly negative values for some hours.\n",
        "\n",
        "#### Overall, considering the limited training data available and the significant differences between training and test data, I think the model is pretty respectable. If several more weeks of data were available I believe it would perform very well.  \n",
        "\n",
        "#### Let's train the model with all the data and make a sales forecast for week 4."
      ]
    },
    {
      "cell_type": "code",
      "metadata": {
        "id": "JgupCR9slWfj",
        "colab_type": "code",
        "colab": {
          "base_uri": "https://localhost:8080/",
          "height": 34
        },
        "outputId": "ebe6ed4b-7f38-42f6-98c3-b4121162eb94"
      },
      "source": [
        "# build network\n",
        "model = Sequential()\n",
        "model.add(LSTM(num_cells, input_shape=(X_train.shape[1], X_train.shape[2]), \n",
        "               dropout=dropout_rate))\n",
        "model.add(Dense(1))\n",
        "optimiser = Adam(lr=lr)\n",
        "model.compile(loss='mse', optimizer=optimiser)\n",
        "\n",
        "# fit network\n",
        "model.fit(np.vstack((X_train, X_val, X_test)), \n",
        "                    np.concatenate((y_train, y_val, y_test)), \n",
        "                    epochs=num_epochs, batch_size=128, \n",
        "                    verbose=0, shuffle=True)"
      ],
      "execution_count": 31,
      "outputs": [
        {
          "output_type": "execute_result",
          "data": {
            "text/plain": [
              "<tensorflow.python.keras.callbacks.History at 0x7fbd7ede9f28>"
            ]
          },
          "metadata": {
            "tags": []
          },
          "execution_count": 31
        }
      ]
    },
    {
      "cell_type": "markdown",
      "metadata": {
        "id": "TOp-ORVmlWfq",
        "colab_type": "text"
      },
      "source": [
        "#### We will make a sales forecast as follows:\n",
        "\n",
        "1. apply model to final 7 days of training data to predict sales on the monday of the 4th week\n",
        "2. apply model to final 6 days of training data + predicted sales on monday of the 4th week to predict sales on the tuesday of 4th week\n",
        "3. apply model to final 5 days of training data + predicted sales on monday & tuesday of the 4th week to predict sales on the wednesday of 4th week\n",
        "4. and so on...\n",
        "\n",
        "\n",
        "#### Also, let's force the predictions to be zero during the hours we believe the restaurant to be closed. Consider the restaurant to be closed during a certain hour on a certain day if the sales are zero during the same hour on the same day in all weeks of the training data."
      ]
    },
    {
      "cell_type": "code",
      "metadata": {
        "scrolled": false,
        "id": "LSjtSJdilWfr",
        "colab_type": "code",
        "colab": {
          "base_uri": "https://localhost:8080/",
          "height": 204
        },
        "outputId": "c1f9c657-82fd-4cc2-b910-ad28dd4f1e8d"
      },
      "source": [
        "# create a dataframe for storing predictions\n",
        "week_days = {0: 'mon', 1: 'tues', 2: 'wed', 3: 'thurs', 4: 'fri', 5: 'sat'}\n",
        "df_forecast = pd.DataFrame(index=df_rolling_hours.index, columns=week_days.values())\n",
        "\n",
        "# get columns of final 7 days in training data\n",
        "feature_cols = [x for x in df_rolling_hours.columns if x.startswith('week3')]\n",
        "X_current = df_rolling_hours[feature_cols]\n",
        "\n",
        "# normalise and reshape\n",
        "X_current = scaler.transform(np.hstack((X_current, np.ones((X_current.shape[0], 1)))))[:, :-1]\n",
        "X_current = X_current.reshape((X_current.shape[0], X_current.shape[1], 1))\n",
        "\n",
        "for day_idx, day in week_days.items():\n",
        "    \n",
        "    # predict\n",
        "    y_pred = model.predict(X_current)\n",
        "    y_pred_unscaled = unscale_y(y_pred) \n",
        "    \n",
        "    # closed?\n",
        "    day_cols = [x for x in df_rolling_hours.columns if x.endswith(str(day_idx))]\n",
        "    closed_mask = (df_rolling_hours[day_cols] == 0).all(axis=1).values\n",
        "    y_pred_unscaled[closed_mask] = 0    \n",
        "    df_forecast[day] = y_pred_unscaled\n",
        "    \n",
        "    # shift X by a day\n",
        "    X_current = X_current.reshape((X_current.shape[0], X_current.shape[1]))\n",
        "    X_current = np.hstack((X_current[:, 1:], \n",
        "                           y_pred.reshape((y_pred.shape[0], 1))))\n",
        "    X_current = X_current.reshape((X_current.shape[0], X_current.shape[1], 1))\n",
        "    \n",
        "df_forecast.head()"
      ],
      "execution_count": 32,
      "outputs": [
        {
          "output_type": "execute_result",
          "data": {
            "text/html": [
              "<div>\n",
              "<style scoped>\n",
              "    .dataframe tbody tr th:only-of-type {\n",
              "        vertical-align: middle;\n",
              "    }\n",
              "\n",
              "    .dataframe tbody tr th {\n",
              "        vertical-align: top;\n",
              "    }\n",
              "\n",
              "    .dataframe thead th {\n",
              "        text-align: right;\n",
              "    }\n",
              "</style>\n",
              "<table border=\"1\" class=\"dataframe\">\n",
              "  <thead>\n",
              "    <tr style=\"text-align: right;\">\n",
              "      <th></th>\n",
              "      <th>mon</th>\n",
              "      <th>tues</th>\n",
              "      <th>wed</th>\n",
              "      <th>thurs</th>\n",
              "      <th>fri</th>\n",
              "      <th>sat</th>\n",
              "    </tr>\n",
              "  </thead>\n",
              "  <tbody>\n",
              "    <tr>\n",
              "      <th>11:39:59</th>\n",
              "      <td>501.665915</td>\n",
              "      <td>653.878780</td>\n",
              "      <td>721.867078</td>\n",
              "      <td>827.772359</td>\n",
              "      <td>1159.887769</td>\n",
              "      <td>987.174224</td>\n",
              "    </tr>\n",
              "    <tr>\n",
              "      <th>11:40:59</th>\n",
              "      <td>523.193265</td>\n",
              "      <td>672.816337</td>\n",
              "      <td>776.432680</td>\n",
              "      <td>849.047462</td>\n",
              "      <td>1179.783007</td>\n",
              "      <td>942.461798</td>\n",
              "    </tr>\n",
              "    <tr>\n",
              "      <th>11:41:59</th>\n",
              "      <td>522.224878</td>\n",
              "      <td>683.195893</td>\n",
              "      <td>817.023116</td>\n",
              "      <td>894.499739</td>\n",
              "      <td>1192.529688</td>\n",
              "      <td>947.957547</td>\n",
              "    </tr>\n",
              "    <tr>\n",
              "      <th>11:42:59</th>\n",
              "      <td>522.292440</td>\n",
              "      <td>682.295384</td>\n",
              "      <td>816.853656</td>\n",
              "      <td>899.228359</td>\n",
              "      <td>1205.961424</td>\n",
              "      <td>951.131926</td>\n",
              "    </tr>\n",
              "    <tr>\n",
              "      <th>11:43:59</th>\n",
              "      <td>544.683346</td>\n",
              "      <td>693.025041</td>\n",
              "      <td>839.670789</td>\n",
              "      <td>909.825429</td>\n",
              "      <td>1221.889225</td>\n",
              "      <td>954.819522</td>\n",
              "    </tr>\n",
              "  </tbody>\n",
              "</table>\n",
              "</div>"
            ],
            "text/plain": [
              "                 mon        tues  ...          fri         sat\n",
              "11:39:59  501.665915  653.878780  ...  1159.887769  987.174224\n",
              "11:40:59  523.193265  672.816337  ...  1179.783007  942.461798\n",
              "11:41:59  522.224878  683.195893  ...  1192.529688  947.957547\n",
              "11:42:59  522.292440  682.295384  ...  1205.961424  951.131926\n",
              "11:43:59  544.683346  693.025041  ...  1221.889225  954.819522\n",
              "\n",
              "[5 rows x 6 columns]"
            ]
          },
          "metadata": {
            "tags": []
          },
          "execution_count": 32
        }
      ]
    },
    {
      "cell_type": "markdown",
      "metadata": {
        "id": "ffXp3nY9lWfu",
        "colab_type": "text"
      },
      "source": [
        "#### Visualise the results compared with the 3 observed weeks"
      ]
    },
    {
      "cell_type": "code",
      "metadata": {
        "scrolled": false,
        "id": "kghNPj-vlWfv",
        "colab_type": "code",
        "colab": {
          "base_uri": "https://localhost:8080/",
          "height": 1000
        },
        "outputId": "c9e10943-c40c-4d0f-b326-d1c3aa5ba715"
      },
      "source": [
        "days = ['mon', 'tues', 'wed', 'thurs', 'fri', 'sat']\n",
        "colours = ['blue', 'red', 'green']\n",
        "\n",
        "X_time_axis = []\n",
        "for i in range(662):\n",
        "  X_time_axis.append(df_rolling_hours.index[i].hour * 3600 + df_rolling_hours.index[i].minute * 60 + df_rolling_hours.index[i].second )\n",
        "\n",
        "for day in np.arange(6):\n",
        "    # plot 3 observed weeks\n",
        "    for week in np.arange(1,4):   \n",
        "        col_name = 'week' + str(week) + '_day' + str(day)\n",
        "        if col_name in df_rolling_hours.columns.tolist():\n",
        "            plt.plot(X_time_axis, df_rolling_hours[col_name], \n",
        "                    color=colours[week-1], label= 'week ' + str(week))\n",
        "    # plot 4th week sales forecast\n",
        "    plt.plot(X_time_axis, df_forecast[days[day]], \n",
        "                    color='orange', label='week 4')    \n",
        "    plt.title(days[day])\n",
        "    plt.ylabel('hourly running totals')\n",
        "    plt.legend()\n",
        "    plt.show()"
      ],
      "execution_count": 33,
      "outputs": [
        {
          "output_type": "display_data",
          "data": {
            "image/png": "[encoded data removed]",
            "text/plain": [
              "<Figure size 432x288 with 1 Axes>"
            ]
          },
          "metadata": {
            "tags": [],
            "needs_background": "light"
          }
        },
        {
          "output_type": "display_data",
          "data": {
            "image/png": "[encoded data removed]",
            "text/plain": [
              "<Figure size 432x288 with 1 Axes>"
            ]
          },
          "metadata": {
            "tags": [],
            "needs_background": "light"
          }
        },
        {
          "output_type": "display_data",
          "data": {
            "image/png": "[encoded data removed]",
            "text/plain": [
              "<Figure size 432x288 with 1 Axes>"
            ]
          },
          "metadata": {
            "tags": [],
            "needs_background": "light"
          }
        },
        {
          "output_type": "display_data",
          "data": {
            "image/png": "[encoded data removed]",
            "text/plain": [
              "<Figure size 432x288 with 1 Axes>"
            ]
          },
          "metadata": {
            "tags": [],
            "needs_background": "light"
          }
        },
        {
          "output_type": "display_data",
          "data": {
            "image/png": "[encoded data removed]",
            "text/plain": [
              "<Figure size 432x288 with 1 Axes>"
            ]
          },
          "metadata": {
            "tags": [],
            "needs_background": "light"
          }
        },
        {
          "output_type": "display_data",
          "data": {
            "image/png": "[encoded data removed]",
            "text/plain": [
              "<Figure size 432x288 with 1 Axes>"
            ]
          },
          "metadata": {
            "tags": [],
            "needs_background": "light"
          }
        }
      ]
    },
    {
      "cell_type": "markdown",
      "metadata": {
        "id": "7Lq3CDIJlWfz",
        "colab_type": "text"
      },
      "source": [
        "#### The series which the model predicts for week 4 are similar to those of the first 3 weeks. It seems to have learned the general trend. Let's finish by calculating total sales per day.\n",
        "\n",
        "#### Note that the first time in the dataset is 11:39:59 and the last time is 22:40:59. We will calculate a total sales forecast using an averaging technique as follows:\n",
        "\n",
        "1. sum the hourly totals with the following start times: 11:39:59, 12:39:59, 13:39:59, ..., 22:39:59\n",
        "2. sum the hourly totals with the following start times: 11:40:59, 12:40:59, 13:40:59, ..., 22:40:59\n",
        "3. sum the hourly totals with the following start times: 11:41:59, 12:41:59, 13:41:59, ..., 22:40:59\n",
        "4. and so on until we reach 11:48:59 as our starting point...then average the results of the 10 separate estimates"
      ]
    },
    {
      "cell_type": "code",
      "metadata": {
        "scrolled": false,
        "id": "1NGyR9R2lWf0",
        "colab_type": "code",
        "colab": {
          "base_uri": "https://localhost:8080/",
          "height": 1000
        },
        "outputId": "fd5c476e-2deb-4384-dbaa-87a0a3768ccd"
      },
      "source": [
        "# compute observed daily totals\n",
        "observed_totals = df.groupby(['week', 'day'])['valorTotal'].sum().reset_index()\n",
        "\n",
        "# estimate daily totals in 4th week\n",
        "daily_totals = {}\n",
        "for day_idx, day in week_days.items():\n",
        "    estimates = []\n",
        "    for i in np.arange(10):\n",
        "        start_times = [(datetime.combine(datetime.today().date(), \n",
        "                          df_forecast.index[i]) + j * timedelta(minutes=60)\n",
        "                       ).time() for j in np.arange(12)]\n",
        "        if start_times[-1] > df_forecast.index[-1]:\n",
        "            start_times[-1] = df_forecast.index[-1]\n",
        "        estimates.append(df_forecast.loc[start_times, day].sum())\n",
        "    daily_totals[day] = sum(estimates) / len(estimates)\n",
        "    print('Week 4 sales forecast for', day, 'is', np.round(daily_totals[day]))\n",
        "    \n",
        "    # plot trend\n",
        "    totals = observed_totals.loc[observed_totals['day'] == day_idx, 'valorTotal'].values.tolist()\n",
        "    totals.append(daily_totals[day])\n",
        "    if day == 'mon':\n",
        "        plt.bar([2, 3, 4], totals)\n",
        "        plt.gca().set_xticks([2, 3, 4])\n",
        "    else:\n",
        "        plt.bar([1, 2, 3, 4], totals)\n",
        "        plt.gca().set_xticks([1, 2, 3, 4])\n",
        "    plt.title(day)\n",
        "    plt.xlabel('week')\n",
        "    plt.ylabel('total sales')\n",
        "    plt.show() \n",
        "    \n",
        "# total sales \n",
        "print('Total sales forecast for week 4 is', np.round(sum(list(daily_totals.values()))))"
      ],
      "execution_count": 34,
      "outputs": [
        {
          "output_type": "stream",
          "text": [
            "Week 4 sales forecast for mon is 5969.0\n"
          ],
          "name": "stdout"
        },
        {
          "output_type": "display_data",
          "data": {
            "image/png": "[encoded data removed]",
            "text/plain": [
              "<Figure size 432x288 with 1 Axes>"
            ]
          },
          "metadata": {
            "tags": [],
            "needs_background": "light"
          }
        },
        {
          "output_type": "stream",
          "text": [
            "Week 4 sales forecast for tues is 7785.0\n"
          ],
          "name": "stdout"
        },
        {
          "output_type": "display_data",
          "data": {
            "image/png": "[encoded data removed]",
            "text/plain": [
              "<Figure size 432x288 with 1 Axes>"
            ]
          },
          "metadata": {
            "tags": [],
            "needs_background": "light"
          }
        },
        {
          "output_type": "stream",
          "text": [
            "Week 4 sales forecast for wed is 8935.0\n"
          ],
          "name": "stdout"
        },
        {
          "output_type": "display_data",
          "data": {
            "image/png": "[encoded data removed]",
            "text/plain": [
              "<Figure size 432x288 with 1 Axes>"
            ]
          },
          "metadata": {
            "tags": [],
            "needs_background": "light"
          }
        },
        {
          "output_type": "stream",
          "text": [
            "Week 4 sales forecast for thurs is 7920.0\n"
          ],
          "name": "stdout"
        },
        {
          "output_type": "display_data",
          "data": {
            "image/png": "[encoded data removed]",
            "text/plain": [
              "<Figure size 432x288 with 1 Axes>"
            ]
          },
          "metadata": {
            "tags": [],
            "needs_background": "light"
          }
        },
        {
          "output_type": "stream",
          "text": [
            "Week 4 sales forecast for fri is 3755.0\n"
          ],
          "name": "stdout"
        },
        {
          "output_type": "display_data",
          "data": {
            "image/png": "[encoded data removed]",
            "text/plain": [
              "<Figure size 432x288 with 1 Axes>"
            ]
          },
          "metadata": {
            "tags": [],
            "needs_background": "light"
          }
        },
        {
          "output_type": "stream",
          "text": [
            "Week 4 sales forecast for sat is 3694.0\n"
          ],
          "name": "stdout"
        },
        {
          "output_type": "display_data",
          "data": {
            "image/png": "[encoded data removed]",
            "text/plain": [
              "<Figure size 432x288 with 1 Axes>"
            ]
          },
          "metadata": {
            "tags": [],
            "needs_background": "light"
          }
        },
        {
          "output_type": "stream",
          "text": [
            "Total sales forecast for week 4 is 38059.0\n"
          ],
          "name": "stdout"
        }
      ]
    },
    {
      "cell_type": "markdown",
      "metadata": {
        "id": "anMelsyblWf6",
        "colab_type": "text"
      },
      "source": [
        "# That's all folks!"
      ]
    },
    {
      "cell_type": "code",
      "metadata": {
        "id": "8QgYr9K54kgS",
        "colab_type": "code",
        "colab": {}
      },
      "source": [
        ""
      ],
      "execution_count": 34,
      "outputs": []
    }
  ]
}