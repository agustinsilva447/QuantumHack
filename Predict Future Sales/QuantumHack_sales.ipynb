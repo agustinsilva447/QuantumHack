{
  "nbformat": 4,
  "nbformat_minor": 0,
  "metadata": {
    "kernelspec": {
      "display_name": "Python 3",
      "language": "python",
      "name": "python3"
    },
    "language_info": {
      "codemirror_mode": {
        "name": "ipython",
        "version": 3
      },
      "file_extension": ".py",
      "mimetype": "text/x-python",
      "name": "python",
      "nbconvert_exporter": "python",
      "pygments_lexer": "ipython3",
      "version": "3.7.6"
    },
    "colab": {
      "name": "future-sales-xgboost-top-3.ipynb",
      "provenance": [],
      "collapsed_sections": []
    },
    "accelerator": "GPU"
  },
  "cells": [
    {
      "cell_type": "code",
      "metadata": {
        "id": "3smRje7-MWre",
        "colab_type": "code",
        "colab": {
          "base_uri": "https://localhost:8080/",
          "height": 71
        },
        "outputId": "4444b441-1fdc-4f96-f98f-1e168e87306f"
      },
      "source": [
        "import os\n",
        "import numpy as np \n",
        "import pandas as pd \n",
        "import matplotlib.pyplot as plt\n",
        "import seaborn as sns\n",
        "import re\n",
        "import time\n",
        "import gc\n",
        "import pickle\n",
        "\n",
        "from xgboost import XGBRegressor\n",
        "from xgboost import plot_importance\n",
        "from matplotlib.pylab import rcParams\n",
        "from itertools import product\n",
        "\n",
        "sns.set(style=\"darkgrid\")"
      ],
      "execution_count": 1,
      "outputs": [
        {
          "output_type": "stream",
          "text": [
            "/usr/local/lib/python3.6/dist-packages/statsmodels/tools/_testing.py:19: FutureWarning: pandas.util.testing is deprecated. Use the functions in the public API at pandas.testing instead.\n",
            "  import pandas.util.testing as tm\n"
          ],
          "name": "stderr"
        }
      ]
    },
    {
      "cell_type": "markdown",
      "metadata": {
        "id": "IPE-ulEAMWrc",
        "colab_type": "text"
      },
      "source": [
        "# Introduction\n",
        "\n",
        "The Future Sales competition is the final assesment in the 'How to win a Data Science' course in the Advanced Machine Learning specialisation from HSE University, Moscow. The aim is to predict the monthly sales of items in specific shops, given historical data. The sale counts are clipped between 0 and 20."
      ]
    },
    {
      "cell_type": "markdown",
      "metadata": {
        "id": "vi8lINHPMWrm",
        "colab_type": "text"
      },
      "source": [
        "# Load Data"
      ]
    },
    {
      "cell_type": "code",
      "metadata": {
        "id": "OYvp6oAhMWrn",
        "colab_type": "code",
        "colab": {}
      },
      "source": [
        "# load data\n",
        "items=pd.read_csv(\"items.csv\")\n",
        "shops=pd.read_csv(\"shops.csv\")\n",
        "cats=pd.read_csv(\"item_categories.csv\")\n",
        "train=pd.read_csv(\"sales_train.csv\")\n",
        "test=pd.read_csv(\"test.csv\")"
      ],
      "execution_count": 2,
      "outputs": []
    },
    {
      "cell_type": "markdown",
      "metadata": {
        "id": "8GbX-OO2MWru",
        "colab_type": "text"
      },
      "source": [
        "# Remove outliers"
      ]
    },
    {
      "cell_type": "markdown",
      "metadata": {
        "id": "s9efN5vtMWrs",
        "colab_type": "text"
      },
      "source": [
        "Data Cleaning\n",
        "\n",
        "We'll remove outliers, clean up some of the raw data and add some new variables to it."
      ]
    },
    {
      "cell_type": "code",
      "metadata": {
        "id": "fGjg3PNWMWrw",
        "colab_type": "code",
        "colab": {
          "base_uri": "https://localhost:8080/",
          "height": 570
        },
        "outputId": "2221c9e4-1d27-4300-dba0-92fadc7211ec"
      },
      "source": [
        "plt.figure(figsize=(10,4))\n",
        "plt.xlim(-100, 3000)\n",
        "flierprops = dict(marker='o', markerfacecolor='purple', markersize=6, linestyle='none', markeredgecolor='black')\n",
        "sns.boxplot(x=train.item_cnt_day, flierprops=flierprops)\n",
        "\n",
        "plt.figure(figsize=(10,4))\n",
        "plt.xlim(train.item_price.min(), train.item_price.max()*1.1)\n",
        "sns.boxplot(x=train.item_price, flierprops=flierprops)"
      ],
      "execution_count": 3,
      "outputs": [
        {
          "output_type": "execute_result",
          "data": {
            "text/plain": [
              "<matplotlib.axes._subplots.AxesSubplot at 0x7f0177923d68>"
            ]
          },
          "metadata": {
            "tags": []
          },
          "execution_count": 3
        },
        {
          "output_type": "display_data",
          "data": {
            "image/png": "[encoded data removed]",
            "text/plain": [
              "<Figure size 720x288 with 1 Axes>"
            ]
          },
          "metadata": {
            "tags": [],
            "needs_background": "light"
          }
        },
        {
          "output_type": "display_data",
          "data": {
            "image/png": "[encoded data removed]",
            "text/plain": [
              "<Figure size 720x288 with 1 Axes>"
            ]
          },
          "metadata": {
            "tags": [],
            "needs_background": "light"
          }
        }
      ]
    },
    {
      "cell_type": "markdown",
      "metadata": {
        "id": "AU-L9NgkMWr5",
        "colab_type": "text"
      },
      "source": [
        "We'll remove the obvious outliers in the dataset - the items that sold more than 1000 in one day and the item with price greater than 300,000."
      ]
    },
    {
      "cell_type": "code",
      "metadata": {
        "id": "JiIlKO_cMWr6",
        "colab_type": "code",
        "colab": {}
      },
      "source": [
        "train = train[(train.item_price < 300000 )& (train.item_cnt_day < 1000)]"
      ],
      "execution_count": 4,
      "outputs": []
    },
    {
      "cell_type": "markdown",
      "metadata": {
        "id": "G7bPMSgYMWr-",
        "colab_type": "text"
      },
      "source": [
        "Remove any rows from train where item price is negative - these could be refunds. Also make zero and item_cnt_day values less than one, to remove negative values."
      ]
    },
    {
      "cell_type": "code",
      "metadata": {
        "id": "rEGxQMz8MWr_",
        "colab_type": "code",
        "colab": {}
      },
      "source": [
        "train = train[train.item_price > 0].reset_index(drop = True)\n",
        "train.loc[train.item_cnt_day < 1, \"item_cnt_day\"] = 0"
      ],
      "execution_count": 5,
      "outputs": []
    },
    {
      "cell_type": "markdown",
      "metadata": {
        "id": "Sen1adk-MWsD",
        "colab_type": "text"
      },
      "source": [
        "# Cleaning Shop Data"
      ]
    },
    {
      "cell_type": "markdown",
      "metadata": {
        "id": "-ohqZ8amMWsE",
        "colab_type": "text"
      },
      "source": [
        "Several of the shops look like duplicates of each other. This could be down to shops re-opening or possibly moving store location on the same street or shopping centre."
      ]
    },
    {
      "cell_type": "code",
      "metadata": {
        "id": "l7vlx9xHMWsF",
        "colab_type": "code",
        "colab": {}
      },
      "source": [
        "train.loc[train.shop_id == 0, 'shop_id'] = 57\n",
        "test.loc[test.shop_id == 0, 'shop_id'] = 57\n",
        "\n",
        "train.loc[train.shop_id == 1, 'shop_id'] = 58\n",
        "test.loc[test.shop_id == 1, 'shop_id'] = 58\n",
        "\n",
        "train.loc[train.shop_id == 10, 'shop_id'] = 11\n",
        "test.loc[test.shop_id == 10, 'shop_id'] = 11"
      ],
      "execution_count": 6,
      "outputs": []
    },
    {
      "cell_type": "markdown",
      "metadata": {
        "id": "IxvCqoUrMWsQ",
        "colab_type": "text"
      },
      "source": [
        "Clean up some shop names and add 'city' and 'category' to shops df."
      ]
    },
    {
      "cell_type": "code",
      "metadata": {
        "id": "K9Abe5DqMWsQ",
        "colab_type": "code",
        "colab": {}
      },
      "source": [
        "shops.loc[ shops.shop_name == 'Сергиев Посад ТЦ \"7Я\"',\"shop_name\" ] = 'СергиевПосад ТЦ \"7Я\"'\n",
        "shops[\"city\"] = shops.shop_name.str.split(\" \").map( lambda x: x[0] )\n",
        "shops[\"category\"] = shops.shop_name.str.split(\" \").map( lambda x: x[1] )\n",
        "shops.loc[shops.city == \"!Якутск\", \"city\"] = \"Якутск\""
      ],
      "execution_count": 7,
      "outputs": []
    },
    {
      "cell_type": "markdown",
      "metadata": {
        "id": "d2CbzPLvMWsU",
        "colab_type": "text"
      },
      "source": [
        "Only keep shop category if there are 5 or more shops of that category, the rest are grouped as \"other\"."
      ]
    },
    {
      "cell_type": "code",
      "metadata": {
        "id": "0L7k3YtdMWsV",
        "colab_type": "code",
        "colab": {}
      },
      "source": [
        "category = []\n",
        "for cat in shops.category.unique():\n",
        "    if len(shops[shops.category == cat]) >= 5:\n",
        "        category.append(cat)\n",
        "shops.category = shops.category.apply( lambda x: x if (x in category) else \"other\" )"
      ],
      "execution_count": 8,
      "outputs": []
    },
    {
      "cell_type": "code",
      "metadata": {
        "id": "GoivJYWBMWsZ",
        "colab_type": "code",
        "colab": {}
      },
      "source": [
        "from sklearn.preprocessing import LabelEncoder\n",
        "shops[\"shop_category\"] = LabelEncoder().fit_transform( shops.category )\n",
        "shops[\"shop_city\"] = LabelEncoder().fit_transform( shops.city )\n",
        "shops = shops[[\"shop_id\", \"shop_category\", \"shop_city\"]]"
      ],
      "execution_count": 9,
      "outputs": []
    },
    {
      "cell_type": "markdown",
      "metadata": {
        "id": "T8ocph6oMWsc",
        "colab_type": "text"
      },
      "source": [
        "# Cleaning Item Category Data"
      ]
    },
    {
      "cell_type": "code",
      "metadata": {
        "id": "xVCQS7v5MWsd",
        "colab_type": "code",
        "colab": {}
      },
      "source": [
        "cats[\"type_code\"] = cats.item_category_name.apply( lambda x: x.split(\" \")[0] ).astype(str)\n",
        "cats.loc[ (cats.type_code == \"Игровые\")| (cats.type_code == \"Аксессуары\"), \"category\" ] = \"Игры\""
      ],
      "execution_count": 10,
      "outputs": []
    },
    {
      "cell_type": "code",
      "metadata": {
        "id": "YNvSmSwEMWsi",
        "colab_type": "code",
        "colab": {}
      },
      "source": [
        "category = []\n",
        "for cat in cats.type_code.unique():\n",
        "    if len(cats[cats.type_code == cat]) >= 5: \n",
        "        category.append( cat )\n",
        "cats.type_code = cats.type_code.apply(lambda x: x if (x in category) else \"etc\")"
      ],
      "execution_count": 11,
      "outputs": []
    },
    {
      "cell_type": "code",
      "metadata": {
        "id": "Muv4d8axMWsm",
        "colab_type": "code",
        "colab": {}
      },
      "source": [
        "cats.type_code = LabelEncoder().fit_transform(cats.type_code)\n",
        "cats[\"split\"] = cats.item_category_name.apply(lambda x: x.split(\"-\"))\n",
        "cats[\"subtype\"] = cats.split.apply(lambda x: x[1].strip() if len(x) > 1 else x[0].strip())\n",
        "cats[\"subtype_code\"] = LabelEncoder().fit_transform( cats[\"subtype\"] )\n",
        "cats = cats[[\"item_category_id\", \"subtype_code\", \"type_code\"]]"
      ],
      "execution_count": 12,
      "outputs": []
    },
    {
      "cell_type": "markdown",
      "metadata": {
        "id": "to6-QhM9MWsp",
        "colab_type": "text"
      },
      "source": [
        "# Cleaning Item Data"
      ]
    },
    {
      "cell_type": "code",
      "metadata": {
        "id": "aKkCTlSMMWsq",
        "colab_type": "code",
        "colab": {}
      },
      "source": [
        "def name_correction(x):\n",
        "    x = x.lower()             # all letters lower case\n",
        "    x = x.partition('[')[0]   # partition by square brackets\n",
        "    x = x.partition('(')[0]   # partition by curly brackets\n",
        "    x = re.sub('[^A-Za-z0-9А-Яа-я]+', ' ', x) # remove special characters\n",
        "    x = x.replace('  ', ' ')  # replace double spaces with single spaces\n",
        "    x = x.strip()             # remove leading and trailing white space\n",
        "    return x"
      ],
      "execution_count": 13,
      "outputs": []
    },
    {
      "cell_type": "markdown",
      "metadata": {
        "id": "RVfNlLvYMWsu",
        "colab_type": "text"
      },
      "source": [
        "Clean item names."
      ]
    },
    {
      "cell_type": "code",
      "metadata": {
        "id": "1vhBcWTrMWsu",
        "colab_type": "code",
        "colab": {
          "base_uri": "https://localhost:8080/",
          "height": 105
        },
        "outputId": "94f88e2b-258a-4995-873c-8896667e6920"
      },
      "source": [
        "# split item names by first bracket\n",
        "items[\"name1\"], items[\"name2\"] = items.item_name.str.split(\"[\", 1).str\n",
        "items[\"name1\"], items[\"name3\"] = items.item_name.str.split(\"(\", 1).str\n",
        "\n",
        "# replace special characters and turn to lower case\n",
        "items[\"name2\"] = items.name2.str.replace('[^A-Za-z0-9А-Яа-я]+', \" \").str.lower()\n",
        "items[\"name3\"] = items.name3.str.replace('[^A-Za-z0-9А-Яа-я]+', \" \").str.lower()\n",
        "\n",
        "# fill nulls with '0'\n",
        "items = items.fillna('0')\n",
        "\n",
        "items[\"item_name\"] = items[\"item_name\"].apply(lambda x: name_correction(x))\n",
        "\n",
        "# return all characters except the last if name 2 is not \"0\" - the closing bracket\n",
        "items.name2 = items.name2.apply( lambda x: x[:-1] if x !=\"0\" else \"0\")"
      ],
      "execution_count": 14,
      "outputs": [
        {
          "output_type": "stream",
          "text": [
            "/usr/local/lib/python3.6/dist-packages/ipykernel_launcher.py:2: FutureWarning: Columnar iteration over characters will be deprecated in future releases.\n",
            "  \n",
            "/usr/local/lib/python3.6/dist-packages/ipykernel_launcher.py:3: FutureWarning: Columnar iteration over characters will be deprecated in future releases.\n",
            "  This is separate from the ipykernel package so we can avoid doing imports until\n"
          ],
          "name": "stderr"
        }
      ]
    },
    {
      "cell_type": "markdown",
      "metadata": {
        "id": "O5ZPZqQQMWsy",
        "colab_type": "text"
      },
      "source": [
        "Clean item type"
      ]
    },
    {
      "cell_type": "code",
      "metadata": {
        "id": "dEzGtQYvMWsz",
        "colab_type": "code",
        "colab": {}
      },
      "source": [
        "items[\"type\"] = items.name2.apply(lambda x: x[0:8] if x.split(\" \")[0] == \"xbox\" else x.split(\" \")[0] )\n",
        "items.loc[(items.type == \"x360\") | (items.type == \"xbox360\") | (items.type == \"xbox 360\") ,\"type\"] = \"xbox 360\"\n",
        "items.loc[ items.type == \"\", \"type\"] = \"mac\"\n",
        "items.type = items.type.apply( lambda x: x.replace(\" \", \"\") )\n",
        "items.loc[ (items.type == 'pc' )| (items.type == 'pс') | (items.type == \"pc\"), \"type\" ] = \"pc\"\n",
        "items.loc[ items.type == 'рs3' , \"type\"] = \"ps3\""
      ],
      "execution_count": 15,
      "outputs": []
    },
    {
      "cell_type": "code",
      "metadata": {
        "id": "LiaZukc9MWs5",
        "colab_type": "code",
        "colab": {}
      },
      "source": [
        "group_sum = items.groupby([\"type\"]).agg({\"item_id\": \"count\"})\n",
        "group_sum = group_sum.reset_index()\n",
        "drop_cols = []\n",
        "for cat in group_sum.type.unique():\n",
        "    if group_sum.loc[(group_sum.type == cat), \"item_id\"].values[0] <40:\n",
        "        drop_cols.append(cat)\n",
        "items.name2 = items.name2.apply( lambda x: \"other\" if (x in drop_cols) else x )\n",
        "items = items.drop([\"type\"], axis = 1)"
      ],
      "execution_count": 16,
      "outputs": []
    },
    {
      "cell_type": "code",
      "metadata": {
        "id": "xhgbPPJnMWs9",
        "colab_type": "code",
        "colab": {
          "base_uri": "https://localhost:8080/",
          "height": 204
        },
        "outputId": "0b294323-ef70-4b0f-86a0-8c8f3d0f594b"
      },
      "source": [
        "items.name2 = LabelEncoder().fit_transform(items.name2)\n",
        "items.name3 = LabelEncoder().fit_transform(items.name3)\n",
        "\n",
        "items.drop([\"item_name\", \"name1\"],axis = 1, inplace= True)\n",
        "items.head()"
      ],
      "execution_count": 17,
      "outputs": [
        {
          "output_type": "execute_result",
          "data": {
            "text/html": [
              "<div>\n",
              "<style scoped>\n",
              "    .dataframe tbody tr th:only-of-type {\n",
              "        vertical-align: middle;\n",
              "    }\n",
              "\n",
              "    .dataframe tbody tr th {\n",
              "        vertical-align: top;\n",
              "    }\n",
              "\n",
              "    .dataframe thead th {\n",
              "        text-align: right;\n",
              "    }\n",
              "</style>\n",
              "<table border=\"1\" class=\"dataframe\">\n",
              "  <thead>\n",
              "    <tr style=\"text-align: right;\">\n",
              "      <th></th>\n",
              "      <th>item_id</th>\n",
              "      <th>item_category_id</th>\n",
              "      <th>name2</th>\n",
              "      <th>name3</th>\n",
              "    </tr>\n",
              "  </thead>\n",
              "  <tbody>\n",
              "    <tr>\n",
              "      <th>0</th>\n",
              "      <td>0</td>\n",
              "      <td>40</td>\n",
              "      <td>4</td>\n",
              "      <td>1331</td>\n",
              "    </tr>\n",
              "    <tr>\n",
              "      <th>1</th>\n",
              "      <td>1</td>\n",
              "      <td>76</td>\n",
              "      <td>64</td>\n",
              "      <td>42</td>\n",
              "    </tr>\n",
              "    <tr>\n",
              "      <th>2</th>\n",
              "      <td>2</td>\n",
              "      <td>40</td>\n",
              "      <td>4</td>\n",
              "      <td>1011</td>\n",
              "    </tr>\n",
              "    <tr>\n",
              "      <th>3</th>\n",
              "      <td>3</td>\n",
              "      <td>40</td>\n",
              "      <td>4</td>\n",
              "      <td>1010</td>\n",
              "    </tr>\n",
              "    <tr>\n",
              "      <th>4</th>\n",
              "      <td>4</td>\n",
              "      <td>40</td>\n",
              "      <td>4</td>\n",
              "      <td>1572</td>\n",
              "    </tr>\n",
              "  </tbody>\n",
              "</table>\n",
              "</div>"
            ],
            "text/plain": [
              "   item_id  item_category_id  name2  name3\n",
              "0        0                40      4   1331\n",
              "1        1                76     64     42\n",
              "2        2                40      4   1011\n",
              "3        3                40      4   1010\n",
              "4        4                40      4   1572"
            ]
          },
          "metadata": {
            "tags": []
          },
          "execution_count": 17
        }
      ]
    },
    {
      "cell_type": "markdown",
      "metadata": {
        "id": "XR1Lmp8dMWtB",
        "colab_type": "text"
      },
      "source": [
        "# Preprocessing"
      ]
    },
    {
      "cell_type": "markdown",
      "metadata": {
        "id": "2pkUBWUPQETu",
        "colab_type": "text"
      },
      "source": [
        "Create a matrix df with every combination of month, shop and item in order of increasing month. Item_cnt_day is summed into an item_cnt_month."
      ]
    },
    {
      "cell_type": "code",
      "metadata": {
        "id": "IjsXyeFcMWtB",
        "colab_type": "code",
        "colab": {
          "base_uri": "https://localhost:8080/",
          "height": 34
        },
        "outputId": "58d2288e-3db6-4583-8ea0-622b31b5beea"
      },
      "source": [
        "ts = time.time()\n",
        "matrix = []\n",
        "cols  = [\"date_block_num\", \"shop_id\", \"item_id\"]\n",
        "for i in range(34):\n",
        "    sales = train[train.date_block_num == i]\n",
        "    matrix.append( np.array(list( product( [i], sales.shop_id.unique(), sales.item_id.unique() ) ), dtype = np.int16) )\n",
        "\n",
        "matrix = pd.DataFrame( np.vstack(matrix), columns = cols )\n",
        "matrix[\"date_block_num\"] = matrix[\"date_block_num\"].astype(np.int8)\n",
        "matrix[\"shop_id\"] = matrix[\"shop_id\"].astype(np.int8)\n",
        "matrix[\"item_id\"] = matrix[\"item_id\"].astype(np.int16)\n",
        "matrix.sort_values( cols, inplace = True )\n",
        "time.time()- ts"
      ],
      "execution_count": 18,
      "outputs": [
        {
          "output_type": "execute_result",
          "data": {
            "text/plain": [
              "9.692714214324951"
            ]
          },
          "metadata": {
            "tags": []
          },
          "execution_count": 18
        }
      ]
    },
    {
      "cell_type": "code",
      "metadata": {
        "id": "p2hahNhSMWtF",
        "colab_type": "code",
        "colab": {}
      },
      "source": [
        "# add revenue to train df\n",
        "train[\"revenue\"] = train[\"item_cnt_day\"] * train[\"item_price\"]"
      ],
      "execution_count": 19,
      "outputs": []
    },
    {
      "cell_type": "code",
      "metadata": {
        "id": "0H-OE2e2MWtI",
        "colab_type": "code",
        "colab": {
          "base_uri": "https://localhost:8080/",
          "height": 34
        },
        "outputId": "2a2e7a91-e6a2-4e76-baec-97204ef0d358"
      },
      "source": [
        "ts = time.time()\n",
        "group = train.groupby( [\"date_block_num\", \"shop_id\", \"item_id\"] ).agg( {\"item_cnt_day\": [\"sum\"]} )\n",
        "group.columns = [\"item_cnt_month\"]\n",
        "group.reset_index( inplace = True)\n",
        "matrix = pd.merge( matrix, group, on = cols, how = \"left\" )\n",
        "matrix[\"item_cnt_month\"] = matrix[\"item_cnt_month\"].fillna(0).astype(np.float16)\n",
        "time.time() - ts"
      ],
      "execution_count": 20,
      "outputs": [
        {
          "output_type": "execute_result",
          "data": {
            "text/plain": [
              "4.436203718185425"
            ]
          },
          "metadata": {
            "tags": []
          },
          "execution_count": 20
        }
      ]
    },
    {
      "cell_type": "markdown",
      "metadata": {
        "id": "Gl9YJzTbMWtM",
        "colab_type": "text"
      },
      "source": [
        "Create a test set for month 34."
      ]
    },
    {
      "cell_type": "code",
      "metadata": {
        "id": "qqz914ZXMWtN",
        "colab_type": "code",
        "colab": {}
      },
      "source": [
        "test[\"date_block_num\"] = 34\n",
        "test[\"date_block_num\"] = test[\"date_block_num\"].astype(np.int8)\n",
        "test[\"shop_id\"] = test.shop_id.astype(np.int8)\n",
        "test[\"item_id\"] = test.item_id.astype(np.int16)"
      ],
      "execution_count": 21,
      "outputs": []
    },
    {
      "cell_type": "markdown",
      "metadata": {
        "id": "GYhPhGUiMWtQ",
        "colab_type": "text"
      },
      "source": [
        "Concatenate train and test sets."
      ]
    },
    {
      "cell_type": "code",
      "metadata": {
        "id": "g7AoJqVTMWtR",
        "colab_type": "code",
        "colab": {
          "base_uri": "https://localhost:8080/",
          "height": 34
        },
        "outputId": "6039f71f-8bf9-481c-8141-26ce754e4534"
      },
      "source": [
        "ts = time.time()\n",
        "\n",
        "matrix = pd.concat([matrix, test.drop([\"ID\"],axis = 1)], ignore_index=True, sort=False, keys=cols)\n",
        "matrix.fillna( 0, inplace = True )\n",
        "time.time() - ts"
      ],
      "execution_count": 22,
      "outputs": [
        {
          "output_type": "execute_result",
          "data": {
            "text/plain": [
              "0.06822896003723145"
            ]
          },
          "metadata": {
            "tags": []
          },
          "execution_count": 22
        }
      ]
    },
    {
      "cell_type": "markdown",
      "metadata": {
        "id": "TJqzar7aMWtV",
        "colab_type": "text"
      },
      "source": [
        "Add shop, items and categories data onto matrix df."
      ]
    },
    {
      "cell_type": "code",
      "metadata": {
        "_cell_guid": "79c7e3d0-c299-4dcb-8224-4455121ee9b0",
        "_uuid": "d629ff2d2480ee46fbb7e2d37f6b5fab8052498a",
        "id": "ISTA_iuPMWtW",
        "colab_type": "code",
        "colab": {
          "base_uri": "https://localhost:8080/",
          "height": 34
        },
        "outputId": "8f11593b-b7cf-4714-f49f-f5adaa1f3daf"
      },
      "source": [
        "ts = time.time()\n",
        "matrix = pd.merge( matrix, shops, on = [\"shop_id\"], how = \"left\" )\n",
        "matrix = pd.merge(matrix, items, on = [\"item_id\"], how = \"left\")\n",
        "matrix = pd.merge( matrix, cats, on = [\"item_category_id\"], how = \"left\" )\n",
        "matrix[\"shop_city\"] = matrix[\"shop_city\"].astype(np.int8)\n",
        "matrix[\"shop_category\"] = matrix[\"shop_category\"].astype(np.int8)\n",
        "matrix[\"item_category_id\"] = matrix[\"item_category_id\"].astype(np.int8)\n",
        "matrix[\"subtype_code\"] = matrix[\"subtype_code\"].astype(np.int8)\n",
        "matrix[\"name2\"] = matrix[\"name2\"].astype(np.int8)\n",
        "matrix[\"name3\"] = matrix[\"name3\"].astype(np.int16)\n",
        "matrix[\"type_code\"] = matrix[\"type_code\"].astype(np.int8)\n",
        "time.time() - ts"
      ],
      "execution_count": 23,
      "outputs": [
        {
          "output_type": "execute_result",
          "data": {
            "text/plain": [
              "3.6743392944335938"
            ]
          },
          "metadata": {
            "tags": []
          },
          "execution_count": 23
        }
      ]
    },
    {
      "cell_type": "markdown",
      "metadata": {
        "id": "R6REhI8bMWta",
        "colab_type": "text"
      },
      "source": [
        "Feature Engineering\n",
        "\n",
        "* Add lag features to matrix df."
      ]
    },
    {
      "cell_type": "code",
      "metadata": {
        "id": "FxGMzVhhMWtb",
        "colab_type": "code",
        "colab": {}
      },
      "source": [
        "# Define a lag feature function\n",
        "def lag_feature( df,lags, cols ):\n",
        "    for col in cols:\n",
        "        print(col)\n",
        "        tmp = df[[\"date_block_num\", \"shop_id\",\"item_id\",col ]]\n",
        "        for i in lags:\n",
        "            shifted = tmp.copy()\n",
        "            shifted.columns = [\"date_block_num\", \"shop_id\", \"item_id\", col + \"_lag_\"+str(i)]\n",
        "            shifted.date_block_num = shifted.date_block_num + i\n",
        "            df = pd.merge(df, shifted, on=['date_block_num','shop_id','item_id'], how='left')\n",
        "    return df"
      ],
      "execution_count": 24,
      "outputs": []
    },
    {
      "cell_type": "markdown",
      "metadata": {
        "id": "hDL7mwkbMWte",
        "colab_type": "text"
      },
      "source": [
        "Add item_cnt_month lag features."
      ]
    },
    {
      "cell_type": "code",
      "metadata": {
        "id": "CESI1Hn-MWtf",
        "colab_type": "code",
        "colab": {
          "base_uri": "https://localhost:8080/",
          "height": 51
        },
        "outputId": "444cdaa4-a3ac-462b-a787-31ab24fbf333"
      },
      "source": [
        "ts = time.time()\n",
        "matrix = lag_feature( matrix, [1,2,3], [\"item_cnt_month\"] )\n",
        "time.time() - ts"
      ],
      "execution_count": 25,
      "outputs": [
        {
          "output_type": "stream",
          "text": [
            "item_cnt_month\n"
          ],
          "name": "stdout"
        },
        {
          "output_type": "execute_result",
          "data": {
            "text/plain": [
              "16.899804830551147"
            ]
          },
          "metadata": {
            "tags": []
          },
          "execution_count": 25
        }
      ]
    },
    {
      "cell_type": "markdown",
      "metadata": {
        "id": "ZtKtcao_MWti",
        "colab_type": "text"
      },
      "source": [
        "Add the previous month's average item_cnt."
      ]
    },
    {
      "cell_type": "code",
      "metadata": {
        "id": "BevHRk8NMWtj",
        "colab_type": "code",
        "colab": {
          "base_uri": "https://localhost:8080/",
          "height": 51
        },
        "outputId": "ed89865f-84f3-4799-a1de-43f2435ed9ea"
      },
      "source": [
        "ts = time.time()\n",
        "group = matrix.groupby( [\"date_block_num\"] ).agg({\"item_cnt_month\" : [\"mean\"]})\n",
        "group.columns = [\"date_avg_item_cnt\"]\n",
        "group.reset_index(inplace = True)\n",
        "\n",
        "matrix = pd.merge(matrix, group, on = [\"date_block_num\"], how = \"left\")\n",
        "matrix.date_avg_item_cnt = matrix[\"date_avg_item_cnt\"].astype(np.float16)\n",
        "matrix = lag_feature( matrix, [1], [\"date_avg_item_cnt\"] )\n",
        "matrix.drop( [\"date_avg_item_cnt\"], axis = 1, inplace = True )\n",
        "time.time() - ts"
      ],
      "execution_count": 26,
      "outputs": [
        {
          "output_type": "stream",
          "text": [
            "date_avg_item_cnt\n"
          ],
          "name": "stdout"
        },
        {
          "output_type": "execute_result",
          "data": {
            "text/plain": [
              "8.975591897964478"
            ]
          },
          "metadata": {
            "tags": []
          },
          "execution_count": 26
        }
      ]
    },
    {
      "cell_type": "markdown",
      "metadata": {
        "id": "5UOUM27wMWtm",
        "colab_type": "text"
      },
      "source": [
        "Add lag values of item_cnt_month for month / item_id."
      ]
    },
    {
      "cell_type": "code",
      "metadata": {
        "id": "-4lsD3IdMWtn",
        "colab_type": "code",
        "colab": {
          "base_uri": "https://localhost:8080/",
          "height": 51
        },
        "outputId": "60c6c8f8-ad65-4ffe-beb4-6778c12b1793"
      },
      "source": [
        "ts = time.time()\n",
        "group = matrix.groupby(['date_block_num', 'item_id']).agg({'item_cnt_month': ['mean']})\n",
        "group.columns = [ 'date_item_avg_item_cnt' ]\n",
        "group.reset_index(inplace=True)\n",
        "\n",
        "matrix = pd.merge(matrix, group, on=['date_block_num','item_id'], how='left')\n",
        "matrix.date_item_avg_item_cnt = matrix['date_item_avg_item_cnt'].astype(np.float16)\n",
        "matrix = lag_feature(matrix, [1,2,3], ['date_item_avg_item_cnt'])\n",
        "matrix.drop(['date_item_avg_item_cnt'], axis=1, inplace=True)\n",
        "time.time() - ts"
      ],
      "execution_count": 27,
      "outputs": [
        {
          "output_type": "stream",
          "text": [
            "date_item_avg_item_cnt\n"
          ],
          "name": "stdout"
        },
        {
          "output_type": "execute_result",
          "data": {
            "text/plain": [
              "22.035698413848877"
            ]
          },
          "metadata": {
            "tags": []
          },
          "execution_count": 27
        }
      ]
    },
    {
      "cell_type": "markdown",
      "metadata": {
        "id": "qKO-Dde5MWtr",
        "colab_type": "text"
      },
      "source": [
        "Add lag values for item_cnt_month for every month / shop combination."
      ]
    },
    {
      "cell_type": "code",
      "metadata": {
        "id": "CmkLQtSCMWts",
        "colab_type": "code",
        "colab": {
          "base_uri": "https://localhost:8080/",
          "height": 105
        },
        "outputId": "f66c2f1d-5b58-4cc6-b888-7c1fcfb0ef2a"
      },
      "source": [
        "ts = time.time()\n",
        "group = matrix.groupby( [\"date_block_num\",\"shop_id\"] ).agg({\"item_cnt_month\" : [\"mean\"]})\n",
        "group.columns = [\"date_shop_avg_item_cnt\"]\n",
        "group.reset_index(inplace = True)\n",
        "\n",
        "matrix = pd.merge(matrix, group, on = [\"date_block_num\",\"shop_id\"], how = \"left\")\n",
        "matrix.date_avg_item_cnt = matrix[\"date_shop_avg_item_cnt\"].astype(np.float16)\n",
        "matrix = lag_feature( matrix, [1,2,3], [\"date_shop_avg_item_cnt\"] )\n",
        "matrix.drop( [\"date_shop_avg_item_cnt\"], axis = 1, inplace = True )\n",
        "time.time() - ts"
      ],
      "execution_count": 28,
      "outputs": [
        {
          "output_type": "stream",
          "text": [
            "/usr/local/lib/python3.6/dist-packages/ipykernel_launcher.py:7: UserWarning: Pandas doesn't allow columns to be created via a new attribute name - see https://pandas.pydata.org/pandas-docs/stable/indexing.html#attribute-access\n",
            "  import sys\n"
          ],
          "name": "stderr"
        },
        {
          "output_type": "stream",
          "text": [
            "date_shop_avg_item_cnt\n"
          ],
          "name": "stdout"
        },
        {
          "output_type": "execute_result",
          "data": {
            "text/plain": [
              "21.68303894996643"
            ]
          },
          "metadata": {
            "tags": []
          },
          "execution_count": 28
        }
      ]
    },
    {
      "cell_type": "markdown",
      "metadata": {
        "id": "XZiaDTeDMWtv",
        "colab_type": "text"
      },
      "source": [
        "Add lag values for item_cnt_month for month/shop/item."
      ]
    },
    {
      "cell_type": "code",
      "metadata": {
        "id": "0ZMbEnm_MWtw",
        "colab_type": "code",
        "colab": {
          "base_uri": "https://localhost:8080/",
          "height": 105
        },
        "outputId": "b20ddc2e-32bd-40cc-8a0c-5289feb7f556"
      },
      "source": [
        "ts = time.time()\n",
        "group = matrix.groupby( [\"date_block_num\",\"shop_id\",\"item_id\"] ).agg({\"item_cnt_month\" : [\"mean\"]})\n",
        "group.columns = [\"date_shop_item_avg_item_cnt\"]\n",
        "group.reset_index(inplace = True)\n",
        "\n",
        "matrix = pd.merge(matrix, group, on = [\"date_block_num\",\"shop_id\",\"item_id\"], how = \"left\")\n",
        "matrix.date_avg_item_cnt = matrix[\"date_shop_item_avg_item_cnt\"].astype(np.float16)\n",
        "matrix = lag_feature( matrix, [1,2,3], [\"date_shop_item_avg_item_cnt\"] )\n",
        "matrix.drop( [\"date_shop_item_avg_item_cnt\"], axis = 1, inplace = True )\n",
        "time.time() - ts"
      ],
      "execution_count": 29,
      "outputs": [
        {
          "output_type": "stream",
          "text": [
            "/usr/local/lib/python3.6/dist-packages/ipykernel_launcher.py:7: UserWarning: Pandas doesn't allow columns to be created via a new attribute name - see https://pandas.pydata.org/pandas-docs/stable/indexing.html#attribute-access\n",
            "  import sys\n"
          ],
          "name": "stderr"
        },
        {
          "output_type": "stream",
          "text": [
            "date_shop_item_avg_item_cnt\n"
          ],
          "name": "stdout"
        },
        {
          "output_type": "execute_result",
          "data": {
            "text/plain": [
              "31.116745948791504"
            ]
          },
          "metadata": {
            "tags": []
          },
          "execution_count": 29
        }
      ]
    },
    {
      "cell_type": "markdown",
      "metadata": {
        "id": "7Peb2rMDMWt2",
        "colab_type": "text"
      },
      "source": [
        "Add lag values for item_cnt_month for month/shop/item subtype."
      ]
    },
    {
      "cell_type": "code",
      "metadata": {
        "id": "k893fYdqMWt2",
        "colab_type": "code",
        "colab": {
          "base_uri": "https://localhost:8080/",
          "height": 51
        },
        "outputId": "23d4d250-608a-482e-dd71-791d8c2b96dc"
      },
      "source": [
        "ts = time.time()\n",
        "group = matrix.groupby(['date_block_num', 'shop_id', 'subtype_code']).agg({'item_cnt_month': ['mean']})\n",
        "group.columns = ['date_shop_subtype_avg_item_cnt']\n",
        "group.reset_index(inplace=True)\n",
        "\n",
        "matrix = pd.merge(matrix, group, on=['date_block_num', 'shop_id', 'subtype_code'], how='left')\n",
        "matrix.date_shop_subtype_avg_item_cnt = matrix['date_shop_subtype_avg_item_cnt'].astype(np.float16)\n",
        "matrix = lag_feature(matrix, [1], ['date_shop_subtype_avg_item_cnt'])\n",
        "matrix.drop(['date_shop_subtype_avg_item_cnt'], axis=1, inplace=True)\n",
        "time.time() - ts"
      ],
      "execution_count": 30,
      "outputs": [
        {
          "output_type": "stream",
          "text": [
            "date_shop_subtype_avg_item_cnt\n"
          ],
          "name": "stdout"
        },
        {
          "output_type": "execute_result",
          "data": {
            "text/plain": [
              "12.456278562545776"
            ]
          },
          "metadata": {
            "tags": []
          },
          "execution_count": 30
        }
      ]
    },
    {
      "cell_type": "markdown",
      "metadata": {
        "id": "dFVjTLyvMWt6",
        "colab_type": "text"
      },
      "source": [
        "Add lag values for item_cnt_month for month/city."
      ]
    },
    {
      "cell_type": "code",
      "metadata": {
        "id": "aiZFyquBMWt7",
        "colab_type": "code",
        "colab": {
          "base_uri": "https://localhost:8080/",
          "height": 51
        },
        "outputId": "bdd67192-82cd-426a-aa0d-700d86783ca3"
      },
      "source": [
        "ts = time.time()\n",
        "group = matrix.groupby(['date_block_num', 'shop_city']).agg({'item_cnt_month': ['mean']})\n",
        "group.columns = ['date_city_avg_item_cnt']\n",
        "group.reset_index(inplace=True)\n",
        "\n",
        "matrix = pd.merge(matrix, group, on=['date_block_num', \"shop_city\"], how='left')\n",
        "matrix.date_city_avg_item_cnt = matrix['date_city_avg_item_cnt'].astype(np.float16)\n",
        "matrix = lag_feature(matrix, [1], ['date_city_avg_item_cnt'])\n",
        "matrix.drop(['date_city_avg_item_cnt'], axis=1, inplace=True)\n",
        "time.time() - ts"
      ],
      "execution_count": 31,
      "outputs": [
        {
          "output_type": "stream",
          "text": [
            "date_city_avg_item_cnt\n"
          ],
          "name": "stdout"
        },
        {
          "output_type": "execute_result",
          "data": {
            "text/plain": [
              "12.224979877471924"
            ]
          },
          "metadata": {
            "tags": []
          },
          "execution_count": 31
        }
      ]
    },
    {
      "cell_type": "markdown",
      "metadata": {
        "id": "fOwKgobDMWt_",
        "colab_type": "text"
      },
      "source": [
        "Add lag values for item_cnt_month for month/city/item."
      ]
    },
    {
      "cell_type": "code",
      "metadata": {
        "id": "te4NzQ1qMWuA",
        "colab_type": "code",
        "colab": {
          "base_uri": "https://localhost:8080/",
          "height": 51
        },
        "outputId": "d3f5e175-0b97-459d-e0d0-2b296fe7eaf7"
      },
      "source": [
        "ts = time.time()\n",
        "group = matrix.groupby(['date_block_num', 'item_id', 'shop_city']).agg({'item_cnt_month': ['mean']})\n",
        "group.columns = [ 'date_item_city_avg_item_cnt' ]\n",
        "group.reset_index(inplace=True)\n",
        "\n",
        "matrix = pd.merge(matrix, group, on=['date_block_num', 'item_id', 'shop_city'], how='left')\n",
        "matrix.date_item_city_avg_item_cnt = matrix['date_item_city_avg_item_cnt'].astype(np.float16)\n",
        "matrix = lag_feature(matrix, [1], ['date_item_city_avg_item_cnt'])\n",
        "matrix.drop(['date_item_city_avg_item_cnt'], axis=1, inplace=True)\n",
        "time.time() - ts"
      ],
      "execution_count": 32,
      "outputs": [
        {
          "output_type": "stream",
          "text": [
            "date_item_city_avg_item_cnt\n"
          ],
          "name": "stdout"
        },
        {
          "output_type": "execute_result",
          "data": {
            "text/plain": [
              "18.522013902664185"
            ]
          },
          "metadata": {
            "tags": []
          },
          "execution_count": 32
        }
      ]
    },
    {
      "cell_type": "markdown",
      "metadata": {
        "id": "6a_hvSEuMWuD",
        "colab_type": "text"
      },
      "source": [
        "* Add average item price on to matix df. \n",
        "* Add lag values of item price per month.\n",
        "* Add delta price values - how current month average pirce relates to global average."
      ]
    },
    {
      "cell_type": "code",
      "metadata": {
        "id": "kJCk_xZxMWuE",
        "colab_type": "code",
        "colab": {
          "base_uri": "https://localhost:8080/",
          "height": 51
        },
        "outputId": "758c7db4-937b-42f9-dc4c-2d2b8e7307ce"
      },
      "source": [
        "ts = time.time()\n",
        "group = train.groupby( [\"item_id\"] ).agg({\"item_price\": [\"mean\"]})\n",
        "group.columns = [\"item_avg_item_price\"]\n",
        "group.reset_index(inplace = True)\n",
        "\n",
        "matrix = matrix.merge( group, on = [\"item_id\"], how = \"left\" )\n",
        "matrix[\"item_avg_item_price\"] = matrix.item_avg_item_price.astype(np.float16)\n",
        "\n",
        "\n",
        "group = train.groupby( [\"date_block_num\",\"item_id\"] ).agg( {\"item_price\": [\"mean\"]} )\n",
        "group.columns = [\"date_item_avg_item_price\"]\n",
        "group.reset_index(inplace = True)\n",
        "\n",
        "matrix = matrix.merge(group, on = [\"date_block_num\",\"item_id\"], how = \"left\")\n",
        "matrix[\"date_item_avg_item_price\"] = matrix.date_item_avg_item_price.astype(np.float16)\n",
        "lags = [1, 2, 3]\n",
        "matrix = lag_feature( matrix, lags, [\"date_item_avg_item_price\"] )\n",
        "for i in lags:\n",
        "    matrix[\"delta_price_lag_\" + str(i) ] = (matrix[\"date_item_avg_item_price_lag_\" + str(i)]- matrix[\"item_avg_item_price\"] )/ matrix[\"item_avg_item_price\"]\n",
        "\n",
        "def select_trends(row) :\n",
        "    for i in lags:\n",
        "        if row[\"delta_price_lag_\" + str(i)]:\n",
        "            return row[\"delta_price_lag_\" + str(i)]\n",
        "    return 0\n",
        "\n",
        "matrix[\"delta_price_lag\"] = matrix.apply(select_trends, axis = 1)\n",
        "matrix[\"delta_price_lag\"] = matrix.delta_price_lag.astype( np.float16 )\n",
        "matrix[\"delta_price_lag\"].fillna( 0 ,inplace = True)\n",
        "\n",
        "features_to_drop = [\"item_avg_item_price\", \"date_item_avg_item_price\"]\n",
        "for i in lags:\n",
        "    features_to_drop.append(\"date_item_avg_item_price_lag_\" + str(i) )\n",
        "    features_to_drop.append(\"delta_price_lag_\" + str(i) )\n",
        "matrix.drop(features_to_drop, axis = 1, inplace = True)\n",
        "time.time() - ts"
      ],
      "execution_count": 33,
      "outputs": [
        {
          "output_type": "stream",
          "text": [
            "date_item_avg_item_price\n"
          ],
          "name": "stdout"
        },
        {
          "output_type": "execute_result",
          "data": {
            "text/plain": [
              "266.4407112598419"
            ]
          },
          "metadata": {
            "tags": []
          },
          "execution_count": 33
        }
      ]
    },
    {
      "cell_type": "markdown",
      "metadata": {
        "id": "vQb4FBsGMWuH",
        "colab_type": "text"
      },
      "source": [
        "* Add total shop revenue per month to matix df. \n",
        "* Add lag values of revenue per month.\n",
        "* Add delta revenue values - how current month revenue relates to global average."
      ]
    },
    {
      "cell_type": "code",
      "metadata": {
        "id": "6Yn11GA7MWuI",
        "colab_type": "code",
        "colab": {
          "base_uri": "https://localhost:8080/",
          "height": 51
        },
        "outputId": "754a5e6a-9d05-4e6a-e49b-813ce8451ee2"
      },
      "source": [
        "ts = time.time()\n",
        "group = train.groupby( [\"date_block_num\",\"shop_id\"] ).agg({\"revenue\": [\"sum\"] })\n",
        "group.columns = [\"date_shop_revenue\"]\n",
        "group.reset_index(inplace = True)\n",
        "\n",
        "matrix = matrix.merge( group , on = [\"date_block_num\", \"shop_id\"], how = \"left\" )\n",
        "matrix['date_shop_revenue'] = matrix['date_shop_revenue'].astype(np.float32)\n",
        "\n",
        "group = group.groupby([\"shop_id\"]).agg({ \"date_block_num\":[\"mean\"] })\n",
        "group.columns = [\"shop_avg_revenue\"]\n",
        "group.reset_index(inplace = True )\n",
        "\n",
        "matrix = matrix.merge( group, on = [\"shop_id\"], how = \"left\" )\n",
        "matrix[\"shop_avg_revenue\"] = matrix.shop_avg_revenue.astype(np.float32)\n",
        "matrix[\"delta_revenue\"] = (matrix['date_shop_revenue'] - matrix['shop_avg_revenue']) / matrix['shop_avg_revenue']\n",
        "matrix[\"delta_revenue\"] = matrix[\"delta_revenue\"]. astype(np.float32)\n",
        "\n",
        "matrix = lag_feature(matrix, [1], [\"delta_revenue\"])\n",
        "matrix[\"delta_revenue_lag_1\"] = matrix[\"delta_revenue_lag_1\"].astype(np.float32)\n",
        "matrix.drop( [\"date_shop_revenue\", \"shop_avg_revenue\", \"delta_revenue\"] ,axis = 1, inplace = True)\n",
        "time.time() - ts"
      ],
      "execution_count": 34,
      "outputs": [
        {
          "output_type": "stream",
          "text": [
            "delta_revenue\n"
          ],
          "name": "stdout"
        },
        {
          "output_type": "execute_result",
          "data": {
            "text/plain": [
              "13.718742847442627"
            ]
          },
          "metadata": {
            "tags": []
          },
          "execution_count": 34
        }
      ]
    },
    {
      "cell_type": "markdown",
      "metadata": {
        "id": "zp5pWfMGMWuN",
        "colab_type": "text"
      },
      "source": [
        "Add month and number of days in each month to matrix df."
      ]
    },
    {
      "cell_type": "code",
      "metadata": {
        "id": "Xd_Ws_OSMWuO",
        "colab_type": "code",
        "colab": {}
      },
      "source": [
        "matrix[\"month\"] = matrix[\"date_block_num\"] % 12\n",
        "days = pd.Series([31,28,31,30,31,30,31,31,30,31,30,31])\n",
        "matrix[\"days\"] = matrix[\"month\"].map(days).astype(np.int8)"
      ],
      "execution_count": 35,
      "outputs": []
    },
    {
      "cell_type": "markdown",
      "metadata": {
        "id": "hUUnWegnMWuT",
        "colab_type": "text"
      },
      "source": [
        "Add the month of each shop and item first sale."
      ]
    },
    {
      "cell_type": "code",
      "metadata": {
        "id": "9R--53vSMWuU",
        "colab_type": "code",
        "colab": {
          "base_uri": "https://localhost:8080/",
          "height": 34
        },
        "outputId": "60d03928-8f5c-4c4b-d288-4d7f0c997e35"
      },
      "source": [
        "ts = time.time()\n",
        "matrix[\"item_shop_first_sale\"] = matrix[\"date_block_num\"] - matrix.groupby([\"item_id\",\"shop_id\"])[\"date_block_num\"].transform('min')\n",
        "matrix[\"item_first_sale\"] = matrix[\"date_block_num\"] - matrix.groupby([\"item_id\"])[\"date_block_num\"].transform('min')\n",
        "time.time() - ts"
      ],
      "execution_count": 36,
      "outputs": [
        {
          "output_type": "execute_result",
          "data": {
            "text/plain": [
              "1.5511627197265625"
            ]
          },
          "metadata": {
            "tags": []
          },
          "execution_count": 36
        }
      ]
    },
    {
      "cell_type": "markdown",
      "metadata": {
        "id": "inOb54l4MWua",
        "colab_type": "text"
      },
      "source": [
        "Delete first three months from matrix. They don't have lag values."
      ]
    },
    {
      "cell_type": "code",
      "metadata": {
        "id": "jOk6J8mNMWub",
        "colab_type": "code",
        "colab": {
          "base_uri": "https://localhost:8080/",
          "height": 34
        },
        "outputId": "439f4d4f-58ad-49d1-948e-8954b6c35e9d"
      },
      "source": [
        "ts = time.time()\n",
        "matrix = matrix[matrix[\"date_block_num\"] > 3]\n",
        "time.time() - ts"
      ],
      "execution_count": 37,
      "outputs": [
        {
          "output_type": "execute_result",
          "data": {
            "text/plain": [
              "0.9855341911315918"
            ]
          },
          "metadata": {
            "tags": []
          },
          "execution_count": 37
        }
      ]
    },
    {
      "cell_type": "code",
      "metadata": {
        "id": "dHfDkr69MWul",
        "colab_type": "code",
        "colab": {
          "base_uri": "https://localhost:8080/",
          "height": 1000
        },
        "outputId": "89626ade-4185-4ed9-8568-6ce97cbd18f7"
      },
      "source": [
        "matrix.head().T"
      ],
      "execution_count": 38,
      "outputs": [
        {
          "output_type": "execute_result",
          "data": {
            "text/html": [
              "<div>\n",
              "<style scoped>\n",
              "    .dataframe tbody tr th:only-of-type {\n",
              "        vertical-align: middle;\n",
              "    }\n",
              "\n",
              "    .dataframe tbody tr th {\n",
              "        vertical-align: top;\n",
              "    }\n",
              "\n",
              "    .dataframe thead th {\n",
              "        text-align: right;\n",
              "    }\n",
              "</style>\n",
              "<table border=\"1\" class=\"dataframe\">\n",
              "  <thead>\n",
              "    <tr style=\"text-align: right;\">\n",
              "      <th></th>\n",
              "      <th>1497465</th>\n",
              "      <th>1497466</th>\n",
              "      <th>1497467</th>\n",
              "      <th>1497468</th>\n",
              "      <th>1497469</th>\n",
              "    </tr>\n",
              "  </thead>\n",
              "  <tbody>\n",
              "    <tr>\n",
              "      <th>date_block_num</th>\n",
              "      <td>4.000000</td>\n",
              "      <td>4.000000</td>\n",
              "      <td>4.0</td>\n",
              "      <td>4.000000</td>\n",
              "      <td>4.000000</td>\n",
              "    </tr>\n",
              "    <tr>\n",
              "      <th>shop_id</th>\n",
              "      <td>2.000000</td>\n",
              "      <td>2.000000</td>\n",
              "      <td>2.0</td>\n",
              "      <td>2.000000</td>\n",
              "      <td>2.000000</td>\n",
              "    </tr>\n",
              "    <tr>\n",
              "      <th>item_id</th>\n",
              "      <td>27.000000</td>\n",
              "      <td>28.000000</td>\n",
              "      <td>29.0</td>\n",
              "      <td>30.000000</td>\n",
              "      <td>31.000000</td>\n",
              "    </tr>\n",
              "    <tr>\n",
              "      <th>item_cnt_month</th>\n",
              "      <td>0.000000</td>\n",
              "      <td>0.000000</td>\n",
              "      <td>0.0</td>\n",
              "      <td>0.000000</td>\n",
              "      <td>0.000000</td>\n",
              "    </tr>\n",
              "    <tr>\n",
              "      <th>shop_category</th>\n",
              "      <td>4.000000</td>\n",
              "      <td>4.000000</td>\n",
              "      <td>4.0</td>\n",
              "      <td>4.000000</td>\n",
              "      <td>4.000000</td>\n",
              "    </tr>\n",
              "    <tr>\n",
              "      <th>shop_city</th>\n",
              "      <td>0.000000</td>\n",
              "      <td>0.000000</td>\n",
              "      <td>0.0</td>\n",
              "      <td>0.000000</td>\n",
              "      <td>0.000000</td>\n",
              "    </tr>\n",
              "    <tr>\n",
              "      <th>item_category_id</th>\n",
              "      <td>19.000000</td>\n",
              "      <td>30.000000</td>\n",
              "      <td>23.0</td>\n",
              "      <td>40.000000</td>\n",
              "      <td>37.000000</td>\n",
              "    </tr>\n",
              "    <tr>\n",
              "      <th>name2</th>\n",
              "      <td>76.000000</td>\n",
              "      <td>107.000000</td>\n",
              "      <td>123.0</td>\n",
              "      <td>4.000000</td>\n",
              "      <td>4.000000</td>\n",
              "    </tr>\n",
              "    <tr>\n",
              "      <th>name3</th>\n",
              "      <td>42.000000</td>\n",
              "      <td>42.000000</td>\n",
              "      <td>42.0</td>\n",
              "      <td>42.000000</td>\n",
              "      <td>562.000000</td>\n",
              "    </tr>\n",
              "    <tr>\n",
              "      <th>subtype_code</th>\n",
              "      <td>10.000000</td>\n",
              "      <td>55.000000</td>\n",
              "      <td>16.0</td>\n",
              "      <td>4.000000</td>\n",
              "      <td>1.000000</td>\n",
              "    </tr>\n",
              "    <tr>\n",
              "      <th>type_code</th>\n",
              "      <td>3.000000</td>\n",
              "      <td>3.000000</td>\n",
              "      <td>3.0</td>\n",
              "      <td>5.000000</td>\n",
              "      <td>5.000000</td>\n",
              "    </tr>\n",
              "    <tr>\n",
              "      <th>item_cnt_month_lag_1</th>\n",
              "      <td>0.000000</td>\n",
              "      <td>0.000000</td>\n",
              "      <td>NaN</td>\n",
              "      <td>0.000000</td>\n",
              "      <td>1.000000</td>\n",
              "    </tr>\n",
              "    <tr>\n",
              "      <th>item_cnt_month_lag_2</th>\n",
              "      <td>0.000000</td>\n",
              "      <td>0.000000</td>\n",
              "      <td>NaN</td>\n",
              "      <td>1.000000</td>\n",
              "      <td>1.000000</td>\n",
              "    </tr>\n",
              "    <tr>\n",
              "      <th>item_cnt_month_lag_3</th>\n",
              "      <td>0.000000</td>\n",
              "      <td>0.000000</td>\n",
              "      <td>NaN</td>\n",
              "      <td>0.000000</td>\n",
              "      <td>4.000000</td>\n",
              "    </tr>\n",
              "    <tr>\n",
              "      <th>date_avg_item_cnt_lag_1</th>\n",
              "      <td>0.286865</td>\n",
              "      <td>0.286865</td>\n",
              "      <td>NaN</td>\n",
              "      <td>0.286865</td>\n",
              "      <td>0.286865</td>\n",
              "    </tr>\n",
              "    <tr>\n",
              "      <th>date_item_avg_item_cnt_lag_1</th>\n",
              "      <td>0.021744</td>\n",
              "      <td>0.130493</td>\n",
              "      <td>NaN</td>\n",
              "      <td>2.826172</td>\n",
              "      <td>1.260742</td>\n",
              "    </tr>\n",
              "    <tr>\n",
              "      <th>date_item_avg_item_cnt_lag_2</th>\n",
              "      <td>0.086975</td>\n",
              "      <td>0.152222</td>\n",
              "      <td>NaN</td>\n",
              "      <td>11.046875</td>\n",
              "      <td>4.781250</td>\n",
              "    </tr>\n",
              "    <tr>\n",
              "      <th>date_item_avg_item_cnt_lag_3</th>\n",
              "      <td>0.065247</td>\n",
              "      <td>0.173950</td>\n",
              "      <td>NaN</td>\n",
              "      <td>18.734375</td>\n",
              "      <td>13.648438</td>\n",
              "    </tr>\n",
              "    <tr>\n",
              "      <th>date_shop_avg_item_cnt_lag_1</th>\n",
              "      <td>0.071838</td>\n",
              "      <td>0.071838</td>\n",
              "      <td>NaN</td>\n",
              "      <td>0.071838</td>\n",
              "      <td>0.071838</td>\n",
              "    </tr>\n",
              "    <tr>\n",
              "      <th>date_shop_avg_item_cnt_lag_2</th>\n",
              "      <td>0.091064</td>\n",
              "      <td>0.091064</td>\n",
              "      <td>NaN</td>\n",
              "      <td>0.091064</td>\n",
              "      <td>0.091064</td>\n",
              "    </tr>\n",
              "    <tr>\n",
              "      <th>date_shop_avg_item_cnt_lag_3</th>\n",
              "      <td>0.059875</td>\n",
              "      <td>0.059875</td>\n",
              "      <td>NaN</td>\n",
              "      <td>0.059875</td>\n",
              "      <td>0.059875</td>\n",
              "    </tr>\n",
              "    <tr>\n",
              "      <th>date_shop_item_avg_item_cnt_lag_1</th>\n",
              "      <td>0.000000</td>\n",
              "      <td>0.000000</td>\n",
              "      <td>NaN</td>\n",
              "      <td>0.000000</td>\n",
              "      <td>1.000000</td>\n",
              "    </tr>\n",
              "    <tr>\n",
              "      <th>date_shop_item_avg_item_cnt_lag_2</th>\n",
              "      <td>0.000000</td>\n",
              "      <td>0.000000</td>\n",
              "      <td>NaN</td>\n",
              "      <td>1.000000</td>\n",
              "      <td>1.000000</td>\n",
              "    </tr>\n",
              "    <tr>\n",
              "      <th>date_shop_item_avg_item_cnt_lag_3</th>\n",
              "      <td>0.000000</td>\n",
              "      <td>0.000000</td>\n",
              "      <td>NaN</td>\n",
              "      <td>0.000000</td>\n",
              "      <td>4.000000</td>\n",
              "    </tr>\n",
              "    <tr>\n",
              "      <th>date_shop_subtype_avg_item_cnt_lag_1</th>\n",
              "      <td>0.449463</td>\n",
              "      <td>0.387207</td>\n",
              "      <td>NaN</td>\n",
              "      <td>0.018585</td>\n",
              "      <td>0.035919</td>\n",
              "    </tr>\n",
              "    <tr>\n",
              "      <th>date_city_avg_item_cnt_lag_1</th>\n",
              "      <td>0.071838</td>\n",
              "      <td>0.071838</td>\n",
              "      <td>NaN</td>\n",
              "      <td>0.071838</td>\n",
              "      <td>0.071838</td>\n",
              "    </tr>\n",
              "    <tr>\n",
              "      <th>date_item_city_avg_item_cnt_lag_1</th>\n",
              "      <td>0.000000</td>\n",
              "      <td>0.000000</td>\n",
              "      <td>NaN</td>\n",
              "      <td>0.000000</td>\n",
              "      <td>1.000000</td>\n",
              "    </tr>\n",
              "    <tr>\n",
              "      <th>delta_price_lag</th>\n",
              "      <td>0.367676</td>\n",
              "      <td>0.256348</td>\n",
              "      <td>0.0</td>\n",
              "      <td>0.212402</td>\n",
              "      <td>0.191040</td>\n",
              "    </tr>\n",
              "    <tr>\n",
              "      <th>delta_revenue_lag_1</th>\n",
              "      <td>37326.816406</td>\n",
              "      <td>37326.816406</td>\n",
              "      <td>NaN</td>\n",
              "      <td>37326.816406</td>\n",
              "      <td>37326.816406</td>\n",
              "    </tr>\n",
              "    <tr>\n",
              "      <th>month</th>\n",
              "      <td>4.000000</td>\n",
              "      <td>4.000000</td>\n",
              "      <td>4.0</td>\n",
              "      <td>4.000000</td>\n",
              "      <td>4.000000</td>\n",
              "    </tr>\n",
              "    <tr>\n",
              "      <th>days</th>\n",
              "      <td>31.000000</td>\n",
              "      <td>31.000000</td>\n",
              "      <td>31.0</td>\n",
              "      <td>31.000000</td>\n",
              "      <td>31.000000</td>\n",
              "    </tr>\n",
              "    <tr>\n",
              "      <th>item_shop_first_sale</th>\n",
              "      <td>4.000000</td>\n",
              "      <td>4.000000</td>\n",
              "      <td>4.0</td>\n",
              "      <td>3.000000</td>\n",
              "      <td>3.000000</td>\n",
              "    </tr>\n",
              "    <tr>\n",
              "      <th>item_first_sale</th>\n",
              "      <td>4.000000</td>\n",
              "      <td>4.000000</td>\n",
              "      <td>4.0</td>\n",
              "      <td>3.000000</td>\n",
              "      <td>3.000000</td>\n",
              "    </tr>\n",
              "  </tbody>\n",
              "</table>\n",
              "</div>"
            ],
            "text/plain": [
              "                                           1497465  ...       1497469\n",
              "date_block_num                            4.000000  ...      4.000000\n",
              "shop_id                                   2.000000  ...      2.000000\n",
              "item_id                                  27.000000  ...     31.000000\n",
              "item_cnt_month                            0.000000  ...      0.000000\n",
              "shop_category                             4.000000  ...      4.000000\n",
              "shop_city                                 0.000000  ...      0.000000\n",
              "item_category_id                         19.000000  ...     37.000000\n",
              "name2                                    76.000000  ...      4.000000\n",
              "name3                                    42.000000  ...    562.000000\n",
              "subtype_code                             10.000000  ...      1.000000\n",
              "type_code                                 3.000000  ...      5.000000\n",
              "item_cnt_month_lag_1                      0.000000  ...      1.000000\n",
              "item_cnt_month_lag_2                      0.000000  ...      1.000000\n",
              "item_cnt_month_lag_3                      0.000000  ...      4.000000\n",
              "date_avg_item_cnt_lag_1                   0.286865  ...      0.286865\n",
              "date_item_avg_item_cnt_lag_1              0.021744  ...      1.260742\n",
              "date_item_avg_item_cnt_lag_2              0.086975  ...      4.781250\n",
              "date_item_avg_item_cnt_lag_3              0.065247  ...     13.648438\n",
              "date_shop_avg_item_cnt_lag_1              0.071838  ...      0.071838\n",
              "date_shop_avg_item_cnt_lag_2              0.091064  ...      0.091064\n",
              "date_shop_avg_item_cnt_lag_3              0.059875  ...      0.059875\n",
              "date_shop_item_avg_item_cnt_lag_1         0.000000  ...      1.000000\n",
              "date_shop_item_avg_item_cnt_lag_2         0.000000  ...      1.000000\n",
              "date_shop_item_avg_item_cnt_lag_3         0.000000  ...      4.000000\n",
              "date_shop_subtype_avg_item_cnt_lag_1      0.449463  ...      0.035919\n",
              "date_city_avg_item_cnt_lag_1              0.071838  ...      0.071838\n",
              "date_item_city_avg_item_cnt_lag_1         0.000000  ...      1.000000\n",
              "delta_price_lag                           0.367676  ...      0.191040\n",
              "delta_revenue_lag_1                   37326.816406  ...  37326.816406\n",
              "month                                     4.000000  ...      4.000000\n",
              "days                                     31.000000  ...     31.000000\n",
              "item_shop_first_sale                      4.000000  ...      3.000000\n",
              "item_first_sale                           4.000000  ...      3.000000\n",
              "\n",
              "[33 rows x 5 columns]"
            ]
          },
          "metadata": {
            "tags": []
          },
          "execution_count": 38
        }
      ]
    },
    {
      "cell_type": "markdown",
      "metadata": {
        "id": "tASEsm2EMWuq",
        "colab_type": "text"
      },
      "source": [
        "# Modelling"
      ]
    },
    {
      "cell_type": "code",
      "metadata": {
        "id": "qwkJzseVMWur",
        "colab_type": "code",
        "colab": {}
      },
      "source": [
        "rcParams['figure.figsize'] = 12, 4"
      ],
      "execution_count": 39,
      "outputs": []
    },
    {
      "cell_type": "code",
      "metadata": {
        "id": "VPNBVzSZMWuz",
        "colab_type": "code",
        "colab": {
          "base_uri": "https://localhost:8080/",
          "height": 34
        },
        "outputId": "317e2238-6d91-4960-f18a-6a17bbe08974"
      },
      "source": [
        "data = matrix.copy()\n",
        "del matrix\n",
        "gc.collect()"
      ],
      "execution_count": 40,
      "outputs": [
        {
          "output_type": "execute_result",
          "data": {
            "text/plain": [
              "23"
            ]
          },
          "metadata": {
            "tags": []
          },
          "execution_count": 40
        }
      ]
    },
    {
      "cell_type": "code",
      "metadata": {
        "id": "cPZVcUhQMWu3",
        "colab_type": "code",
        "colab": {
          "base_uri": "https://localhost:8080/",
          "height": 34
        },
        "outputId": "3527e0f0-43c7-4b5a-e256-d3f41f9f1d40"
      },
      "source": [
        "data[data[\"date_block_num\"]==34].shape"
      ],
      "execution_count": 41,
      "outputs": [
        {
          "output_type": "execute_result",
          "data": {
            "text/plain": [
              "(214200, 33)"
            ]
          },
          "metadata": {
            "tags": []
          },
          "execution_count": 41
        }
      ]
    },
    {
      "cell_type": "markdown",
      "metadata": {
        "id": "w3qkcSzbMWu7",
        "colab_type": "text"
      },
      "source": [
        "Use month 34 as validation for training."
      ]
    },
    {
      "cell_type": "code",
      "metadata": {
        "id": "U31mzlnQMWu8",
        "colab_type": "code",
        "colab": {}
      },
      "source": [
        "X_train = data[data.date_block_num < 33].drop(['item_cnt_month'], axis=1)\n",
        "Y_train = data[data.date_block_num < 33]['item_cnt_month']\n",
        "X_valid = data[data.date_block_num == 33].drop(['item_cnt_month'], axis=1)\n",
        "Y_valid = data[data.date_block_num == 33]['item_cnt_month']\n",
        "X_test = data[data.date_block_num == 34].drop(['item_cnt_month'], axis=1)"
      ],
      "execution_count": 42,
      "outputs": []
    },
    {
      "cell_type": "code",
      "metadata": {
        "id": "2SxmMwDlMWu_",
        "colab_type": "code",
        "colab": {}
      },
      "source": [
        "Y_train = Y_train.clip(0, 20)\n",
        "Y_valid = Y_valid.clip(0, 20)"
      ],
      "execution_count": 43,
      "outputs": []
    },
    {
      "cell_type": "code",
      "metadata": {
        "id": "IsQbE06pMWvF",
        "colab_type": "code",
        "colab": {}
      },
      "source": [
        "del data\n",
        "gc.collect();"
      ],
      "execution_count": 44,
      "outputs": []
    },
    {
      "cell_type": "code",
      "metadata": {
        "id": "fmL-Oi0qMWvK",
        "colab_type": "code",
        "colab": {
          "base_uri": "https://localhost:8080/",
          "height": 632
        },
        "outputId": "205ef9a7-a9f5-4ac2-a4bc-c6209b36603c"
      },
      "source": [
        "ts = time.time()\n",
        "\n",
        "model = XGBRegressor(\n",
        "    max_depth=10,\n",
        "    n_estimators=1000,\n",
        "    min_child_weight=0.5, \n",
        "    colsample_bytree=0.8, \n",
        "    subsample=0.8, \n",
        "    eta=0.1,\n",
        "#     tree_method='gpu_hist',\n",
        "    seed=42)\n",
        "\n",
        "model.fit(\n",
        "    X_train, \n",
        "    Y_train, \n",
        "    eval_metric=\"rmse\", \n",
        "    eval_set=[(X_train, Y_train), (X_valid, Y_valid)], \n",
        "    verbose=True, \n",
        "    early_stopping_rounds = 20)\n",
        "\n",
        "time.time() - ts"
      ],
      "execution_count": null,
      "outputs": [
        {
          "output_type": "stream",
          "text": [
            "[22:16:24] WARNING: /workspace/src/objective/regression_obj.cu:152: reg:linear is now deprecated in favor of reg:squarederror.\n",
            "[22:16:24] WARNING: /workspace/src/learner.cc:686: Tree method is automatically selected to be 'approx' for faster speed. To use old behavior (exact greedy algorithm on single machine), set tree_method to 'exact'.\n",
            "[0]\tvalidation_0-rmse:1.17505\tvalidation_1-rmse:1.11774\n",
            "Multiple eval metrics have been passed: 'validation_1-rmse' will be used for early stopping.\n",
            "\n",
            "Will train until validation_1-rmse hasn't improved in 20 rounds.\n",
            "[1]\tvalidation_0-rmse:1.12664\tvalidation_1-rmse:1.07892\n",
            "[2]\tvalidation_0-rmse:1.08246\tvalidation_1-rmse:1.04666\n",
            "[3]\tvalidation_0-rmse:1.04453\tvalidation_1-rmse:1.01916\n",
            "[4]\tvalidation_0-rmse:1.01356\tvalidation_1-rmse:0.997888\n",
            "[5]\tvalidation_0-rmse:0.985648\tvalidation_1-rmse:0.980765\n",
            "[6]\tvalidation_0-rmse:0.961496\tvalidation_1-rmse:0.965267\n",
            "[7]\tvalidation_0-rmse:0.941918\tvalidation_1-rmse:0.953829\n",
            "[8]\tvalidation_0-rmse:0.925051\tvalidation_1-rmse:0.944237\n",
            "[9]\tvalidation_0-rmse:0.909819\tvalidation_1-rmse:0.936163\n",
            "[10]\tvalidation_0-rmse:0.89721\tvalidation_1-rmse:0.929238\n",
            "[11]\tvalidation_0-rmse:0.886446\tvalidation_1-rmse:0.923473\n",
            "[12]\tvalidation_0-rmse:0.877293\tvalidation_1-rmse:0.919939\n",
            "[13]\tvalidation_0-rmse:0.868676\tvalidation_1-rmse:0.916148\n",
            "[14]\tvalidation_0-rmse:0.861479\tvalidation_1-rmse:0.912489\n",
            "[15]\tvalidation_0-rmse:0.855306\tvalidation_1-rmse:0.910145\n",
            "[16]\tvalidation_0-rmse:0.849322\tvalidation_1-rmse:0.909335\n",
            "[17]\tvalidation_0-rmse:0.844478\tvalidation_1-rmse:0.90826\n",
            "[18]\tvalidation_0-rmse:0.839405\tvalidation_1-rmse:0.906646\n",
            "[19]\tvalidation_0-rmse:0.835218\tvalidation_1-rmse:0.905587\n",
            "[20]\tvalidation_0-rmse:0.83124\tvalidation_1-rmse:0.904266\n",
            "[21]\tvalidation_0-rmse:0.828426\tvalidation_1-rmse:0.903358\n",
            "[22]\tvalidation_0-rmse:0.824082\tvalidation_1-rmse:0.904494\n",
            "[23]\tvalidation_0-rmse:0.821614\tvalidation_1-rmse:0.903654\n",
            "[24]\tvalidation_0-rmse:0.818772\tvalidation_1-rmse:0.90288\n",
            "[25]\tvalidation_0-rmse:0.816769\tvalidation_1-rmse:0.902598\n",
            "[26]\tvalidation_0-rmse:0.81433\tvalidation_1-rmse:0.90119\n",
            "[27]\tvalidation_0-rmse:0.812055\tvalidation_1-rmse:0.900114\n",
            "[28]\tvalidation_0-rmse:0.810329\tvalidation_1-rmse:0.899522\n",
            "[29]\tvalidation_0-rmse:0.808656\tvalidation_1-rmse:0.898989\n"
          ],
          "name": "stdout"
        }
      ]
    },
    {
      "cell_type": "code",
      "metadata": {
        "id": "G-1cRli5MWvN",
        "colab_type": "code",
        "colab": {}
      },
      "source": [
        "Y_pred = model.predict(X_valid).clip(0, 20)\n",
        "Y_test = model.predict(X_test).clip(0, 20)\n",
        "\n",
        "submission = pd.DataFrame({\n",
        "    \"ID\": test.index, \n",
        "    \"item_cnt_month\": Y_test\n",
        "})\n",
        "submission.to_csv('xgb_submission.csv', index=False)"
      ],
      "execution_count": null,
      "outputs": []
    },
    {
      "cell_type": "code",
      "metadata": {
        "id": "VvrW7GQhMWvS",
        "colab_type": "code",
        "colab": {}
      },
      "source": [
        "def plot_features(booster, figsize):    \n",
        "    fig, ax = plt.subplots(1,1,figsize=figsize)\n",
        "    return plot_importance(booster=booster, ax=ax)\n",
        "\n",
        "plot_features(model, (10,14))"
      ],
      "execution_count": null,
      "outputs": []
    }
  ]
}